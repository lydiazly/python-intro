{
 "cells": [
  {
   "cell_type": "markdown",
   "metadata": {},
   "source": [
    "# Python 进阶 (lecture for Solar Group)"
   ]
  },
  {
   "cell_type": "markdown",
   "metadata": {
    "hide_input": true,
    "toc": true
   },
   "source": [
    "<h1><span class=\"tocSkip\"></span></h1>\n",
    "<div class=\"toc\"><ul class=\"toc-item\"><li><span><a href=\"#Anaconda\" data-toc-modified-id=\"Anaconda-1\"><span class=\"toc-item-num\">1&nbsp;&nbsp;</span>Anaconda</a></span></li><li><span><a href=\"#IPython-&amp;-Jupyter\" data-toc-modified-id=\"IPython-&amp;-Jupyter-2\"><span class=\"toc-item-num\">2&nbsp;&nbsp;</span>IPython &amp; Jupyter</a></span></li><li><span><a href=\"#语法细节\" data-toc-modified-id=\"语法细节-3\"><span class=\"toc-item-num\">3&nbsp;&nbsp;</span>语法细节</a></span><ul class=\"toc-item\"><li><span><a href=\"#python2-&amp;-python3\" data-toc-modified-id=\"python2-&amp;-python3-3.1\"><span class=\"toc-item-num\">3.1&nbsp;&nbsp;</span>python2 &amp; python3</a></span></li><li><span><a href=\"#list,-tuple\" data-toc-modified-id=\"list,-tuple-3.2\"><span class=\"toc-item-num\">3.2&nbsp;&nbsp;</span>list, tuple</a></span></li><li><span><a href=\"#dict\" data-toc-modified-id=\"dict-3.3\"><span class=\"toc-item-num\">3.3&nbsp;&nbsp;</span>dict</a></span></li><li><span><a href=\"#set\" data-toc-modified-id=\"set-3.4\"><span class=\"toc-item-num\">3.4&nbsp;&nbsp;</span>set</a></span></li><li><span><a href=\"#一些特性的演示\" data-toc-modified-id=\"一些特性的演示-3.5\"><span class=\"toc-item-num\">3.5&nbsp;&nbsp;</span>一些特性的演示</a></span></li><li><span><a href=\"#包含判断的单行循环\" data-toc-modified-id=\"包含判断的单行循环-3.6\"><span class=\"toc-item-num\">3.6&nbsp;&nbsp;</span>包含判断的单行循环</a></span></li><li><span><a href=\"#单行-if-(三元关系运算)\" data-toc-modified-id=\"单行-if-(三元关系运算)-3.7\"><span class=\"toc-item-num\">3.7&nbsp;&nbsp;</span>单行 if (三元关系运算)</a></span></li><li><span><a href=\"#循环,-迭代器,-生成器\" data-toc-modified-id=\"循环,-迭代器,-生成器-3.8\"><span class=\"toc-item-num\">3.8&nbsp;&nbsp;</span>循环, 迭代器, 生成器</a></span></li><li><span><a href=\"#函数定义\" data-toc-modified-id=\"函数定义-3.9\"><span class=\"toc-item-num\">3.9&nbsp;&nbsp;</span>函数定义</a></span></li><li><span><a href=\"#命名空间和变量作用域\" data-toc-modified-id=\"命名空间和变量作用域-3.10\"><span class=\"toc-item-num\">3.10&nbsp;&nbsp;</span>命名空间和变量作用域</a></span></li></ul></li><li><span><a href=\"#NumPy\" data-toc-modified-id=\"NumPy-4\"><span class=\"toc-item-num\">4&nbsp;&nbsp;</span>NumPy</a></span><ul class=\"toc-item\"><li><span><a href=\"#numpy-的数据类型-dtype\" data-toc-modified-id=\"numpy-的数据类型-dtype-4.1\"><span class=\"toc-item-num\">4.1&nbsp;&nbsp;</span>numpy 的数据类型 dtype</a></span></li><li><span><a href=\"#np.arange-参数为浮点数时要注意的细节\" data-toc-modified-id=\"np.arange-参数为浮点数时要注意的细节-4.2\"><span class=\"toc-item-num\">4.2&nbsp;&nbsp;</span>np.arange 参数为浮点数时要注意的细节</a></span></li><li><span><a href=\"#矩阵\" data-toc-modified-id=\"矩阵-4.3\"><span class=\"toc-item-num\">4.3&nbsp;&nbsp;</span>矩阵</a></span></li><li><span><a href=\"#数组和矩阵运算\" data-toc-modified-id=\"数组和矩阵运算-4.4\"><span class=\"toc-item-num\">4.4&nbsp;&nbsp;</span>数组和矩阵运算</a></span><ul class=\"toc-item\"><li><span><a href=\"#数组运算\" data-toc-modified-id=\"数组运算-4.4.1\"><span class=\"toc-item-num\">4.4.1&nbsp;&nbsp;</span>数组运算</a></span></li><li><span><a href=\"#使用数组进行矩阵运算\" data-toc-modified-id=\"使用数组进行矩阵运算-4.4.2\"><span class=\"toc-item-num\">4.4.2&nbsp;&nbsp;</span>使用数组进行矩阵运算</a></span></li><li><span><a href=\"#直接使用矩阵类型进行运算\" data-toc-modified-id=\"直接使用矩阵类型进行运算-4.4.3\"><span class=\"toc-item-num\">4.4.3&nbsp;&nbsp;</span>直接使用矩阵类型进行运算</a></span></li></ul></li><li><span><a href=\"#用作坐标格点的数组的几种形式\" data-toc-modified-id=\"用作坐标格点的数组的几种形式-4.5\"><span class=\"toc-item-num\">4.5&nbsp;&nbsp;</span>用作坐标格点的数组的几种形式</a></span></li><li><span><a href=\"#mask\" data-toc-modified-id=\"mask-4.6\"><span class=\"toc-item-num\">4.6&nbsp;&nbsp;</span>mask</a></span></li><li><span><a href=\"#其他对数组元素的处理\" data-toc-modified-id=\"其他对数组元素的处理-4.7\"><span class=\"toc-item-num\">4.7&nbsp;&nbsp;</span>其他对数组元素的处理</a></span></li></ul></li><li><span><a href=\"#Matplotlib\" data-toc-modified-id=\"Matplotlib-5\"><span class=\"toc-item-num\">5&nbsp;&nbsp;</span>Matplotlib</a></span></li><li><span><a href=\"#SunPy-示例\" data-toc-modified-id=\"SunPy-示例-6\"><span class=\"toc-item-num\">6&nbsp;&nbsp;</span>SunPy 示例</a></span><ul class=\"toc-item\"><li><span><a href=\"#示例文件\" data-toc-modified-id=\"示例文件-6.1\"><span class=\"toc-item-num\">6.1&nbsp;&nbsp;</span>示例文件</a></span></li><li><span><a href=\"#示例中的-fits-读取方法\" data-toc-modified-id=\"示例中的-fits-读取方法-6.2\"><span class=\"toc-item-num\">6.2&nbsp;&nbsp;</span>示例中的 fits 读取方法</a></span></li><li><span><a href=\"#关于-Scaled-Image-Data\" data-toc-modified-id=\"关于-Scaled-Image-Data-6.3\"><span class=\"toc-item-num\">6.3&nbsp;&nbsp;</span>关于 Scaled Image Data</a></span></li><li><span><a href=\"#坐标和单位\" data-toc-modified-id=\"坐标和单位-6.4\"><span class=\"toc-item-num\">6.4&nbsp;&nbsp;</span>坐标和单位</a></span></li><li><span><a href=\"#语法对比\" data-toc-modified-id=\"语法对比-6.5\"><span class=\"toc-item-num\">6.5&nbsp;&nbsp;</span>语法对比</a></span></li></ul></li><li><span><a href=\"#插值,-拟合\" data-toc-modified-id=\"插值,-拟合-7\"><span class=\"toc-item-num\">7&nbsp;&nbsp;</span>插值, 拟合</a></span><ul class=\"toc-item\"><li><span><a href=\"#插值\" data-toc-modified-id=\"插值-7.1\"><span class=\"toc-item-num\">7.1&nbsp;&nbsp;</span>插值</a></span></li><li><span><a href=\"#求极值\" data-toc-modified-id=\"求极值-7.2\"><span class=\"toc-item-num\">7.2&nbsp;&nbsp;</span>求极值</a></span></li><li><span><a href=\"#拟合\" data-toc-modified-id=\"拟合-7.3\"><span class=\"toc-item-num\">7.3&nbsp;&nbsp;</span>拟合</a></span></li><li><span><a href=\"#其他\" data-toc-modified-id=\"其他-7.4\"><span class=\"toc-item-num\">7.4&nbsp;&nbsp;</span>其他</a></span></li></ul></li><li><span><a href=\"#copy-注意事项\" data-toc-modified-id=\"copy-注意事项-8\"><span class=\"toc-item-num\">8&nbsp;&nbsp;</span>copy 注意事项</a></span></li><li><span><a href=\"#其他格式文件读写\" data-toc-modified-id=\"其他格式文件读写-9\"><span class=\"toc-item-num\">9&nbsp;&nbsp;</span>其他格式文件读写</a></span><ul class=\"toc-item\"><li><span><a href=\"#用-pandas-读-csv\" data-toc-modified-id=\"用-pandas-读-csv-9.1\"><span class=\"toc-item-num\">9.1&nbsp;&nbsp;</span>用 pandas 读 csv</a></span></li><li><span><a href=\"#Fortran-二进制文件读写\" data-toc-modified-id=\"Fortran-二进制文件读写-9.2\"><span class=\"toc-item-num\">9.2&nbsp;&nbsp;</span>Fortran 二进制文件读写</a></span><ul class=\"toc-item\"><li><span><a href=\"#Unformatted-(sequential)\" data-toc-modified-id=\"Unformatted-(sequential)-9.2.1\"><span class=\"toc-item-num\">9.2.1&nbsp;&nbsp;</span>Unformatted (sequential)</a></span></li><li><span><a href=\"#Unformatted-(stream)\" data-toc-modified-id=\"Unformatted-(stream)-9.2.2\"><span class=\"toc-item-num\">9.2.2&nbsp;&nbsp;</span>Unformatted (stream)</a></span></li></ul></li><li><span><a href=\"#HDF5-文件读写,-NCDF,-CDF-文件读取\" data-toc-modified-id=\"HDF5-文件读写,-NCDF,-CDF-文件读取-9.3\"><span class=\"toc-item-num\">9.3&nbsp;&nbsp;</span>HDF5 文件读写, NCDF, CDF 文件读取</a></span><ul class=\"toc-item\"><li><span><a href=\"#读写-HDF5-文件,-读-NCDF-文件\" data-toc-modified-id=\"读写-HDF5-文件,-读-NCDF-文件-9.3.1\"><span class=\"toc-item-num\">9.3.1&nbsp;&nbsp;</span>读写 HDF5 文件, 读 NCDF 文件</a></span></li><li><span><a href=\"#大小比较\" data-toc-modified-id=\"大小比较-9.3.2\"><span class=\"toc-item-num\">9.3.2&nbsp;&nbsp;</span>大小比较</a></span></li><li><span><a href=\"#读取-CDF-文件\" data-toc-modified-id=\"读取-CDF-文件-9.3.3\"><span class=\"toc-item-num\">9.3.3&nbsp;&nbsp;</span>读取 CDF 文件</a></span></li></ul></li><li><span><a href=\"#NumPy-to-VTK\" data-toc-modified-id=\"NumPy-to-VTK-9.4\"><span class=\"toc-item-num\">9.4&nbsp;&nbsp;</span>NumPy to VTK</a></span></li><li><span><a href=\"#Matlab-mat-文件读写\" data-toc-modified-id=\"Matlab-mat-文件读写-9.5\"><span class=\"toc-item-num\">9.5&nbsp;&nbsp;</span>Matlab mat 文件读写</a></span></li></ul></li><li><span><a href=\"#脚本相关\" data-toc-modified-id=\"脚本相关-10\"><span class=\"toc-item-num\">10&nbsp;&nbsp;</span>脚本相关</a></span><ul class=\"toc-item\"><li><span><a href=\"#脚本结构\" data-toc-modified-id=\"脚本结构-10.1\"><span class=\"toc-item-num\">10.1&nbsp;&nbsp;</span>脚本结构</a></span></li><li><span><a href=\"#try-...-except-...-语法\" data-toc-modified-id=\"try-...-except-...-语法-10.2\"><span class=\"toc-item-num\">10.2&nbsp;&nbsp;</span>try ... except ... 语法</a></span></li><li><span><a href=\"#Paraview-脚本\" data-toc-modified-id=\"Paraview-脚本-10.3\"><span class=\"toc-item-num\">10.3&nbsp;&nbsp;</span>Paraview 脚本</a></span></li><li><span><a href=\"#Python-2-->-3-的转换\" data-toc-modified-id=\"Python-2-->-3-的转换-10.4\"><span class=\"toc-item-num\">10.4&nbsp;&nbsp;</span>Python 2 -&gt; 3 的转换</a></span></li><li><span><a href=\"#执行-shell-命令\" data-toc-modified-id=\"执行-shell-命令-10.5\"><span class=\"toc-item-num\">10.5&nbsp;&nbsp;</span>执行 shell 命令</a></span></li><li><span><a href=\"#脚本选项\" data-toc-modified-id=\"脚本选项-10.6\"><span class=\"toc-item-num\">10.6&nbsp;&nbsp;</span>脚本选项</a></span></li><li><span><a href=\"#处理-warnings\" data-toc-modified-id=\"处理-warnings-10.7\"><span class=\"toc-item-num\">10.7&nbsp;&nbsp;</span>处理 warnings</a></span></li></ul></li><li><span><a href=\"#urllib,-requests\" data-toc-modified-id=\"urllib,-requests-11\"><span class=\"toc-item-num\">11&nbsp;&nbsp;</span>urllib, requests</a></span></li></ul></div>"
   ]
  },
  {
   "cell_type": "markdown",
   "metadata": {},
   "source": [
    "## Anaconda"
   ]
  },
  {
   "cell_type": "markdown",
   "metadata": {},
   "source": [
    "> A **conda package** is a compressed tarball file that contains system-level libraries,\n",
    "Python or other modules, executable programs and other components.\n",
    "**Conda** keeps track of the dependencies between packages and platforms.<br>\n",
    "(https://conda.io/docs/user-guide/concepts.html)\n",
    "\n",
    "* 凡使用 <span style=\"color:blue\">pip install</span> 安装的包均为编译安装, <span style=\"color:blue\">conda install</span> 安装的则为编译好的二进制包.\n",
    "* conda 包可以打包其他语言, pip 包容易出现系统依赖问题\n",
    "* conda 包的依赖管理更完善\n",
    "* conda 环境下仍可使用 pip 进行安装, 但所使用的 pip 命令和系统中的 pip 互不影响, 安装的包的位置也在 conda 本身的目录下.\n",
    "* 每个环境互不影响, 各环境下的包虽然必须分别安装 (也可以 clone 一个现有环境),<br>\n",
    "  但如果有不同环境中有重复的包 conda 将默认使用 *hard link*.\n",
    "\n",
    "(更多讨论参考 http://jakevdp.github.io/blog/2016/08/25/conda-myths-and-misconceptions/)\n",
    "\n",
    "<img style='float: left;' src='fig/Screenshot_20180617-181206.png' width='650'/>"
   ]
  },
  {
   "cell_type": "markdown",
   "metadata": {},
   "source": [
    "* python 位置 (未使用 conda 时)"
   ]
  },
  {
   "cell_type": "markdown",
   "metadata": {},
   "source": [
    "使用\n",
    "```\n",
    "$ python -m site\n",
    "```\n",
    "可以看到有哪些目录.\n",
    "\n",
    "三个部分:\n",
    "\n",
    "- **root**\n",
    "<pre>\n",
    "/<span style=\"color:#800080\"><b>usr</b></span>/lib/...\n",
    "/<span style=\"color:#800080\"><b>usr</b></span>/bin/...\n",
    "</pre>\n",
    "\n",
    "- **user**\n",
    "<pre>\n",
    "/home/&lt;user&gt;/<span style=\"color:#800080\"><b>.local</b></span>/lib/...\n",
    "/home/&lt;user&gt;/<span style=\"color:#800080\"><b>.local</b></span>/bin/...\n",
    "</pre>\n",
    "\n",
    "- **anaconda/miniconda**\n",
    "<pre>\n",
    "/home/&lt;user&gt;/<b><span style=\"color:#800080\">miniconda3</span></b>/</span>/lib/...\n",
    "/home/&lt;user&gt;/<b><span style=\"color:#800080\">miniconda3</span></b>/</span>/bin/...\n",
    "</pre>\n",
    "\n",
    "* conda 目录结构 (安装之后自动修改了软连接, 修改环境变量后系统优先使用这个位置)\n",
    "\n",
    "<pre>\n",
    "/home/&lt;user&gt;/<span style=\"color:#800080\"><b>miniconda3/</b></span>\n",
    "    ├── <span style=\"color:navy\"><b>pkgs/</b></span>\n",
    "    ├── <span style=\"color:dimgray\"><b>bin/</b></span>\n",
    "    │        ├── <span style=\"color:magenta\">python</span> -&gt; <span style=\"color:green\">python3.6</span>\n",
    "    │        ├── <span style=\"color:magenta\">python3</span> -&gt; <span style=\"color:green\">python3.6</span>\n",
    "    │        ├── <span style=\"color:green\">python3.6</span>\n",
    "    │        ├── <span style=\"color:green\">jupyter</span>\n",
    "    │        ├── <span style=\"color:green\">h5dump</span>\n",
    "    │        └── ...\n",
    "    ├── <span style=\"color:dimgray\"><b>include/</b></span>\n",
    "    ├── <span style=\"color:dimgray\"><b>lib/</b></span>\n",
    "    ├── <span style=\"color:dimgray\"><b>share/</b></span>\n",
    "    ├── <span style=\"color:navy\"><b>envs</b></span>\n",
    "    │        ├── <span style=\"color:blue\"><b>env1/</b></span>\n",
    "    │        │        ├── <span style=\"color:dimgray\"><b>bin/</b></span>\n",
    "    │        │        ├── <span style=\"color:dimgray\"><b>include/</b></span>\n",
    "    │        │        ├── <span style=\"color:dimgray\"><b>lib/</b></span>\n",
    "    │        │        ├── <span style=\"color:dimgray\"><b>share/</b></span>\n",
    "    │        │        └── ...\n",
    "    │        ├── <span style=\"color:blue\"><b>env2/</b></span>\n",
    "    │        └── ...\n",
    "    └── ...\n",
    "</pre>"
   ]
  },
  {
   "cell_type": "markdown",
   "metadata": {},
   "source": [
    "## IPython & Jupyter"
   ]
  },
  {
   "cell_type": "markdown",
   "metadata": {},
   "source": [
    "参考文档\n",
    "http://jupyter-notebook.readthedocs.io/en/stable/"
   ]
  },
  {
   "cell_type": "markdown",
   "metadata": {},
   "source": [
    "* 配置文件路径"
   ]
  },
  {
   "cell_type": "markdown",
   "metadata": {},
   "source": [
    "一般用户配置文件在 `~/.jupyter`"
   ]
  },
  {
   "cell_type": "code",
   "execution_count": 19,
   "metadata": {},
   "outputs": [
    {
     "name": "stdout",
     "output_type": "stream",
     "text": [
      "config:\r\n",
      "    /home/lydia/.jupyter\r\n",
      "    /home/lydia/miniconda3/etc/jupyter\r\n",
      "    /usr/local/etc/jupyter\r\n",
      "    /etc/jupyter\r\n",
      "data:\r\n",
      "    /home/lydia/.local/share/jupyter\r\n",
      "    /home/lydia/miniconda3/share/jupyter\r\n",
      "    /usr/local/share/jupyter\r\n",
      "    /usr/share/jupyter\r\n",
      "runtime:\r\n",
      "    /run/user/1000/jupyter\r\n"
     ]
    }
   ],
   "source": [
    "!jupyter --paths"
   ]
  },
  {
   "cell_type": "markdown",
   "metadata": {},
   "source": [
    "* 列出所有 magic functions:"
   ]
  },
  {
   "cell_type": "code",
   "execution_count": null,
   "metadata": {},
   "outputs": [],
   "source": [
    "%lsmagic"
   ]
  },
  {
   "cell_type": "markdown",
   "metadata": {},
   "source": [
    "* 运行脚本:"
   ]
  },
  {
   "cell_type": "code",
   "execution_count": null,
   "metadata": {
    "deletable": false,
    "editable": false,
    "run_control": {
     "frozen": true
    }
   },
   "outputs": [],
   "source": [
    "%run script.py\n",
    "%run script.ipynb"
   ]
  },
  {
   "cell_type": "markdown",
   "metadata": {},
   "source": [
    "* 在单个 Cell 中调用其他语言 (子进程):"
   ]
  },
  {
   "cell_type": "code",
   "execution_count": 26,
   "metadata": {
    "code_folding": []
   },
   "outputs": [
    {
     "name": "stdout",
     "output_type": "stream",
     "text": [
      "/home/lydia/miniconda3\n"
     ]
    }
   ],
   "source": [
    "%%sh\n",
    "cd ~/miniconda3/\n",
    "pwd"
   ]
  },
  {
   "cell_type": "markdown",
   "metadata": {},
   "source": [
    "可以看到实际并未改变当前目录 (因为是子进程):"
   ]
  },
  {
   "cell_type": "code",
   "execution_count": 33,
   "metadata": {},
   "outputs": [
    {
     "data": {
      "text/plain": [
       "'/home/lydia/codes/zly/python/python-intro'"
      ]
     },
     "execution_count": 33,
     "metadata": {},
     "output_type": "execute_result"
    }
   ],
   "source": [
    "pwd"
   ]
  },
  {
   "cell_type": "code",
   "execution_count": 14,
   "metadata": {
    "code_folding": []
   },
   "outputs": [
    {
     "name": "stdout",
     "output_type": "stream",
     "text": [
      "/home/lydia/codes/zly/python/python-intro\n"
     ]
    },
    {
     "name": "stderr",
     "output_type": "stream",
     "text": [
      "IDL Version 8.2.1 (linux x86_64 m64). (c) 2012, Exelis Visual Information Solutions, Inc.\n",
      "\n"
     ]
    }
   ],
   "source": [
    "%%script idl\n",
    "cd, current=d\n",
    "print, d"
   ]
  },
  {
   "cell_type": "markdown",
   "metadata": {},
   "source": [
    "* 逐行使用 bash 命令 (注意不加 '!' 的区别):"
   ]
  },
  {
   "cell_type": "code",
   "execution_count": null,
   "metadata": {},
   "outputs": [],
   "source": [
    "!idl -e field3dgui"
   ]
  },
  {
   "cell_type": "code",
   "execution_count": null,
   "metadata": {},
   "outputs": [],
   "source": [
    "!ls ./"
   ]
  },
  {
   "cell_type": "markdown",
   "metadata": {},
   "source": [
    "得到的结果可以存入变量:"
   ]
  },
  {
   "cell_type": "code",
   "execution_count": 11,
   "metadata": {},
   "outputs": [
    {
     "data": {
      "text/plain": [
       "'/home/lydia/python-intro'"
      ]
     },
     "execution_count": 11,
     "metadata": {},
     "output_type": "execute_result"
    }
   ],
   "source": [
    "current, = !pwd  # returns a list\n",
    "current"
   ]
  },
  {
   "cell_type": "markdown",
   "metadata": {},
   "source": [
    "下面这两句不能写在一个 Cell 中:"
   ]
  },
  {
   "cell_type": "code",
   "execution_count": 29,
   "metadata": {},
   "outputs": [],
   "source": [
    "cd -q ~/miniconda3/"
   ]
  },
  {
   "cell_type": "code",
   "execution_count": 30,
   "metadata": {},
   "outputs": [
    {
     "data": {
      "text/plain": [
       "'/home/lydia/miniconda3'"
      ]
     },
     "execution_count": 30,
     "metadata": {},
     "output_type": "execute_result"
    }
   ],
   "source": [
    "pwd"
   ]
  },
  {
   "cell_type": "markdown",
   "metadata": {},
   "source": [
    "用 `{var}` (推荐) 或 `$var` (不推荐) 调用当前 ipython 环境的变量:"
   ]
  },
  {
   "cell_type": "code",
   "execution_count": 12,
   "metadata": {
    "cell_style": "center"
   },
   "outputs": [
    {
     "name": "stdout",
     "output_type": "stream",
     "text": [
      "/home/lydia/codes/zly/python/python-intro\n"
     ]
    }
   ],
   "source": [
    "cd {current}"
   ]
  },
  {
   "cell_type": "code",
   "execution_count": 13,
   "metadata": {
    "cell_style": "split"
   },
   "outputs": [
    {
     "name": "stdout",
     "output_type": "stream",
     "text": [
      "/home/lydia/codes/zly/python/python-intro\n"
     ]
    }
   ],
   "source": [
    "cd \"$current\""
   ]
  },
  {
   "cell_type": "code",
   "execution_count": 14,
   "metadata": {
    "cell_style": "split"
   },
   "outputs": [
    {
     "name": "stdout",
     "output_type": "stream",
     "text": [
      "/home/lydia/codes/zly/python/python-intro\n"
     ]
    }
   ],
   "source": [
    "cd $current"
   ]
  },
  {
   "cell_type": "markdown",
   "metadata": {},
   "source": [
    "见 http://mmcdan.github.io/posts/interacting-with-the-shell-via-jupyter-notebook/"
   ]
  },
  {
   "cell_type": "markdown",
   "metadata": {},
   "source": [
    "* 列出当前的变量信息"
   ]
  },
  {
   "cell_type": "code",
   "execution_count": 7,
   "metadata": {},
   "outputs": [
    {
     "name": "stdout",
     "output_type": "stream",
     "text": [
      "Variable   Type    Data/Info\n",
      "----------------------------\n",
      "a          int     1\n",
      "b          str     x\n"
     ]
    }
   ],
   "source": [
    "a = 1\n",
    "b = 'x'\n",
    "\n",
    "%whos int str"
   ]
  },
  {
   "cell_type": "markdown",
   "metadata": {},
   "source": [
    "## 语法细节"
   ]
  },
  {
   "cell_type": "markdown",
   "metadata": {},
   "source": [
    "### python2 & python3"
   ]
  },
  {
   "cell_type": "code",
   "execution_count": 3,
   "metadata": {
    "cell_style": "split",
    "code_folding": []
   },
   "outputs": [
    {
     "name": "stdout",
     "output_type": "stream",
     "text": [
      "0\n",
      "0\n"
     ]
    }
   ],
   "source": [
    "%%python2\n",
    "print 1 / 2\n",
    "print 1 // 2"
   ]
  },
  {
   "cell_type": "code",
   "execution_count": 4,
   "metadata": {
    "cell_style": "split"
   },
   "outputs": [
    {
     "name": "stdout",
     "output_type": "stream",
     "text": [
      "0.5\n",
      "0\n"
     ]
    }
   ],
   "source": [
    "%%python3\n",
    "print(1 / 2)\n",
    "print(1 // 2)"
   ]
  },
  {
   "cell_type": "markdown",
   "metadata": {},
   "source": [
    "详见 [Python 2 -> 3 的转换](#Python-2-->-3-的转换)"
   ]
  },
  {
   "cell_type": "markdown",
   "metadata": {},
   "source": [
    "### list, tuple"
   ]
  },
  {
   "cell_type": "markdown",
   "metadata": {},
   "source": [
    "* 对 list 或 tuple, 当只有一个元素时, 注意加逗号:"
   ]
  },
  {
   "cell_type": "code",
   "execution_count": 11,
   "metadata": {
    "cell_style": "split",
    "scrolled": true
   },
   "outputs": [
    {
     "data": {
      "text/plain": [
       "list"
      ]
     },
     "execution_count": 11,
     "metadata": {},
     "output_type": "execute_result"
    }
   ],
   "source": [
    "l = [1]\n",
    "type(l)"
   ]
  },
  {
   "cell_type": "code",
   "execution_count": 12,
   "metadata": {
    "cell_style": "split"
   },
   "outputs": [
    {
     "data": {
      "text/plain": [
       "list"
      ]
     },
     "execution_count": 12,
     "metadata": {},
     "output_type": "execute_result"
    }
   ],
   "source": [
    "l = [1,]\n",
    "type(l)"
   ]
  },
  {
   "cell_type": "code",
   "execution_count": 13,
   "metadata": {
    "cell_style": "split",
    "scrolled": true
   },
   "outputs": [
    {
     "data": {
      "text/plain": [
       "int"
      ]
     },
     "execution_count": 13,
     "metadata": {},
     "output_type": "execute_result"
    }
   ],
   "source": [
    "l = (1)\n",
    "type(l)"
   ]
  },
  {
   "cell_type": "code",
   "execution_count": 14,
   "metadata": {
    "cell_style": "split"
   },
   "outputs": [
    {
     "data": {
      "text/plain": [
       "tuple"
      ]
     },
     "execution_count": 14,
     "metadata": {},
     "output_type": "execute_result"
    }
   ],
   "source": [
    "l = (1,)\n",
    "type(l)"
   ]
  },
  {
   "cell_type": "markdown",
   "metadata": {},
   "source": [
    "* 赋值, 星号 (`*`) 表达式用来展开 list/tuple, 双星号 (`**`) 用来展开 dict (常用于函数参数表):"
   ]
  },
  {
   "cell_type": "code",
   "execution_count": 6,
   "metadata": {
    "cell_style": "split"
   },
   "outputs": [
    {
     "data": {
      "text/plain": [
       "(0, 1, [2, 3])"
      ]
     },
     "execution_count": 6,
     "metadata": {},
     "output_type": "execute_result"
    }
   ],
   "source": [
    "a, b, *c = [0, 1, 2, 3]\n",
    "a, b, c"
   ]
  },
  {
   "cell_type": "code",
   "execution_count": 7,
   "metadata": {
    "cell_style": "split"
   },
   "outputs": [
    {
     "data": {
      "text/plain": [
       "0"
      ]
     },
     "execution_count": 7,
     "metadata": {},
     "output_type": "execute_result"
    }
   ],
   "source": [
    "a, *_ = [0, 1, 2, 3] # 或 a, = ...\n",
    "a"
   ]
  },
  {
   "cell_type": "markdown",
   "metadata": {},
   "source": [
    "### dict"
   ]
  },
  {
   "cell_type": "markdown",
   "metadata": {},
   "source": [
    "* dict 改变某个 key 但 value 不变的方法"
   ]
  },
  {
   "cell_type": "code",
   "execution_count": 3,
   "metadata": {},
   "outputs": [
    {
     "data": {
      "text/plain": [
       "{'a': 1, 'c': 2}"
      ]
     },
     "execution_count": 3,
     "metadata": {},
     "output_type": "execute_result"
    }
   ],
   "source": [
    "d = {'a' : 1, 'b' : 2}\n",
    "d['c'] = d.pop('b')  # 利用 `pop` 返回值, 更改 key 值\n",
    "d"
   ]
  },
  {
   "cell_type": "markdown",
   "metadata": {},
   "source": [
    "* dict 求并集"
   ]
  },
  {
   "cell_type": "code",
   "execution_count": 15,
   "metadata": {},
   "outputs": [],
   "source": [
    "d1 = {'a' : 1, 'b' : 2}\n",
    "d2 = {'a' : -1, 'c' : 3, 'd' : 4}"
   ]
  },
  {
   "cell_type": "code",
   "execution_count": 16,
   "metadata": {},
   "outputs": [
    {
     "data": {
      "text/plain": [
       "{'a': -1, 'b': 2, 'c': 3, 'd': 4}"
      ]
     },
     "execution_count": 16,
     "metadata": {},
     "output_type": "execute_result"
    }
   ],
   "source": [
    "dict(d1, **d2)  # 重复的 key 取后一个的值"
   ]
  },
  {
   "cell_type": "code",
   "execution_count": 17,
   "metadata": {},
   "outputs": [
    {
     "data": {
      "text/plain": [
       "{'a': -1, 'b': 2, 'c': 3, 'd': 4}"
      ]
     },
     "execution_count": 17,
     "metadata": {},
     "output_type": "execute_result"
    }
   ],
   "source": [
    "dict(list(d1.items()) + list(d2.items()))  # 注意其中的 list"
   ]
  },
  {
   "cell_type": "code",
   "execution_count": 18,
   "metadata": {},
   "outputs": [
    {
     "data": {
      "text/plain": [
       "{'a': -1, 'b': 2, 'c': 3, 'd': 4}"
      ]
     },
     "execution_count": 18,
     "metadata": {},
     "output_type": "execute_result"
    }
   ],
   "source": [
    "d1.update(d2)\n",
    "d1"
   ]
  },
  {
   "cell_type": "markdown",
   "metadata": {},
   "source": [
    "### set"
   ]
  },
  {
   "cell_type": "markdown",
   "metadata": {},
   "source": [
    "* set 基本操作"
   ]
  },
  {
   "cell_type": "code",
   "execution_count": null,
   "metadata": {
    "cell_style": "center"
   },
   "outputs": [],
   "source": [
    "s = {1, 2}"
   ]
  },
  {
   "cell_type": "code",
   "execution_count": 42,
   "metadata": {
    "cell_style": "center"
   },
   "outputs": [
    {
     "data": {
      "text/plain": [
       "{1, 2, 3}"
      ]
     },
     "execution_count": 42,
     "metadata": {},
     "output_type": "execute_result"
    }
   ],
   "source": [
    "s.add(3) # one element only\n",
    "s"
   ]
  },
  {
   "cell_type": "code",
   "execution_count": 43,
   "metadata": {
    "cell_style": "center"
   },
   "outputs": [
    {
     "data": {
      "text/plain": [
       "{1, 2, 3, 4, 5}"
      ]
     },
     "execution_count": 43,
     "metadata": {},
     "output_type": "execute_result"
    }
   ],
   "source": [
    "s.update([4, 5]) # iterable: list/tuple/set/...\n",
    "s"
   ]
  },
  {
   "cell_type": "code",
   "execution_count": 44,
   "metadata": {
    "cell_style": "center"
   },
   "outputs": [
    {
     "data": {
      "text/plain": [
       "{2, 3, 4, 5}"
      ]
     },
     "execution_count": 44,
     "metadata": {},
     "output_type": "execute_result"
    }
   ],
   "source": [
    "s.remove(1)\n",
    "s"
   ]
  },
  {
   "cell_type": "code",
   "execution_count": 45,
   "metadata": {
    "cell_style": "center"
   },
   "outputs": [
    {
     "data": {
      "text/plain": [
       "{2, 3, 4, 5}"
      ]
     },
     "execution_count": 45,
     "metadata": {},
     "output_type": "execute_result"
    }
   ],
   "source": [
    "s.discard(0)  # No error if not exist\n",
    "s"
   ]
  },
  {
   "cell_type": "markdown",
   "metadata": {},
   "source": [
    "* set 求交集, 并集, 差集, 对称差集, 子集"
   ]
  },
  {
   "cell_type": "code",
   "execution_count": 2,
   "metadata": {
    "cell_style": "split",
    "scrolled": true
   },
   "outputs": [
    {
     "data": {
      "text/plain": [
       "{2}"
      ]
     },
     "execution_count": 2,
     "metadata": {},
     "output_type": "execute_result"
    }
   ],
   "source": [
    "{1, 2}.intersection({2, 3})"
   ]
  },
  {
   "cell_type": "code",
   "execution_count": 3,
   "metadata": {
    "cell_style": "split"
   },
   "outputs": [
    {
     "data": {
      "text/plain": [
       "{2}"
      ]
     },
     "execution_count": 3,
     "metadata": {},
     "output_type": "execute_result"
    }
   ],
   "source": [
    "{1, 2} & {2, 3}  # 或用 and"
   ]
  },
  {
   "cell_type": "code",
   "execution_count": 4,
   "metadata": {
    "cell_style": "split"
   },
   "outputs": [
    {
     "data": {
      "text/plain": [
       "{1, 2, 3}"
      ]
     },
     "execution_count": 4,
     "metadata": {},
     "output_type": "execute_result"
    }
   ],
   "source": [
    "{1, 2}.union({2, 3})"
   ]
  },
  {
   "cell_type": "code",
   "execution_count": 5,
   "metadata": {
    "cell_style": "split"
   },
   "outputs": [
    {
     "data": {
      "text/plain": [
       "{1, 2, 3}"
      ]
     },
     "execution_count": 5,
     "metadata": {},
     "output_type": "execute_result"
    }
   ],
   "source": [
    "{1, 2} | {2, 3}  # 或用 or"
   ]
  },
  {
   "cell_type": "code",
   "execution_count": 6,
   "metadata": {
    "cell_style": "split"
   },
   "outputs": [
    {
     "data": {
      "text/plain": [
       "{1}"
      ]
     },
     "execution_count": 6,
     "metadata": {},
     "output_type": "execute_result"
    }
   ],
   "source": [
    "{1, 2}.difference({2, 3})"
   ]
  },
  {
   "cell_type": "code",
   "execution_count": 7,
   "metadata": {
    "cell_style": "split"
   },
   "outputs": [
    {
     "data": {
      "text/plain": [
       "{1}"
      ]
     },
     "execution_count": 7,
     "metadata": {},
     "output_type": "execute_result"
    }
   ],
   "source": [
    "{1, 2} - {2, 3}  # 在前不在后"
   ]
  },
  {
   "cell_type": "code",
   "execution_count": 8,
   "metadata": {
    "cell_style": "split"
   },
   "outputs": [
    {
     "data": {
      "text/plain": [
       "{1, 3}"
      ]
     },
     "execution_count": 8,
     "metadata": {},
     "output_type": "execute_result"
    }
   ],
   "source": [
    "{1, 2}.symmetric_difference({2, 3})"
   ]
  },
  {
   "cell_type": "code",
   "execution_count": 9,
   "metadata": {
    "cell_style": "split"
   },
   "outputs": [
    {
     "data": {
      "text/plain": [
       "{1, 3}"
      ]
     },
     "execution_count": 9,
     "metadata": {},
     "output_type": "execute_result"
    }
   ],
   "source": [
    "{1, 2} ^ {2, 3}  # 不同时在两边"
   ]
  },
  {
   "cell_type": "markdown",
   "metadata": {},
   "source": [
    "* 属于, 包含于(子集)"
   ]
  },
  {
   "cell_type": "code",
   "execution_count": 16,
   "metadata": {
    "cell_style": "split",
    "scrolled": true
   },
   "outputs": [
    {
     "data": {
      "text/plain": [
       "True"
      ]
     },
     "execution_count": 16,
     "metadata": {},
     "output_type": "execute_result"
    }
   ],
   "source": [
    "2 in {1, 2, 3}  # list/tuple/set"
   ]
  },
  {
   "cell_type": "code",
   "execution_count": 21,
   "metadata": {
    "cell_style": "split"
   },
   "outputs": [
    {
     "data": {
      "text/plain": [
       "True"
      ]
     },
     "execution_count": 21,
     "metadata": {},
     "output_type": "execute_result"
    }
   ],
   "source": [
    "4 not in {1, 2, 3}  # list/tuple/set"
   ]
  },
  {
   "cell_type": "code",
   "execution_count": 13,
   "metadata": {
    "cell_style": "split",
    "scrolled": true
   },
   "outputs": [
    {
     "data": {
      "text/plain": [
       "True"
      ]
     },
     "execution_count": 13,
     "metadata": {},
     "output_type": "execute_result"
    }
   ],
   "source": [
    "{1, 2}.issubset({1, 2, 3})"
   ]
  },
  {
   "cell_type": "code",
   "execution_count": 14,
   "metadata": {
    "cell_style": "split"
   },
   "outputs": [
    {
     "data": {
      "text/plain": [
       "True"
      ]
     },
     "execution_count": 14,
     "metadata": {},
     "output_type": "execute_result"
    }
   ],
   "source": [
    "{1, 2} <= {1, 2, 3}"
   ]
  },
  {
   "cell_type": "code",
   "execution_count": 10,
   "metadata": {
    "cell_style": "split",
    "scrolled": true
   },
   "outputs": [
    {
     "data": {
      "text/plain": [
       "True"
      ]
     },
     "execution_count": 10,
     "metadata": {},
     "output_type": "execute_result"
    }
   ],
   "source": [
    "{1, 2, 3}.issuperset({1, 2})"
   ]
  },
  {
   "cell_type": "code",
   "execution_count": 26,
   "metadata": {
    "cell_style": "split"
   },
   "outputs": [
    {
     "data": {
      "text/plain": [
       "True"
      ]
     },
     "execution_count": 26,
     "metadata": {},
     "output_type": "execute_result"
    }
   ],
   "source": [
    "{1, 2, 3} >= {1, 2}"
   ]
  },
  {
   "cell_type": "markdown",
   "metadata": {},
   "source": [
    "### 一些特性的演示"
   ]
  },
  {
   "cell_type": "markdown",
   "metadata": {},
   "source": [
    "插件 https://github.com/lgpage/nbtutor<br>\n",
    "网页版 http://pythontutor.com/"
   ]
  },
  {
   "cell_type": "code",
   "execution_count": 1,
   "metadata": {
    "init_cell": true,
    "scrolled": true
   },
   "outputs": [],
   "source": [
    "%reload_ext nbtutor"
   ]
  },
  {
   "cell_type": "code",
   "execution_count": 10,
   "metadata": {},
   "outputs": [
    {
     "name": "nbtutor",
     "output_type": "stream",
     "text": []
    }
   ],
   "source": [
    "%%nbtutor -r -f\n",
    "l1= (0)\n",
    "l2 = (0,)"
   ]
  },
  {
   "cell_type": "markdown",
   "metadata": {},
   "source": [
    "[网页版演示](http://t.cn/Rg9J3bf)\n",
    "\n",
    "<img style='float: left;' src='fig/nbtutor1.png' width='550'/>"
   ]
  },
  {
   "cell_type": "code",
   "execution_count": null,
   "metadata": {},
   "outputs": [],
   "source": [
    "%%nbtutor -r -f -i\n",
    "a = 3\n",
    "b = 4\n",
    "t = (1, 2, [a, b]) # list in tuple\n",
    "a = 'x' # change element in list\n",
    "t[2][0] = 'xx' # change element in tuple"
   ]
  },
  {
   "cell_type": "code",
   "execution_count": 11,
   "metadata": {},
   "outputs": [
    {
     "name": "nbtutor",
     "output_type": "stream",
     "text": [
      "(1, 2, ['xx', 4])\n"
     ]
    }
   ],
   "source": [
    "print(t)"
   ]
  },
  {
   "cell_type": "markdown",
   "metadata": {},
   "source": [
    "[网页版演示](http://t.cn/Rg9idUn)\n",
    "\n",
    "<img style='float: left;' src='fig/nbtutor2.png' width='550'/>"
   ]
  },
  {
   "cell_type": "markdown",
   "metadata": {},
   "source": [
    "### 包含判断的单行循环"
   ]
  },
  {
   "cell_type": "code",
   "execution_count": 10,
   "metadata": {},
   "outputs": [
    {
     "data": {
      "text/plain": [
       "[3, 4, 5]"
      ]
     },
     "execution_count": 10,
     "metadata": {},
     "output_type": "execute_result"
    }
   ],
   "source": [
    "l = [1, 2, 3, 4, 5]\n",
    "[i for i in l if i > 2]"
   ]
  },
  {
   "cell_type": "markdown",
   "metadata": {},
   "source": [
    "例如用 `globals()` 来得到字符串形式的变量名 (python 的变量没有提供这个功能的关键字, 因为\"变量名\"存储在namespaces中)"
   ]
  },
  {
   "cell_type": "code",
   "execution_count": 13,
   "metadata": {},
   "outputs": [
    {
     "name": "stdout",
     "output_type": "stream",
     "text": [
      "a = 1\n",
      "b = 2\n"
     ]
    }
   ],
   "source": [
    "def namestr(obj, namespace):\n",
    "    return [name for name in namespace if namespace[name] is obj][0]\n",
    "a = 1\n",
    "b = 2\n",
    "for var in (a, b):\n",
    "    print(f'{namestr(var, globals())} = {var}')"
   ]
  },
  {
   "cell_type": "markdown",
   "metadata": {},
   "source": [
    "### 单行 if (三元关系运算)"
   ]
  },
  {
   "cell_type": "code",
   "execution_count": 9,
   "metadata": {
    "cell_style": "center"
   },
   "outputs": [
    {
     "data": {
      "text/plain": [
       "'y'"
      ]
     },
     "execution_count": 9,
     "metadata": {},
     "output_type": "execute_result"
    }
   ],
   "source": [
    "a = 1\n",
    "b = 'y' if a > 0 else 'n'\n",
    "b"
   ]
  },
  {
   "cell_type": "markdown",
   "metadata": {},
   "source": [
    "### 循环, 迭代器, 生成器"
   ]
  },
  {
   "cell_type": "markdown",
   "metadata": {},
   "source": [
    "Python 的 for 循环不使用索引变量, 而使用遍历**迭代器** (iterator) 的方式处理**可迭代对象** (range, set 等):\n",
    "\n",
    "```python\n",
    "for i in range(5):\n",
    "    ...\n",
    "```"
   ]
  },
  {
   "cell_type": "markdown",
   "metadata": {},
   "source": [
    "遍历的方式是使用 `iter` 和 `next` 函数:"
   ]
  },
  {
   "cell_type": "code",
   "execution_count": 106,
   "metadata": {},
   "outputs": [],
   "source": [
    "a = iter(range(5))  # 生成一个 range_iterator 对象"
   ]
  },
  {
   "cell_type": "code",
   "execution_count": 107,
   "metadata": {},
   "outputs": [
    {
     "data": {
      "text/plain": [
       "0"
      ]
     },
     "execution_count": 107,
     "metadata": {},
     "output_type": "execute_result"
    }
   ],
   "source": [
    "next(a)"
   ]
  },
  {
   "cell_type": "code",
   "execution_count": 64,
   "metadata": {},
   "outputs": [
    {
     "data": {
      "text/plain": [
       "[0, 1, 2, 3, 4]"
      ]
     },
     "execution_count": 64,
     "metadata": {},
     "output_type": "execute_result"
    }
   ],
   "source": [
    "list(range(5))  # 转换为 list"
   ]
  },
  {
   "cell_type": "markdown",
   "metadata": {},
   "source": [
    "`enumerate` 函数适合需要同时使用索引和内容时使用:\n",
    "\n",
    "```python\n",
    "for i, item in enumerate(l):  # enumerate()是一个迭代器\n",
    "    i = ...\n",
    "    item = ...  # l[i] = ...\n",
    "```"
   ]
  },
  {
   "cell_type": "markdown",
   "metadata": {},
   "source": [
    "生成器:"
   ]
  },
  {
   "cell_type": "code",
   "execution_count": 12,
   "metadata": {},
   "outputs": [
    {
     "data": {
      "text/plain": [
       "<generator object <genexpr> at 0x14da87e652b0>"
      ]
     },
     "execution_count": 12,
     "metadata": {},
     "output_type": "execute_result"
    }
   ],
   "source": [
    "a = (i**2 for i in range(5))  # 产生一个生成器, 可转化成 list, tuple\n",
    "a"
   ]
  },
  {
   "cell_type": "code",
   "execution_count": 15,
   "metadata": {},
   "outputs": [
    {
     "data": {
      "text/plain": [
       "4"
      ]
     },
     "execution_count": 15,
     "metadata": {},
     "output_type": "execute_result"
    }
   ],
   "source": [
    "next(a)  # 生成器也是迭代器"
   ]
  },
  {
   "cell_type": "code",
   "execution_count": 164,
   "metadata": {},
   "outputs": [
    {
     "data": {
      "text/plain": [
       "[0, 1, 2]"
      ]
     },
     "execution_count": 164,
     "metadata": {},
     "output_type": "execute_result"
    }
   ],
   "source": [
    "a = [i for i in range(3)]  # 产生一个 list\n",
    "a"
   ]
  },
  {
   "cell_type": "code",
   "execution_count": 61,
   "metadata": {
    "cell_style": "center"
   },
   "outputs": [
    {
     "data": {
      "text/plain": [
       "(0, 1, 2)"
      ]
     },
     "execution_count": 61,
     "metadata": {},
     "output_type": "execute_result"
    }
   ],
   "source": [
    "# 转化成 tuple\n",
    "tuple(i for i in range(3))"
   ]
  },
  {
   "cell_type": "markdown",
   "metadata": {},
   "source": [
    "### 函数定义"
   ]
  },
  {
   "cell_type": "markdown",
   "metadata": {},
   "source": [
    "* 一般的函数定义:\n",
    "\n",
    "```python\n",
    "def func(a, b, *args, **kwargs):\n",
    "    # func1(x, y, arg1, arg2, ..., key1=val1, key2=val2, ...)\n",
    "    ...\n",
    "    return ... # 没有 return 或为空 则返回 None\n",
    "```"
   ]
  },
  {
   "cell_type": "markdown",
   "metadata": {},
   "source": [
    "* 单行函数 lambda"
   ]
  },
  {
   "cell_type": "code",
   "execution_count": 189,
   "metadata": {},
   "outputs": [
    {
     "data": {
      "text/plain": [
       "3"
      ]
     },
     "execution_count": 189,
     "metadata": {},
     "output_type": "execute_result"
    }
   ],
   "source": [
    "def f(x, y):\n",
    "    return x + y\n",
    "f(1, 2)"
   ]
  },
  {
   "cell_type": "markdown",
   "metadata": {},
   "source": [
    "用 `lambda` 语法来定义:"
   ]
  },
  {
   "cell_type": "code",
   "execution_count": 188,
   "metadata": {},
   "outputs": [
    {
     "data": {
      "text/plain": [
       "3"
      ]
     },
     "execution_count": 188,
     "metadata": {},
     "output_type": "execute_result"
    }
   ],
   "source": [
    "f = lambda x, y: x + y\n",
    "f(1, 2)"
   ]
  },
  {
   "cell_type": "code",
   "execution_count": 190,
   "metadata": {},
   "outputs": [
    {
     "data": {
      "text/plain": [
       "3"
      ]
     },
     "execution_count": 190,
     "metadata": {},
     "output_type": "execute_result"
    }
   ],
   "source": [
    "(lambda x, y: x + y)(1, 2)  # 不一定需要定义函数名称"
   ]
  },
  {
   "cell_type": "markdown",
   "metadata": {},
   "source": [
    "### 命名空间和变量作用域"
   ]
  },
  {
   "cell_type": "markdown",
   "metadata": {},
   "source": [
    "https://sebastianraschka.com/Articles/2014_python_scope_and_namespaces.html\n",
    "\n",
    "<img style='float: left;' src='fig/scope_resolution_1.png' width='400' />"
   ]
  },
  {
   "cell_type": "markdown",
   "metadata": {},
   "source": [
    "* Built-in Functions https://docs.python.org/3/library/functions.html\n",
    "* Built-in Constants https://docs.python.org/3/library/constants.html"
   ]
  },
  {
   "cell_type": "markdown",
   "metadata": {},
   "source": [
    "`globals()` 以 dict 形式返回当前所有全局变量, 包括导入的包名, ipython/jupyter 的 `In`, `Out` 等.<br>\n",
    "python 以 name -> obj 的形式存储这些变量."
   ]
  },
  {
   "cell_type": "code",
   "execution_count": 14,
   "metadata": {},
   "outputs": [],
   "source": [
    "a = 1\n",
    "b = 2"
   ]
  },
  {
   "cell_type": "code",
   "execution_count": 15,
   "metadata": {},
   "outputs": [
    {
     "data": {
      "text/plain": [
       "True"
      ]
     },
     "execution_count": 15,
     "metadata": {},
     "output_type": "execute_result"
    }
   ],
   "source": [
    "globals()['a'] is a"
   ]
  },
  {
   "cell_type": "code",
   "execution_count": 18,
   "metadata": {},
   "outputs": [
    {
     "name": "stdout",
     "output_type": "stream",
     "text": [
      "2 local\n",
      "1 global\n"
     ]
    }
   ],
   "source": [
    "i = 1\n",
    "def f():\n",
    "    i = 2\n",
    "    print(i, 'local')\n",
    "    return\n",
    "f()\n",
    "print(i, 'global')"
   ]
  },
  {
   "cell_type": "code",
   "execution_count": 15,
   "metadata": {},
   "outputs": [
    {
     "data": {
      "text/plain": [
       "3"
      ]
     },
     "execution_count": 15,
     "metadata": {},
     "output_type": "execute_result"
    }
   ],
   "source": [
    "i = 1\n",
    "for i in range(4):\n",
    "    pass\n",
    "i  # 值被改变了 (“leaking”)"
   ]
  },
  {
   "cell_type": "code",
   "execution_count": 30,
   "metadata": {},
   "outputs": [
    {
     "data": {
      "text/plain": [
       "1"
      ]
     },
     "execution_count": 30,
     "metadata": {},
     "output_type": "execute_result"
    }
   ],
   "source": [
    "i = 1\n",
    "[i for i in range(3)]\n",
    "i  # 用这种方式就不会发生“leaking”"
   ]
  },
  {
   "cell_type": "markdown",
   "metadata": {},
   "source": [
    "有关函数中的变量作用方式细节, 参考这里提到的例子: [stackoverflow](https://stackoverflow.com/a/575887)\n",
    "\n",
    "\n",
    "\n",
    "> * Any time you see <font color=blue>**varname =**</font>, you're **creating a new name** binding within the function's scope.<br>Whatever value `varname` was bound to before is lost within this scope.\n",
    ">\n",
    "> * Any time you see <font color=blue>**varname.foo()**</font>, you're **calling a method** on `varname`. The method may alter `varname` (e.g. `list.append`). <br>\n",
    "`varname` (or, rather, the object that `varname` names) may exist in more than one scope, and since it's the same object, <br>**any changes will be visible in all scopes**."
   ]
  },
  {
   "cell_type": "markdown",
   "metadata": {},
   "source": [
    "## NumPy"
   ]
  },
  {
   "cell_type": "markdown",
   "metadata": {},
   "source": [
    "### numpy 的数据类型 dtype"
   ]
  },
  {
   "cell_type": "markdown",
   "metadata": {},
   "source": [
    "https://www.tutorialspoint.com/numpy/numpy_data_types.htm\n",
    "```python\n",
    ">>> np.dtype(np.int64) is np.dtype('i8') is np.dtype('<i8')\n",
    "True\n",
    ">>> np.dtype(np.int64) is np.dtype('int') is np.dtype('int64')\n",
    "True\n",
    ">>> np.dtype(np.int64) is np.dtype('>i8')\n",
    "False\n",
    "```\n",
    "```python\n",
    ">>> np.dtype(np.float64) is np.dtype('f8') is np.dtype('<f8')\n",
    "True\n",
    ">>> np.dtype(np.float64) is np.dtype('float') is np.dtype('float64')\n",
    "True\n",
    "```\n",
    "见 [Fortran 二进制文件读写](#Fortran-二进制文件读写) 中的应用."
   ]
  },
  {
   "cell_type": "markdown",
   "metadata": {},
   "source": [
    "### np.arange 参数为浮点数时要注意的细节"
   ]
  },
  {
   "cell_type": "code",
   "execution_count": 2,
   "metadata": {},
   "outputs": [
    {
     "data": {
      "text/plain": [
       "array([0. , 0.3, 0.6, 0.9, 1.2, 1.5])"
      ]
     },
     "execution_count": 2,
     "metadata": {},
     "output_type": "execute_result"
    }
   ],
   "source": [
    "np.arange(0., 1.8, 0.3)  # 默认不包含 `stop` 这个点"
   ]
  },
  {
   "cell_type": "code",
   "execution_count": 3,
   "metadata": {
    "cell_style": "center"
   },
   "outputs": [
    {
     "data": {
      "text/plain": [
       "array([0. , 0.3, 0.6, 0.9, 1.2, 1.5, 1.8, 2.1])"
      ]
     },
     "execution_count": 3,
     "metadata": {},
     "output_type": "execute_result"
    }
   ],
   "source": [
    "np.arange(0., 2.1, 0.3)  # 这里却包括了, 为什么?"
   ]
  },
  {
   "cell_type": "code",
   "execution_count": 4,
   "metadata": {
    "scrolled": true
   },
   "outputs": [
    {
     "data": {
      "text/plain": [
       "'2.1000000000000001'"
      ]
     },
     "execution_count": 4,
     "metadata": {},
     "output_type": "execute_result"
    }
   ],
   "source": [
    "'%.16f' % 2.1  # 因为浮点数计算方式产生的精度问题"
   ]
  },
  {
   "cell_type": "markdown",
   "metadata": {},
   "source": [
    "看一个求和的例子中同样的问题 (用 `list` 和 `numpy.ndarray` 效果一样):"
   ]
  },
  {
   "cell_type": "code",
   "execution_count": 5,
   "metadata": {
    "cell_style": "split"
   },
   "outputs": [
    {
     "name": "stdout",
     "output_type": "stream",
     "text": [
      "0.10000000000000001\n",
      "0.99999999999999989\n",
      "1.00000000000000000\n"
     ]
    }
   ],
   "source": [
    "print('%.17f' % 0.1)\n",
    "# sum([0.1, ..., 0.1])\n",
    "\n",
    "print('%.17f' % sum([0.1] * 10))\n",
    "# 因为同样问题, 累积了误差\n",
    "\n",
    "import math\n",
    "print('%.17f' % math.fsum([0.1] * 10))"
   ]
  },
  {
   "cell_type": "code",
   "execution_count": 6,
   "metadata": {
    "cell_style": "split"
   },
   "outputs": [
    {
     "data": {
      "text/plain": [
       "False"
      ]
     },
     "execution_count": 6,
     "metadata": {},
     "output_type": "execute_result"
    }
   ],
   "source": [
    "sum([0.1] * 10) == 1"
   ]
  },
  {
   "cell_type": "code",
   "execution_count": 7,
   "metadata": {
    "cell_style": "split"
   },
   "outputs": [
    {
     "data": {
      "text/plain": [
       "True"
      ]
     },
     "execution_count": 7,
     "metadata": {},
     "output_type": "execute_result"
    }
   ],
   "source": [
    "math.fsum([0.1] * 10) == 1"
   ]
  },
  {
   "cell_type": "code",
   "execution_count": 8,
   "metadata": {
    "cell_style": "split"
   },
   "outputs": [
    {
     "data": {
      "text/plain": [
       "True"
      ]
     },
     "execution_count": 8,
     "metadata": {},
     "output_type": "execute_result"
    }
   ],
   "source": [
    "math.fsum([0.1] * 10) == 1.0"
   ]
  },
  {
   "cell_type": "markdown",
   "metadata": {},
   "source": [
    "参考 https://docs.python.org/3/tutorial/floatingpoint.html\n",
    "\n",
    "建议是: 使用整数; 对浮点数的情况, stop 值设得略小一些 (比如减去步长的一般) 以防止改点被包含, 或使用 `np.linspace` 代替."
   ]
  },
  {
   "cell_type": "markdown",
   "metadata": {},
   "source": [
    "### 矩阵"
   ]
  },
  {
   "cell_type": "markdown",
   "metadata": {},
   "source": [
    "`np.matrix`(矩阵) 是 `np.ndarray`(数组) 的一个子类, 继承了父级的方法, 也定义了新的方法 (例如矩阵运算)."
   ]
  },
  {
   "cell_type": "code",
   "execution_count": 9,
   "metadata": {},
   "outputs": [
    {
     "data": {
      "text/plain": [
       "True"
      ]
     },
     "execution_count": 9,
     "metadata": {},
     "output_type": "execute_result"
    }
   ],
   "source": [
    "issubclass(np.matrix, np.ndarray)"
   ]
  },
  {
   "cell_type": "code",
   "execution_count": 10,
   "metadata": {
    "cell_style": "split"
   },
   "outputs": [
    {
     "data": {
      "text/plain": [
       "matrix([[0, 1, 2],\n",
       "        [3, 4, 5]])"
      ]
     },
     "execution_count": 10,
     "metadata": {},
     "output_type": "execute_result"
    }
   ],
   "source": [
    "a = np.matrix([[0, 1, 2], [3, 4, 5]]); a"
   ]
  },
  {
   "cell_type": "code",
   "execution_count": 11,
   "metadata": {
    "cell_style": "split"
   },
   "outputs": [
    {
     "data": {
      "text/plain": [
       "matrix([[0, 1, 2],\n",
       "        [3, 4, 5]])"
      ]
     },
     "execution_count": 11,
     "metadata": {},
     "output_type": "execute_result"
    }
   ],
   "source": [
    "a = np.matrix(\"0 1 2; 3 4 5\"); a"
   ]
  },
  {
   "cell_type": "code",
   "execution_count": 12,
   "metadata": {},
   "outputs": [
    {
     "data": {
      "text/plain": [
       "numpy.matrixlib.defmatrix.matrix"
      ]
     },
     "execution_count": 12,
     "metadata": {},
     "output_type": "execute_result"
    }
   ],
   "source": [
    "type(a)"
   ]
  },
  {
   "cell_type": "markdown",
   "metadata": {},
   "source": [
    "`np.asmatrix` (或简写作 `np.mat`) 相当于 `np.matrix(data, copy=False)`"
   ]
  },
  {
   "cell_type": "code",
   "execution_count": 13,
   "metadata": {},
   "outputs": [
    {
     "data": {
      "text/plain": [
       "array([[1, 2],\n",
       "       [3, 4]])"
      ]
     },
     "execution_count": 13,
     "metadata": {},
     "output_type": "execute_result"
    }
   ],
   "source": [
    "x = np.array([[1, 2], [3, 4]])\n",
    "m = np.matrix(x)\n",
    "m[0, 0] = 5\n",
    "x"
   ]
  },
  {
   "cell_type": "code",
   "execution_count": 14,
   "metadata": {},
   "outputs": [
    {
     "data": {
      "text/plain": [
       "array([[5, 2],\n",
       "       [3, 4]])"
      ]
     },
     "execution_count": 14,
     "metadata": {},
     "output_type": "execute_result"
    }
   ],
   "source": [
    "x = np.array([[1, 2], [3, 4]])\n",
    "m = np.mat(x)\n",
    "m[0, 0] = 5\n",
    "x"
   ]
  },
  {
   "cell_type": "code",
   "execution_count": 15,
   "metadata": {},
   "outputs": [
    {
     "data": {
      "text/plain": [
       "True"
      ]
     },
     "execution_count": 15,
     "metadata": {},
     "output_type": "execute_result"
    }
   ],
   "source": [
    "x.__array_interface__['data'][0] == m.__array_interface__['data'][0]"
   ]
  },
  {
   "cell_type": "markdown",
   "metadata": {},
   "source": [
    "注意: `np.matrix` 既是一个类名也是一个函数名, 而 `np.mat`, `np.asmatrix` 只是函数名."
   ]
  },
  {
   "cell_type": "markdown",
   "metadata": {},
   "source": [
    "### 数组和矩阵运算"
   ]
  },
  {
   "cell_type": "markdown",
   "metadata": {},
   "source": [
    "#### 数组运算"
   ]
  },
  {
   "cell_type": "code",
   "execution_count": 3,
   "metadata": {
    "scrolled": true
   },
   "outputs": [
    {
     "data": {
      "text/plain": [
       "array([[ 0,  1,  2,  3],\n",
       "       [ 4,  5,  6,  7],\n",
       "       [ 8,  9, 10, 11]])"
      ]
     },
     "execution_count": 3,
     "metadata": {},
     "output_type": "execute_result"
    }
   ],
   "source": [
    "a = np.arange(12).reshape(3, -1); a"
   ]
  },
  {
   "cell_type": "code",
   "execution_count": 4,
   "metadata": {},
   "outputs": [
    {
     "data": {
      "text/plain": [
       "11"
      ]
     },
     "execution_count": 4,
     "metadata": {},
     "output_type": "execute_result"
    }
   ],
   "source": [
    "a.max()"
   ]
  },
  {
   "cell_type": "code",
   "execution_count": 5,
   "metadata": {},
   "outputs": [
    {
     "data": {
      "text/plain": [
       "array([[  0,   1,   4,   9],\n",
       "       [ 16,  25,  36,  49],\n",
       "       [ 64,  81, 100, 121]])"
      ]
     },
     "execution_count": 5,
     "metadata": {},
     "output_type": "execute_result"
    }
   ],
   "source": [
    "a * a  # 注意这是对应位置的元素间的运算"
   ]
  },
  {
   "cell_type": "code",
   "execution_count": 6,
   "metadata": {},
   "outputs": [
    {
     "data": {
      "text/plain": [
       "array([[  0,   1,   4,   9],\n",
       "       [ 16,  25,  36,  49],\n",
       "       [ 64,  81, 100, 121]])"
      ]
     },
     "execution_count": 6,
     "metadata": {},
     "output_type": "execute_result"
    }
   ],
   "source": [
    "a ** 2  # 注意这是对应位置的元素间的运算"
   ]
  },
  {
   "cell_type": "markdown",
   "metadata": {},
   "source": [
    "#### 使用数组进行矩阵运算"
   ]
  },
  {
   "cell_type": "markdown",
   "metadata": {},
   "source": [
    "`scipy.linalg` 与 `numpy.linalg` 的比较: \n",
    "https://scipy.github.io/devdocs/tutorial/linalg.html\n",
    ">* `scipy.linalg` contains **all** the functions in `numpy.linalg` plus some other more **advanced** ones not contained in `numpy.linalg`\n",
    "* Despite its convenience, the use of the `numpy.matrix` class is **discouraged**.\n",
    "* `scipy.linalg` operations can be applied **equally** to `numpy.matrix` or to 2D `numpy.ndarray` objects."
   ]
  },
  {
   "cell_type": "code",
   "execution_count": 2,
   "metadata": {},
   "outputs": [
    {
     "data": {
      "text/plain": [
       "array([[1., 0., 0.],\n",
       "       [0., 2., 0.],\n",
       "       [0., 0., 3.]])"
      ]
     },
     "execution_count": 2,
     "metadata": {},
     "output_type": "execute_result"
    }
   ],
   "source": [
    "a = np.diagflat([1., 2., 3.]); a"
   ]
  },
  {
   "cell_type": "code",
   "execution_count": 4,
   "metadata": {},
   "outputs": [
    {
     "data": {
      "text/plain": [
       "array([[-1., -1., -1.],\n",
       "       [ 0.,  0.,  0.]])"
      ]
     },
     "execution_count": 4,
     "metadata": {},
     "output_type": "execute_result"
    }
   ],
   "source": [
    "b = np.array([[-1., -1., -1.],[0., 0., 0.]]); b"
   ]
  },
  {
   "cell_type": "code",
   "execution_count": 5,
   "metadata": {},
   "outputs": [
    {
     "data": {
      "text/plain": [
       "array([[ 1.        ,  0.        , -0.        ],\n",
       "       [ 0.        ,  0.5       , -0.        ],\n",
       "       [ 0.        ,  0.        ,  0.33333333]])"
      ]
     },
     "execution_count": 5,
     "metadata": {},
     "output_type": "execute_result"
    }
   ],
   "source": [
    "from scipy.linalg import inv\n",
    "inv(a)  # 求逆"
   ]
  },
  {
   "cell_type": "code",
   "execution_count": 6,
   "metadata": {},
   "outputs": [
    {
     "data": {
      "text/plain": [
       "array([[-1.,  0.],\n",
       "       [-2.,  0.],\n",
       "       [-3.,  0.]])"
      ]
     },
     "execution_count": 6,
     "metadata": {},
     "output_type": "execute_result"
    }
   ],
   "source": [
    "a.dot(b.T)  # 矩阵内积"
   ]
  },
  {
   "cell_type": "markdown",
   "metadata": {},
   "source": [
    "#### 直接使用矩阵类型进行运算"
   ]
  },
  {
   "cell_type": "markdown",
   "metadata": {},
   "source": [
    "使用 numpy 的矩阵类型 `numpy.matrix`"
   ]
  },
  {
   "cell_type": "code",
   "execution_count": 7,
   "metadata": {
    "cell_style": "center"
   },
   "outputs": [
    {
     "data": {
      "text/plain": [
       "matrix([[1., 0., 0.],\n",
       "        [0., 2., 0.],\n",
       "        [0., 0., 3.]])"
      ]
     },
     "execution_count": 7,
     "metadata": {},
     "output_type": "execute_result"
    }
   ],
   "source": [
    "a = np.mat(np.diagflat([1., 2., 3.])); a"
   ]
  },
  {
   "cell_type": "code",
   "execution_count": 8,
   "metadata": {
    "cell_style": "center"
   },
   "outputs": [
    {
     "data": {
      "text/plain": [
       "matrix([[-1., -1., -1.],\n",
       "        [ 0.,  0.,  0.]])"
      ]
     },
     "execution_count": 8,
     "metadata": {},
     "output_type": "execute_result"
    }
   ],
   "source": [
    "b = np.mat(np.array([[-1., -1., -1.],[0., 0., 0.]])); b"
   ]
  },
  {
   "cell_type": "code",
   "execution_count": 10,
   "metadata": {},
   "outputs": [
    {
     "data": {
      "text/plain": [
       "matrix([[-1.,  0.],\n",
       "        [-2.,  0.],\n",
       "        [-3.,  0.]])"
      ]
     },
     "execution_count": 10,
     "metadata": {},
     "output_type": "execute_result"
    }
   ],
   "source": [
    "a * b.T  # 矩阵内积, 注意与数组的运算符定义不同"
   ]
  },
  {
   "cell_type": "code",
   "execution_count": 12,
   "metadata": {},
   "outputs": [
    {
     "data": {
      "text/plain": [
       "matrix([[-1.,  0.],\n",
       "        [-2.,  0.],\n",
       "        [-3.,  0.]])"
      ]
     },
     "execution_count": 12,
     "metadata": {},
     "output_type": "execute_result"
    }
   ],
   "source": [
    "a @ b.T  # 矩阵内积的新写法, python 3.5+"
   ]
  },
  {
   "cell_type": "code",
   "execution_count": 13,
   "metadata": {},
   "outputs": [
    {
     "data": {
      "text/plain": [
       "matrix([[ 1.        ,  0.        , -0.        ],\n",
       "        [ 0.        ,  0.5       , -0.        ],\n",
       "        [ 0.        ,  0.        ,  0.33333333]])"
      ]
     },
     "execution_count": 13,
     "metadata": {},
     "output_type": "execute_result"
    }
   ],
   "source": [
    "a.I  # 求逆"
   ]
  },
  {
   "cell_type": "markdown",
   "metadata": {},
   "source": [
    "### 用作坐标格点的数组的几种形式"
   ]
  },
  {
   "cell_type": "markdown",
   "metadata": {},
   "source": [
    "* **`np.meshgrid`**"
   ]
  },
  {
   "cell_type": "markdown",
   "metadata": {},
   "source": [
    "```python\n",
    ">>> x = np.linspace(0, 2, 3); x\n",
    "array([ 0.,  1.,  2.])\n",
    ">>> y = np.linspace(3, 6, 4); y\n",
    "array([3., 4., 5., 6.])\n",
    "# X, Y 形状相同: N x M 矩阵, shape=(N, M)\n",
    ">>> X, Y = np.meshgrid(x, y)\n",
    ">>> X                         # X[j, :] 表示同一层 y[j] 对应的不同 x 值\n",
    "array([[0., 1., 2.],          #  0_____x\n",
    "       [0., 1., 2.],          #  |\n",
    "       [0., 1., 2.],          #  |y\n",
    "       [0., 1., 2.]])\n",
    ">>> Y\n",
    "array([[3., 3., 3.],          # Y[:, i] 表示同一层 x[i] 对应的不同 y 值\n",
    "       [4., 4., 4.],\n",
    "       [5., 5., 5.],\n",
    "       [6., 6., 6.]])\n",
    "```\n",
    "可用来计算坐标的函数 (例如磁场的表达式等等, 见 [examples/streamplot.py](examples/streamplot.py) )\n",
    "```python\n",
    "U =   (np.cos(k1 * X) * np.exp(-k1 * Y)\n",
    "     - np.cos(k2 * X) * np.exp(-k2 * Y))\n",
    "V = (- np.sin(k1 * X) * np.exp(-k1 * Y)\n",
    "     + np.sin(k2 * X) * np.exp(-k2 * Y))\n",
    "```"
   ]
  },
  {
   "cell_type": "code",
   "execution_count": 88,
   "metadata": {},
   "outputs": [
    {
     "data": {
      "text/plain": [
       "(3, 4)"
      ]
     },
     "execution_count": 88,
     "metadata": {},
     "output_type": "execute_result"
    }
   ],
   "source": [
    "x = np.linspace(0, 2, 3)\n",
    "y = np.linspace(3, 6, 4)\n",
    "X, Y = np.meshgrid(x, y, indexing='ij')\n",
    "Y.shape"
   ]
  },
  {
   "cell_type": "markdown",
   "metadata": {},
   "source": [
    "* **`np.mgrid`**"
   ]
  },
  {
   "cell_type": "markdown",
   "metadata": {},
   "source": [
    "`j` 标记默认是虚数单位, 但在这里表示前面的数字是格点数.<br>\n",
    "格点数使用变量 *`n`* 时, 可写成: *`n`*`*1j + 1j`, 1不能省 (否则j定义为变量)<br>\n",
    "类似的 `np.ogrid` 可参见 numpy 相关文档\n",
    "\n",
    "```python\n",
    ">>> x = np.linspace(0, 2, 3)\n",
    ">>> y = np.linspace(3, 6, 4)\n",
    "\n",
    "# 下面三行等价\n",
    ">>> X, Y = np.mgrid[0:2:3j, 3:6:4j]\n",
    ">>> X, Y = np.array([i.astype(np.float64) for i in np.mgrid[0:3, 3:7]])\n",
    ">>> X, Y = np.array(np.meshgrid(x, y, indexing='ij'))\n",
    "# np.mgrid[0:2:3j, 3:6:4j] 得到的数据类型为 'float64'\n",
    "# np.mgrid[0:3, 3:6] 得到的数据类型为 'int64'\n",
    "# np.meshgrid(x, y, indexing='ij') 得到一个 list, 数据格式同x, y\n",
    "\n",
    "# X, Y 形状相同: M x N 矩阵, shape=(M, N)\n",
    ">>> X                      # X[i, :] 表示 x[i]\n",
    "array([[0., 0., 0., 0.],   #  0_____y\n",
    "       [1., 1., 1., 1.],   #  |\n",
    "       [2., 2., 2., 2.]])  #  |x\n",
    ">>> Y                      # Y[:, j] 表示 y[j]\n",
    "array([[3., 4., 5., 6.],\n",
    "       [3., 4., 5., 6.],\n",
    "       [3., 4., 5., 6.]])\n",
    "```"
   ]
  },
  {
   "cell_type": "markdown",
   "metadata": {},
   "source": [
    "### mask"
   ]
  },
  {
   "cell_type": "code",
   "execution_count": 97,
   "metadata": {},
   "outputs": [
    {
     "data": {
      "text/plain": [
       "array([[0, 1, 2],\n",
       "       [3, 4, 5],\n",
       "       [6, 7, 8]])"
      ]
     },
     "execution_count": 97,
     "metadata": {},
     "output_type": "execute_result"
    }
   ],
   "source": [
    "a = np.arange(9).reshape(3, -1); a"
   ]
  },
  {
   "cell_type": "code",
   "execution_count": 69,
   "metadata": {
    "cell_style": "center"
   },
   "outputs": [
    {
     "data": {
      "text/plain": [
       "array([[False, False, False],\n",
       "       [False, False,  True],\n",
       "       [ True,  True,  True]])"
      ]
     },
     "execution_count": 69,
     "metadata": {},
     "output_type": "execute_result"
    }
   ],
   "source": [
    "a > 4  # mask"
   ]
  },
  {
   "cell_type": "code",
   "execution_count": 86,
   "metadata": {},
   "outputs": [
    {
     "data": {
      "text/plain": [
       "(array([1, 2, 2, 2]), array([2, 0, 1, 2]))"
      ]
     },
     "execution_count": 86,
     "metadata": {},
     "output_type": "execute_result"
    }
   ],
   "source": [
    "np.where(a > 4)  # 得到 tuple(col_indexs, row_indexs)"
   ]
  },
  {
   "cell_type": "code",
   "execution_count": 92,
   "metadata": {},
   "outputs": [
    {
     "data": {
      "text/plain": [
       "[(1, 2), (2, 0), (2, 1), (2, 2)]"
      ]
     },
     "execution_count": 92,
     "metadata": {},
     "output_type": "execute_result"
    }
   ],
   "source": [
    "list(zip(*np.where(a > 4)))  # 也可以用 np.array(np.where(a > 4)).T"
   ]
  },
  {
   "cell_type": "code",
   "execution_count": 98,
   "metadata": {},
   "outputs": [
    {
     "data": {
      "text/plain": [
       "array([[ 0,  1,  2],\n",
       "       [ 3,  4, -1],\n",
       "       [-1, -1, -1]])"
      ]
     },
     "execution_count": 98,
     "metadata": {},
     "output_type": "execute_result"
    }
   ],
   "source": [
    "a[a > 4] = -1; a  # same as a[np.where(a > 4)]"
   ]
  },
  {
   "cell_type": "markdown",
   "metadata": {},
   "source": [
    "### 其他对数组元素的处理"
   ]
  },
  {
   "cell_type": "markdown",
   "metadata": {},
   "source": [
    "处理含有 NaN 的数据:\n",
    "\n",
    "e.g. 求最值可使用 `np.nanmin(...)` 和 `np.nanmax(...)`"
   ]
  },
  {
   "cell_type": "markdown",
   "metadata": {},
   "source": [
    "## Matplotlib"
   ]
  },
  {
   "cell_type": "markdown",
   "metadata": {},
   "source": [
    "* 官方教程 https://matplotlib.org/tutorials/introductory/usage.html\n",
    "\n",
    "<img style='float: left;' src='fig/anatomy.png' width='600' />"
   ]
  },
  {
   "cell_type": "code",
   "execution_count": null,
   "metadata": {},
   "outputs": [],
   "source": [
    "fig = plt.gcf() # current figure\n",
    "ax = plt.gca()  # current `Axes`\n",
    "im = plt.gci()  # current artist(图像内容), 可由诸如 plt.imshow(...) 得到"
   ]
  },
  {
   "cell_type": "markdown",
   "metadata": {},
   "source": [
    "* 得到当前 backend:\n",
    "```python\n",
    ">>> import matplotlib.pyplot as plt\n",
    ">>> plt.get_backend()\n",
    "```\n",
    "或\n",
    "```python\n",
    ">>> import maplotlib as mpl\n",
    ">>> mpl.get_backend()\n",
    "```\n",
    "* 选择 backend (在导入其他 matplotlib 模块之前):\n",
    "```python\n",
    ">>> import matplotlib\n",
    ">>> matplotlib.use('TkAgg')  # 'Qt5Agg', 'TkAgg', 'Agg', ...\n",
    "```"
   ]
  },
  {
   "cell_type": "markdown",
   "metadata": {},
   "source": [
    "* 用户配置文档 `matplotlibrc`<br>\n",
    "通常的位置: `~/.config/matplotlib/matplotlibrc` (Linux)"
   ]
  },
  {
   "cell_type": "markdown",
   "metadata": {},
   "source": [
    "* 用 `zorder` 来控制图层:"
   ]
  },
  {
   "cell_type": "markdown",
   "metadata": {},
   "source": [
    "这个例子中也展示了加入一个动态的竖线的方法, 这条线在保存后的图像中不会显示."
   ]
  },
  {
   "cell_type": "code",
   "execution_count": null,
   "metadata": {},
   "outputs": [],
   "source": [
    "%matplotlib\n",
    "%run -e 'examples/test_plot.py'"
   ]
  },
  {
   "cell_type": "markdown",
   "metadata": {},
   "source": [
    "* 使用 [这个工具](https://github.com/joferkington/mpldatacursor) 动态标注光标位置的值:"
   ]
  },
  {
   "cell_type": "code",
   "execution_count": null,
   "metadata": {
    "cell_style": "center",
    "code_folding": [],
    "scrolled": true
   },
   "outputs": [],
   "source": [
    "%matplotlib\n",
    "%run -e 'examples/test_imshow.py'"
   ]
  },
  {
   "cell_type": "markdown",
   "metadata": {},
   "source": [
    "* 点击图像后在命令行显示光标处信息的例子\n",
    "\n",
    "命令行脚本: [examples/test_imshow_click.py](examples/test_imshow_click.py) (jupyter 中无法使用)"
   ]
  },
  {
   "cell_type": "markdown",
   "metadata": {},
   "source": [
    "* 布局问题 https://matplotlib.org/tutorials/intermediate/constrainedlayout_guide.html\n",
    "* 绘制平行投影的3D图 https://matplotlib.org/mpl_toolkits/mplot3d/tutorial.html\n",
    "* 更复杂的 3D 可转存可视化数据用其他软件或使用 Mayavi (http://docs.enthought.com/mayavi/mayavi)"
   ]
  },
  {
   "cell_type": "markdown",
   "metadata": {},
   "source": [
    "## SunPy 示例"
   ]
  },
  {
   "cell_type": "markdown",
   "metadata": {},
   "source": [
    "### 示例文件"
   ]
  },
  {
   "cell_type": "markdown",
   "metadata": {},
   "source": [
    "- 读取 fits, submap, 作图 [example_plothmi](https://lydiazly.coding.me/python-notes/example_plothmi.html)\n",
    "\n",
    "- 投影 [example_projection](https://lydiazly.coding.me/python-notes/example_projection.html)\n",
    "\n",
    "- 下载数据 [fido](https://lydiazly.coding.me/python-notes/fido.html), [jsoc](https://lydiazly.coding.me/python-notes/jsoc.html)\n",
    " \n",
    " 注意: 这些例子只是提供一个使用参考, 不一定是最优的."
   ]
  },
  {
   "cell_type": "markdown",
   "metadata": {},
   "source": [
    "### 示例中的 fits 读取方法"
   ]
  },
  {
   "cell_type": "markdown",
   "metadata": {},
   "source": [
    "更多 FITS 的读取方法参见 [Python 简易教程#FITS-文件读取](main.ipynb#FITS-文件读取)<br>\n",
    "另见 [Astropy 的命令行工具](http://docs.astropy.org/en/stable/io/fits/usage/scripts.html)"
   ]
  },
  {
   "cell_type": "markdown",
   "metadata": {},
   "source": [
    "读取`HMIMap` 的例子:"
   ]
  },
  {
   "cell_type": "code",
   "execution_count": 2,
   "metadata": {},
   "outputs": [
    {
     "data": {
      "text/plain": [
       "sunpy.map.sources.sdo.HMIMap"
      ]
     },
     "execution_count": 2,
     "metadata": {},
     "output_type": "execute_result"
    }
   ],
   "source": [
    "# 导入 `sunpy.map` 的时间会略有点长\n",
    "import sunpy.map\n",
    "smap = sunpy.map.Map('data/hmi.B_720s.20150827_052400_TAI.field.fits')\n",
    "type(smap)"
   ]
  },
  {
   "cell_type": "markdown",
   "metadata": {},
   "source": [
    "这是 `GenericMap` 的一个子类:"
   ]
  },
  {
   "cell_type": "code",
   "execution_count": 3,
   "metadata": {},
   "outputs": [
    {
     "data": {
      "text/plain": [
       "True"
      ]
     },
     "execution_count": 3,
     "metadata": {},
     "output_type": "execute_result"
    }
   ],
   "source": [
    "issubclass(sunpy.map.sources.sdo.HMIMap, sunpy.map.mapbase.GenericMap)\n",
    "True"
   ]
  },
  {
   "cell_type": "code",
   "execution_count": null,
   "metadata": {
    "scrolled": true
   },
   "outputs": [],
   "source": [
    "smap.meta  # headers"
   ]
  },
  {
   "cell_type": "code",
   "execution_count": 5,
   "metadata": {},
   "outputs": [
    {
     "data": {
      "text/plain": [
       "numpy.ndarray"
      ]
     },
     "execution_count": 5,
     "metadata": {},
     "output_type": "execute_result"
    }
   ],
   "source": [
    "type(smap.data)  # 索引从 0 开始"
   ]
  },
  {
   "cell_type": "code",
   "execution_count": 6,
   "metadata": {
    "scrolled": true
   },
   "outputs": [
    {
     "data": {
      "text/plain": [
       "(4096, 4096)"
      ]
     },
     "execution_count": 6,
     "metadata": {},
     "output_type": "execute_result"
    }
   ],
   "source": [
    "smap.data.shape  # (dimy, dimx)"
   ]
  },
  {
   "cell_type": "markdown",
   "metadata": {},
   "source": [
    "`smap.data[i, j]` 中的 i 为 Y 轴, 单位为 pixel:"
   ]
  },
  {
   "cell_type": "code",
   "execution_count": 7,
   "metadata": {},
   "outputs": [
    {
     "data": {
      "image/png": "[encoded data removed]",
      "text/plain": [
       "<Figure size 432x288 with 1 Axes>"
      ]
     },
     "metadata": {},
     "output_type": "display_data"
    }
   ],
   "source": [
    "import matplotlib.pyplot as plt\n",
    "plt.imshow(smap.data[0:2000, :], origin='lower');\n",
    "plt.show()"
   ]
  },
  {
   "cell_type": "markdown",
   "metadata": {},
   "source": [
    "### 关于 Scaled Image Data"
   ]
  },
  {
   "cell_type": "markdown",
   "metadata": {},
   "source": [
    "这一部分将更仔细地检查 Astropy 对示例中的 FITS 文件的处理.\n",
    "\n",
    "参见 http://docs.astropy.org/en/stable/io/fits/usage/image.html#scaled-data\n",
    "\n",
    "> Images are scaled only when either of the BSCALE/BZERO keywords are present in the header and either of their values is not the default value (BSCALE=1, BZERO=0).\n",
    "\n",
    "由于 `astropy.io.fits` 的特性, 读取 'Scaled Image Data' 时, 调用 `.data` 将自动对数据进行缩放:\n",
    "```python\n",
    "physical value = BSCALE * (storage value) + BZERO\n",
    "```\n",
    "`astropy.io.fits.open` 中使用 `do_not_scale_image_data=True` 可禁用这一步骤.\n",
    "\n",
    "见 [astropy.io.fits FAQ](http://docs.astropy.org/en/stable/io/fits/appendix/faq.html#why-is-an-image-containing-integer-data-being-converted-unexpectedly-to-floats)"
   ]
  },
  {
   "cell_type": "markdown",
   "metadata": {},
   "source": [
    "数据类型:\n",
    "\n",
    "BITPIX    |Numpy Data Type\n",
    ":---:|:---\n",
    "8         |numpy.uint8 (unsigned integer)\n",
    "16        |numpy.int16\n",
    "32        |numpy.int32\n",
    "-32       |numpy.float32\n",
    "-64       |numpy.float64"
   ]
  },
  {
   "cell_type": "markdown",
   "metadata": {},
   "source": [
    "可以使用 Astropy 的命令行工具在 shell 中查看信息:"
   ]
  },
  {
   "cell_type": "code",
   "execution_count": 3,
   "metadata": {},
   "outputs": [
    {
     "name": "stdout",
     "output_type": "stream",
     "text": [
      "Filename: data/hmi.B_720s.20150827_052400_TAI.field.fits\r\n",
      "No.    Name      Ver    Type      Cards   Dimensions   Format\r\n",
      "  0  PRIMARY       1 PrimaryHDU       6   ()      \r\n",
      "  1                1 CompImageHDU    155   (4096, 4096)   int32   \r\n"
     ]
    }
   ],
   "source": [
    "fname = 'data/hmi.B_720s.20150827_052400_TAI.field.fits'\n",
    "!fitsinfo {fname}"
   ]
  },
  {
   "cell_type": "markdown",
   "metadata": {},
   "source": [
    "可以看到该文件存储的数据类型是整形.\n",
    "\n",
    "用命令行工具查看关键字 'BITPIX':"
   ]
  },
  {
   "cell_type": "code",
   "execution_count": 3,
   "metadata": {},
   "outputs": [
    {
     "name": "stdout",
     "output_type": "stream",
     "text": [
      "# HDU 1 in data/hmi.B_720s.20150827_052400_TAI.field.fits:\r\n",
      "BITPIX  =                   32 / data type of original image                    \r\n"
     ]
    }
   ],
   "source": [
    "!fitsheader -e 1 --keyword BITPIX {fname}"
   ]
  },
  {
   "cell_type": "markdown",
   "metadata": {},
   "source": [
    "使用 `astropy.io.fits`:"
   ]
  },
  {
   "cell_type": "code",
   "execution_count": 4,
   "metadata": {},
   "outputs": [],
   "source": [
    "from astropy.io import fits\n",
    "hdulist = fits.open(fname)\n",
    "hdu = hdulist[1]"
   ]
  },
  {
   "cell_type": "code",
   "execution_count": 5,
   "metadata": {},
   "outputs": [
    {
     "data": {
      "text/plain": [
       "32"
      ]
     },
     "execution_count": 5,
     "metadata": {},
     "output_type": "execute_result"
    }
   ],
   "source": [
    "hdu.header['BITPIX']"
   ]
  },
  {
   "cell_type": "markdown",
   "metadata": {},
   "source": [
    "'BSCALE' 不为零则为 'scaled':"
   ]
  },
  {
   "cell_type": "code",
   "execution_count": 6,
   "metadata": {},
   "outputs": [
    {
     "data": {
      "text/plain": [
       "0.01"
      ]
     },
     "execution_count": 6,
     "metadata": {},
     "output_type": "execute_result"
    }
   ],
   "source": [
    "hdu.header['BSCALE']"
   ]
  },
  {
   "cell_type": "code",
   "execution_count": 7,
   "metadata": {
    "scrolled": true
   },
   "outputs": [
    {
     "data": {
      "text/plain": [
       "0.0"
      ]
     },
     "execution_count": 7,
     "metadata": {},
     "output_type": "execute_result"
    }
   ],
   "source": [
    "hdu.header['BZERO']"
   ]
  },
  {
   "cell_type": "code",
   "execution_count": null,
   "metadata": {},
   "outputs": [],
   "source": [
    "hdulist.verify('silentfix+warn')  # 调用 `.data` 时如果出错, 需要先进行这一步修复"
   ]
  },
  {
   "cell_type": "code",
   "execution_count": 6,
   "metadata": {},
   "outputs": [
    {
     "data": {
      "text/plain": [
       "dtype('float64')"
      ]
     },
     "execution_count": 6,
     "metadata": {},
     "output_type": "execute_result"
    }
   ],
   "source": [
    "hdu.data.dtype  # 已自动变换为 'physical value', 同时 `.header` 将被修改"
   ]
  },
  {
   "cell_type": "code",
   "execution_count": 7,
   "metadata": {},
   "outputs": [
    {
     "data": {
      "text/plain": [
       "142.83"
      ]
     },
     "execution_count": 7,
     "metadata": {},
     "output_type": "execute_result"
    }
   ],
   "source": [
    "hdu.data[1000, 1000]"
   ]
  },
  {
   "cell_type": "code",
   "execution_count": 8,
   "metadata": {},
   "outputs": [
    {
     "data": {
      "text/plain": [
       "nan"
      ]
     },
     "execution_count": 8,
     "metadata": {},
     "output_type": "execute_result"
    }
   ],
   "source": [
    "hdu.data[0,0]  # -2147483648 被转为 nan"
   ]
  },
  {
   "cell_type": "code",
   "execution_count": 9,
   "metadata": {
    "scrolled": true
   },
   "outputs": [
    {
     "data": {
      "text/plain": [
       "-64"
      ]
     },
     "execution_count": 9,
     "metadata": {},
     "output_type": "execute_result"
    }
   ],
   "source": [
    "hdu.header['BITPIX']  # 值被改变了. 同时 'BSCALE', 'BZERO' 被删除"
   ]
  },
  {
   "cell_type": "markdown",
   "metadata": {},
   "source": [
    "手动 scale:\n",
    "\n",
    "'BSCALE' 虽然之前已被删除, 但值仍存储在 `._orig_bscale` 中. `.scale` 将使用这个值."
   ]
  },
  {
   "cell_type": "code",
   "execution_count": 12,
   "metadata": {},
   "outputs": [],
   "source": [
    "hdu.scale('int32')  # 在此之后 `.data` 将变换回 'storage value'"
   ]
  },
  {
   "cell_type": "code",
   "execution_count": 13,
   "metadata": {
    "scrolled": true
   },
   "outputs": [
    {
     "data": {
      "text/plain": [
       "0.01"
      ]
     },
     "execution_count": 13,
     "metadata": {},
     "output_type": "execute_result"
    }
   ],
   "source": [
    "hdu._orig_bscale"
   ]
  },
  {
   "cell_type": "code",
   "execution_count": 14,
   "metadata": {
    "scrolled": true
   },
   "outputs": [
    {
     "data": {
      "text/plain": [
       "0"
      ]
     },
     "execution_count": 14,
     "metadata": {},
     "output_type": "execute_result"
    }
   ],
   "source": [
    "hdu._orig_bzero"
   ]
  },
  {
   "cell_type": "code",
   "execution_count": 15,
   "metadata": {},
   "outputs": [
    {
     "data": {
      "text/plain": [
       "14283"
      ]
     },
     "execution_count": 15,
     "metadata": {},
     "output_type": "execute_result"
    }
   ],
   "source": [
    "hdu.data[1000, 1000]"
   ]
  },
  {
   "cell_type": "code",
   "execution_count": 16,
   "metadata": {},
   "outputs": [
    {
     "data": {
      "text/plain": [
       "-2147483648"
      ]
     },
     "execution_count": 16,
     "metadata": {},
     "output_type": "execute_result"
    }
   ],
   "source": [
    "hdu.data[0, 0]  # nan 被转为 -2147483648"
   ]
  },
  {
   "cell_type": "code",
   "execution_count": 17,
   "metadata": {
    "scrolled": true
   },
   "outputs": [
    {
     "data": {
      "text/plain": [
       "32"
      ]
     },
     "execution_count": 17,
     "metadata": {},
     "output_type": "execute_result"
    }
   ],
   "source": [
    "hdu.header['BITPIX']  # 值再次被改变了"
   ]
  },
  {
   "cell_type": "markdown",
   "metadata": {},
   "source": [
    "使用 SunPy 处理时, 'BITPIX', 'BSCALE', 'BZERO' 的值被保留, `.data` 仍进行了 scale 的过程.\n",
    "\n",
    "针对不同文件, 如果 SunPy 的程序内部使用 `astropy.io.fits` 处理文件时调用了 `.data` 再返回 header, 即 `astropy.io.fits` 已经如上所述改变了 header, 那么 SunPy 所返回的 header 中 'BITPIX', 'BSCALE', 'BZERO' 可能已经被改变.\n",
    "\n",
    "下面的例子中得到的 header 是最初的值:"
   ]
  },
  {
   "cell_type": "code",
   "execution_count": 3,
   "metadata": {},
   "outputs": [],
   "source": [
    "import sunpy.map\n",
    "smap = sunpy.map.Map('data/hmi.B_720s.20150827_052400_TAI.field.fits')"
   ]
  },
  {
   "cell_type": "code",
   "execution_count": 4,
   "metadata": {
    "scrolled": true
   },
   "outputs": [
    {
     "data": {
      "text/plain": [
       "32"
      ]
     },
     "execution_count": 4,
     "metadata": {},
     "output_type": "execute_result"
    }
   ],
   "source": [
    "smap.meta['BITPIX']  # 得到的是未被改变的 header"
   ]
  },
  {
   "cell_type": "code",
   "execution_count": 5,
   "metadata": {
    "scrolled": true
   },
   "outputs": [
    {
     "data": {
      "text/plain": [
       "0.01"
      ]
     },
     "execution_count": 5,
     "metadata": {},
     "output_type": "execute_result"
    }
   ],
   "source": [
    "smap.meta['BSCALE']"
   ]
  },
  {
   "cell_type": "code",
   "execution_count": 6,
   "metadata": {
    "scrolled": false
   },
   "outputs": [
    {
     "data": {
      "text/plain": [
       "0.0"
      ]
     },
     "execution_count": 6,
     "metadata": {},
     "output_type": "execute_result"
    }
   ],
   "source": [
    "smap.meta['BZERO']"
   ]
  },
  {
   "cell_type": "code",
   "execution_count": 11,
   "metadata": {},
   "outputs": [
    {
     "data": {
      "text/plain": [
       "142.83"
      ]
     },
     "execution_count": 11,
     "metadata": {},
     "output_type": "execute_result"
    }
   ],
   "source": [
    "smap.data[1000, 1000]  # 这一步并不改变 `.meta` 的值"
   ]
  },
  {
   "cell_type": "code",
   "execution_count": 8,
   "metadata": {
    "scrolled": true
   },
   "outputs": [
    {
     "data": {
      "text/plain": [
       "32"
      ]
     },
     "execution_count": 8,
     "metadata": {},
     "output_type": "execute_result"
    }
   ],
   "source": [
    "smap.meta['BITPIX']  # 不变"
   ]
  },
  {
   "cell_type": "code",
   "execution_count": 9,
   "metadata": {
    "scrolled": true
   },
   "outputs": [
    {
     "data": {
      "text/plain": [
       "0.01"
      ]
     },
     "execution_count": 9,
     "metadata": {},
     "output_type": "execute_result"
    }
   ],
   "source": [
    "smap.meta['BSCALE']  # 不变"
   ]
  },
  {
   "cell_type": "code",
   "execution_count": 10,
   "metadata": {
    "scrolled": true
   },
   "outputs": [
    {
     "data": {
      "text/plain": [
       "0.0"
      ]
     },
     "execution_count": 10,
     "metadata": {},
     "output_type": "execute_result"
    }
   ],
   "source": [
    "smap.meta['BZERO']  # 不变"
   ]
  },
  {
   "cell_type": "markdown",
   "metadata": {},
   "source": [
    "### 坐标和单位"
   ]
  },
  {
   "cell_type": "markdown",
   "metadata": {},
   "source": [
    "**SunPy map** http://docs.sunpy.org/en/stable/code_ref/map.html#using-map-objects\n",
    ">A number of the **properties** of this class are returned as **two-value named tuples**\n",
    "that can either be\n",
    "- indexed by position:&ensp;**<font color=blue>[0]</font>,&ensp;<font color=blue>[1]</font>**\n",
    "- be accessed by the names:\n",
    "  - pixel axes:&ensp;**<font color=blue>.x</font>,&ensp;<font color=blue>.y</font>**<br>\n",
    "  x and y refer to the FITS axes (x for columns y for rows)\n",
    "  - spatial axes:&ensp;**<font color=blue>.axis1</font>,&ensp;<font color=blue>.axis2</font>**<br>\n",
    "  axis1 corresponds to the coordinate axis for x and axis2 corresponds to y."
   ]
  },
  {
   "cell_type": "code",
   "execution_count": 8,
   "metadata": {},
   "outputs": [
    {
     "data": {
      "text/plain": [
       "PixelPair(x=<Quantity 4096. pix>, y=<Quantity 4096. pix>)"
      ]
     },
     "execution_count": 8,
     "metadata": {},
     "output_type": "execute_result"
    }
   ],
   "source": [
    "smap.dimensions"
   ]
  },
  {
   "cell_type": "code",
   "execution_count": 9,
   "metadata": {
    "scrolled": true
   },
   "outputs": [
    {
     "data": {
      "text/latex": [
       "$4096 \\; \\mathrm{pix}$"
      ],
      "text/plain": [
       "<Quantity 4096. pix>"
      ]
     },
     "execution_count": 9,
     "metadata": {},
     "output_type": "execute_result"
    }
   ],
   "source": [
    "smap.dimensions.x  # 得到一个 `astropy.units.quantity.Quantity`, 包含 value 和 unit"
   ]
  },
  {
   "cell_type": "code",
   "execution_count": 10,
   "metadata": {
    "cell_style": "split",
    "scrolled": true
   },
   "outputs": [
    {
     "data": {
      "text/latex": [
       "$\\mathrm{pix}$"
      ],
      "text/plain": [
       "Unit(\"pix\")"
      ]
     },
     "execution_count": 10,
     "metadata": {},
     "output_type": "execute_result"
    }
   ],
   "source": [
    "smap.dimensions.x.unit"
   ]
  },
  {
   "cell_type": "code",
   "execution_count": 11,
   "metadata": {
    "cell_style": "split"
   },
   "outputs": [
    {
     "data": {
      "text/plain": [
       "4096.0"
      ]
     },
     "execution_count": 11,
     "metadata": {},
     "output_type": "execute_result"
    }
   ],
   "source": [
    "smap.dimensions.x.value"
   ]
  },
  {
   "cell_type": "markdown",
   "metadata": {},
   "source": [
    "`astropy.units` 的使用方法:"
   ]
  },
  {
   "cell_type": "code",
   "execution_count": 12,
   "metadata": {},
   "outputs": [],
   "source": [
    "import astropy.units as u"
   ]
  },
  {
   "cell_type": "code",
   "execution_count": 13,
   "metadata": {},
   "outputs": [
    {
     "data": {
      "text/latex": [
       "$\\mathrm{\\mathring{A}}$"
      ],
      "text/plain": [
       "Unit(\"Angstrom\")"
      ]
     },
     "execution_count": 13,
     "metadata": {},
     "output_type": "execute_result"
    }
   ],
   "source": [
    "u.AA"
   ]
  },
  {
   "cell_type": "code",
   "execution_count": 14,
   "metadata": {},
   "outputs": [
    {
     "data": {
      "text/latex": [
       "$4096 \\; \\mathrm{pix}$"
      ],
      "text/plain": [
       "<Quantity 4096. pix>"
      ]
     },
     "execution_count": 14,
     "metadata": {},
     "output_type": "execute_result"
    }
   ],
   "source": [
    "4096 * u.pix  # same as `u.pixel`"
   ]
  },
  {
   "cell_type": "code",
   "execution_count": 15,
   "metadata": {
    "scrolled": true
   },
   "outputs": [
    {
     "data": {
      "text/latex": [
       "$[4096,~4096] \\; \\mathrm{pix}$"
      ],
      "text/plain": [
       "<Quantity [4096., 4096.] pix>"
      ]
     },
     "execution_count": 15,
     "metadata": {},
     "output_type": "execute_result"
    }
   ],
   "source": [
    "(4096, 4096) * u.pix  # 注意这里是 `astropy.units` 的运算, 和 list 运算规则不同"
   ]
  },
  {
   "cell_type": "code",
   "execution_count": 16,
   "metadata": {},
   "outputs": [
    {
     "data": {
      "text/plain": [
       "True"
      ]
     },
     "execution_count": 16,
     "metadata": {},
     "output_type": "execute_result"
    }
   ],
   "source": [
    "smap.dimensions.x.unit is u.pix  # 说明 x 是单位是 u.pix"
   ]
  },
  {
   "cell_type": "code",
   "execution_count": 17,
   "metadata": {},
   "outputs": [
    {
     "name": "stderr",
     "output_type": "stream",
     "text": [
      "/home/lydia/miniconda3/lib/python3.6/site-packages/sunpy/map/mapbase.py:669: Warning: Missing metadata for heliographic longitude: assuming longitude of 0 degrees\n",
      "  lon=self.heliographic_longitude,\n"
     ]
    },
    {
     "data": {
      "text/plain": [
       "astropy.coordinates.sky_coordinate.SkyCoord"
      ]
     },
     "execution_count": 17,
     "metadata": {},
     "output_type": "execute_result"
    }
   ],
   "source": [
    "type(smap.center)"
   ]
  },
  {
   "cell_type": "code",
   "execution_count": 18,
   "metadata": {},
   "outputs": [
    {
     "data": {
      "text/plain": [
       "[<Quantity 0. pix>, <Quantity 0. pix>]"
      ]
     },
     "execution_count": 18,
     "metadata": {},
     "output_type": "execute_result"
    }
   ],
   "source": [
    "list((0, 0) * u.pix)"
   ]
  },
  {
   "cell_type": "code",
   "execution_count": 19,
   "metadata": {
    "scrolled": true
   },
   "outputs": [
    {
     "data": {
      "text/plain": [
       "<SkyCoord (Helioprojective: obstime=2015-08-27 05:22:21.800000, rsun=696000000.0 m, observer=<HeliographicStonyhurst Coordinate (obstime=2015-08-27 05:22:21.800000): (lon, lat, radius) in (deg, deg, m)\n",
       "    (0., 7.089004, 1.51196988e+11)>): (Tx, Ty) in arcsec\n",
       "    (-1040.36199634, -1030.86554911)>"
      ]
     },
     "execution_count": 19,
     "metadata": {},
     "output_type": "execute_result"
    }
   ],
   "source": [
    "smap.pixel_to_world(*(4096, 4096) * u.pix)"
   ]
  },
  {
   "cell_type": "markdown",
   "metadata": {},
   "source": [
    "查看 `SkyCoord` 的帮助:"
   ]
  },
  {
   "cell_type": "code",
   "execution_count": null,
   "metadata": {},
   "outputs": [],
   "source": [
    "import astropy.coordinates\n",
    "help(astropy.coordinates.sky_coordinate.SkyCoord)"
   ]
  },
  {
   "cell_type": "code",
   "execution_count": 69,
   "metadata": {
    "scrolled": true
   },
   "outputs": [
    {
     "data": {
      "text/latex": [
       "$-7.65399\\mathrm{{}^{\\prime\\prime}}$"
      ],
      "text/plain": [
       "<Longitude -7.65398863 arcsec>"
      ]
     },
     "execution_count": 69,
     "metadata": {},
     "output_type": "execute_result"
    }
   ],
   "source": [
    "smap.center.Tx"
   ]
  },
  {
   "cell_type": "code",
   "execution_count": 57,
   "metadata": {},
   "outputs": [
    {
     "data": {
      "text/plain": [
       "<SkyCoord (Helioprojective: obstime=2015-08-27 05:22:21.800000, rsun=696000000.0 m, observer=<HeliographicStonyhurst Coordinate (obstime=2015-08-27 05:22:21.800000): (lon, lat, radius) in (deg, deg, m)\n",
       "    (0., 7.089004, 1.51196988e+11)>): (Tx, Ty) in arcsec\n",
       "    (16.55031204, 26.53575639)>"
      ]
     },
     "execution_count": 57,
     "metadata": {},
     "output_type": "execute_result"
    }
   ],
   "source": [
    "smap.pixel_to_world(*(2000, 2000) * u.pix)"
   ]
  },
  {
   "cell_type": "code",
   "execution_count": 56,
   "metadata": {
    "scrolled": false
   },
   "outputs": [
    {
     "data": {
      "text/plain": [
       "<SkyCoord (HeliographicStonyhurst: obstime=2015-08-27 05:22:21.800000): (lon, lat, radius) in (deg, deg, km)\n",
       "    (1.00568591, 8.68202918, 696000.0000022)>"
      ]
     },
     "execution_count": 56,
     "metadata": {},
     "output_type": "execute_result"
    }
   ],
   "source": [
    "smap.pixel_to_world(*(2000, 2000) * u.pix).transform_to('heliographic_stonyhurst')"
   ]
  },
  {
   "cell_type": "markdown",
   "metadata": {},
   "source": [
    "查看坐标信息:"
   ]
  },
  {
   "cell_type": "code",
   "execution_count": 9,
   "metadata": {
    "scrolled": false
   },
   "outputs": [
    {
     "name": "stderr",
     "output_type": "stream",
     "text": [
      "/home/lydia/miniconda3/lib/python3.6/site-packages/sunpy/map/mapbase.py:669: Warning: Missing metadata for heliographic longitude: assuming longitude of 0 degrees\n",
      "  lon=self.heliographic_longitude,\n"
     ]
    },
    {
     "data": {
      "text/plain": [
       "<Helioprojective Frame (obstime=2015-08-27 05:22:21.800000, rsun=696000000.0 m, observer=<HeliographicStonyhurst Coordinate (obstime=2015-08-27 05:22:21.800000): (lon, lat, radius) in (deg, deg, m)\n",
       "    (0., 7.089004, 1.51196988e+11)>)>"
      ]
     },
     "execution_count": 9,
     "metadata": {},
     "output_type": "execute_result"
    }
   ],
   "source": [
    "smap.coordinate_frame"
   ]
  },
  {
   "cell_type": "markdown",
   "metadata": {},
   "source": [
    "出现这个 Warning 时:"
   ]
  },
  {
   "cell_type": "code",
   "execution_count": 10,
   "metadata": {},
   "outputs": [
    {
     "data": {
      "text/plain": [
       "<Helioprojective Frame (obstime=2015-08-27 05:22:21.800000, rsun=696000000.0 m, observer=<HeliographicStonyhurst Coordinate (obstime=2015-08-27 05:22:21.800000): (lon, lat, radius) in (deg, deg, m)\n",
       "    (0., 7.089004, 1.51196988e+11)>)>"
      ]
     },
     "execution_count": 10,
     "metadata": {},
     "output_type": "execute_result"
    }
   ],
   "source": [
    "smap.meta['hgln_obs'] = 0.; smap.meta['hgln_obs'] = 0.; smap.meta['hgln_obs'] = 0.\n",
    "smap.coordinate_frame"
   ]
  },
  {
   "cell_type": "markdown",
   "metadata": {},
   "source": [
    "### 语法对比"
   ]
  },
  {
   "cell_type": "markdown",
   "metadata": {},
   "source": [
    "比较 `plothmi.py` 与对应 IDL 程序的语法:"
   ]
  },
  {
   "cell_type": "markdown",
   "metadata": {},
   "source": [
    "下面的语句中, 为了简便和方便对比, 使用了自定义的一些函数. 导入方法:\n",
    "```python\n",
    "from usr_sunpy import read_sdo, plot_map, plot_vmap, image_to_helio\n",
    "```"
   ]
  },
  {
   "cell_type": "markdown",
   "metadata": {},
   "source": [
    "读取数据\n",
    "```idl\n",
    "; IDL\n",
    "read_sdo,<fname>,index,data\n",
    "index2map,index,data,mapa\n",
    "```\n",
    "```python\n",
    "# Python\n",
    "# 为简化过程而自定义的函数, 读入时打印文件名和数组大小\n",
    "mapa = read_sdo(<fname>)\n",
    "```\n",
    "\n",
    "旋转\n",
    "```idl\n",
    "; IDL\n",
    "; 2 表示180°\n",
    "mapbx.data = rotate(mapbx,2)\n",
    "mapby.data = rotate(mapbx,2)\n",
    "mapbz.data = rotate(mapbx,2)\n",
    "```\n",
    "```python\n",
    "# Python\n",
    "# 利用 'crota2' 的值确定角度\n",
    "mapbx = mapbx.rotate(order=1)\n",
    "mapby = mapby.rotate(order=1)\n",
    "mapbz = mapbz.rotate(order=1)\n",
    "```\n",
    "\n",
    "截取\n",
    "```idl\n",
    "; IDL\n",
    "sub_map,mapbx,smapbx,xrange=[500,800.0],yrange=[-500,-100.0]\n",
    "sub_map,mapby,smapby,ref_map=smapbx\n",
    "sub_map,mapbz,smapbz,ref_map=smapbx\n",
    "```\n",
    "```python\n",
    "# Python\n",
    "# 左下到右上\n",
    "bl = SkyCoord(500*u.arcsec, -500*u.arcsec, frame=mapbz.coordinate_frame)\n",
    "tr = SkyCoord(800*u.arcsec, -100.*u.arcsec, frame=mapbz.coordinate_frame)\n",
    "smapbx = mapbx.submap(bl, tr)\n",
    "smapby = mapby.submap(bl, tr)\n",
    "smapbz = mapbz.submap(bl, tr)\n",
    "```\n",
    "\n",
    "绘图\n",
    "```idl\n",
    "; IDL\n",
    "plot_map,smapbz,dmax=2000,dmin=-2000,color=0,charsize=1.8,...\n",
    "plot_vmap,/over,smapbx,smapby,mapbz=smapbz,limit=180,scale=0.012,iskip=15,jskip=15,...\n",
    "```\n",
    "```python\n",
    "# Python\n",
    "# 主要调用的是 matplotlib\n",
    "fig = plt.figure()\n",
    "ax = fig.add_subplot(111, projection=smapbz) # 使用 smapbz 中定义的坐标系统\n",
    "plot_map(ax, smapbz)\n",
    "plot_vmap(ax, smapbx, smapby, smapbz, iskip=iskip, jskip=jskip, cmin=100., vmax=500., cmap='binary', ...)\n",
    "```\n",
    "\n",
    "坐标变换\n",
    "```idl\n",
    "; IDL\n",
    "; magnetic_modeling_codes/.../05projection_modified_version.pro\n",
    "```\n",
    "```python\n",
    "# Python\n",
    "# `image_to_helio`(变换为 Helioprojective(Cartesian) system)\n",
    "# 调用自定义的旋转矩阵函数 `proj_matrix`, 参考文献与原IDL程序相同\n",
    "hx, hy = image_to_helio(smapbz)  # numpy 数组\n",
    "smapbx_h, smapby_h, smapbz_h = image_to_helio(smapbx, smapby, smapbz) # sunpy `Map`\n",
    "\n",
    "plot_map(ax, smapbz_h, coords=(hx, hy))\n",
    "plot_vmap(ax, smapbx_h, smapby_h, smapbz_h, coords=(hx, hy), ...)\n",
    "```"
   ]
  },
  {
   "cell_type": "markdown",
   "metadata": {},
   "source": [
    "## 插值, 拟合"
   ]
  },
  {
   "cell_type": "markdown",
   "metadata": {},
   "source": [
    "选择不限于这里列举的包, 以后也可能会有更合适的方法出现.\n",
    "\n",
    "相关安装见 [安装和配置](installpy.ipynb#其他)"
   ]
  },
  {
   "cell_type": "markdown",
   "metadata": {},
   "source": [
    "### 插值"
   ]
  },
  {
   "cell_type": "markdown",
   "metadata": {},
   "source": [
    "* numpy\n",
    "```\n",
    "f = interp1d(x, y, kind='cubic'[, fill_value='extrapolate'])\n",
    "x2 = np.linspace(...)\n",
    "y2 = f(x2)\n",
    "```\n",
    "见 [examples/test_plot.py](examples/test_plot.py)"
   ]
  },
  {
   "cell_type": "markdown",
   "metadata": {},
   "source": [
    "* scipy https://docs.scipy.org/doc/scipy/reference/tutorial/interpolate.html"
   ]
  },
  {
   "cell_type": "markdown",
   "metadata": {},
   "source": [
    "### 求极值"
   ]
  },
  {
   "cell_type": "markdown",
   "metadata": {},
   "source": [
    "* PeakUtils http://peakutils.readthedocs.io/en/latest/\n",
    "\n",
    "官方例图 (http://peakutils.readthedocs.io/en/latest/tutorial_a.html):\n",
    "\n",
    "```python\n",
    "import peakutils\n",
    "indexes = peakutils.indexes(y, thres=0.5, min_dist=30)\n",
    "```\n",
    "\n",
    "<img src='fig/tut_a_2.png' width='500' />\n",
    "\n",
    "Enhancing the resolution by interpolation:\n",
    "```python\n",
    "peaks_x = peakutils.interpolate(x, y, ind=indexes)\n",
    "```"
   ]
  },
  {
   "cell_type": "markdown",
   "metadata": {},
   "source": [
    "### 拟合"
   ]
  },
  {
   "cell_type": "markdown",
   "metadata": {},
   "source": [
    "* LMFIT (Non-Linear Least-Squares Minimization and Curve-Fitting)\n",
    "\n",
    "下载 https://github.com/lmfit/lmfit-py\n",
    "\n",
    "文档 http://lmfit.github.io/lmfit-py/\n",
    "\n",
    "有现成模型, 也可以自定义模型.<br>\n",
    "可以方便地叠加不同拟合模型(比如多个高斯, 线性加高斯, 等等).<br>\n",
    "例子见 [examples/lmfits](examples/lmfits.zip) (来自 [LMFIT网站示例](http://lmfit.github.io/lmfit-py/builtin_models.html#example-1-fit-peak-data-to-gaussian-lorentzian-and-voigt-profiles) )"
   ]
  },
  {
   "cell_type": "markdown",
   "metadata": {},
   "source": [
    "使用内置模型:"
   ]
  },
  {
   "cell_type": "markdown",
   "metadata": {},
   "source": [
    "```python\n",
    "from lmfit.models import GaussianModel  # 内置的模型\n",
    "\n",
    "data = np.loadtxt('test_peak.dat')\n",
    "x = data[:, 0]\n",
    "y = data[:, 1]\n",
    "\n",
    "mod = GaussianModel()  # 实例化一个模型\n",
    "pars = mod.guess(y, x=x)  # 给初值\n",
    "out = mod.fit(y, pars, x=x)  # 拟合结果\n",
    "\n",
    "print(out.fit_report())  # 拟合结果的详细信息\n",
    "plt.plot(x, out.init_fit, 'k--')\n",
    "plt.plot(x, out.best_fit, 'r-')\n",
    "```"
   ]
  },
  {
   "cell_type": "code",
   "execution_count": 17,
   "metadata": {
    "scrolled": false
   },
   "outputs": [
    {
     "name": "stdout",
     "output_type": "stream",
     "text": [
      "[[Model]]\n",
      "    Model(voigt)\n",
      "[[Fit Statistics]]\n",
      "    # fitting method   = leastsq\n",
      "    # function evals   = 21\n",
      "    # data points      = 401\n",
      "    # variables        = 4\n",
      "    chi-square         = 10.9301767\n",
      "    reduced chi-square = 0.02753193\n",
      "    Akaike info crit   = -1436.57602\n",
      "    Bayesian info crit = -1420.60017\n",
      "[[Variables]]\n",
      "    sigma:      0.89518909 +/- 0.01415450 (1.58%) (init = 0.8775)\n",
      "    center:     9.24374847 +/- 0.00441903 (0.05%) (init = 9.25)\n",
      "    amplitude:  34.1914737 +/- 0.17946860 (0.52%) (init = 65.43358)\n",
      "    gamma:      0.52540198 +/- 0.01857955 (3.54%) (init = 0.7)\n",
      "    fwhm:       3.22385343 +/- 0.05097475 (1.58%) == '3.6013100*sigma'\n",
      "    height:     10.0872204 +/- 0.03482130 (0.35%) == 'amplitude*wofz((1j*gamma)/(sigma*sqrt(2))).real/(sigma*sqrt(2*pi))'\n",
      "[[Correlations]] (unreported correlations are < 0.100)\n",
      "    C(sigma, gamma)     = -0.928\n",
      "    C(amplitude, gamma) =  0.821\n",
      "    C(sigma, amplitude) = -0.651\n",
      "\n"
     ]
    },
    {
     "data": {
      "image/png": "[encoded data removed]",
      "text/plain": [
       "<Figure size 432x288 with 1 Axes>"
      ]
     },
     "metadata": {},
     "output_type": "display_data"
    }
   ],
   "source": [
    "%matplotlib inline\n",
    "%run examples/lmfits/fit_peak.py"
   ]
  },
  {
   "cell_type": "markdown",
   "metadata": {},
   "source": [
    "多个模型叠加:"
   ]
  },
  {
   "cell_type": "markdown",
   "metadata": {},
   "source": [
    "```python\n",
    "from lmfit.models import ExponentialModel, GaussianModel\n",
    "\n",
    "data = np.loadtxt('NIST_Gauss2.dat')\n",
    "x = data[:, 0]\n",
    "y = data[:, 1]\n",
    "\n",
    "exp_mod = ExponentialModel(prefix='exp_')\n",
    "gauss1 = GaussianModel(prefix='g1_')\n",
    "gauss2 = GaussianModel(prefix='g2_')\n",
    "\n",
    "pars1 = exp_mod.guess(y, x=x)  # 分段设参数的方法见下面的脚本文件\n",
    "pars2 = gauss1.guess(y, x=x)\n",
    "pars3 = gauss2.guess(y, x=x)\n",
    "\n",
    "pars = pars1 + pars2 + pars3  # 叠加参数\n",
    "mod = gauss1 + gauss2 + exp_mod  # 叠加模型\n",
    "\n",
    "out = mod.fit(y, pars, x=x)\n",
    "\n",
    "print(out.fit_report())\n",
    "plt.plot(x, y, 'b')\n",
    "plt.plot(x, out.init_fit, 'k--')\n",
    "plt.plot(x, out.best_fit, 'r-')\n",
    "```"
   ]
  },
  {
   "cell_type": "code",
   "execution_count": 17,
   "metadata": {},
   "outputs": [],
   "source": [
    "%%capture output\n",
    "%matplotlib inline\n",
    "%run examples/lmfits/fit_peaks.py"
   ]
  },
  {
   "cell_type": "code",
   "execution_count": 18,
   "metadata": {},
   "outputs": [
    {
     "data": {
      "image/png": "[encoded data removed]",
      "text/plain": [
       "<Figure size 432x288 with 1 Axes>"
      ]
     },
     "execution_count": 18,
     "metadata": {},
     "output_type": "execute_result"
    }
   ],
   "source": [
    "output.outputs[0]"
   ]
  },
  {
   "cell_type": "code",
   "execution_count": 20,
   "metadata": {},
   "outputs": [],
   "source": [
    "%%capture output\n",
    "%matplotlib inline\n",
    "%run examples/lmfits/fit_peaks_components.py"
   ]
  },
  {
   "cell_type": "code",
   "execution_count": 21,
   "metadata": {},
   "outputs": [
    {
     "data": {
      "image/png": "[encoded data removed]",
      "text/plain": [
       "<Figure size 432x288 with 1 Axes>"
      ]
     },
     "execution_count": 21,
     "metadata": {},
     "output_type": "execute_result"
    }
   ],
   "source": [
    "output.outputs[0]"
   ]
  },
  {
   "cell_type": "markdown",
   "metadata": {},
   "source": [
    "自定义模型的方法见 [LMFIT网站示例](http://lmfit.github.io/lmfit-py/builtin_models.html#user-defined-models)"
   ]
  },
  {
   "cell_type": "markdown",
   "metadata": {},
   "source": [
    "### 其他"
   ]
  },
  {
   "cell_type": "markdown",
   "metadata": {},
   "source": [
    "* Sherpa(Modeling and Fitting) http://cxc.cfa.harvard.edu/contrib/sherpa/<br>\n",
    "* 2-D Fitting in Sherpa https://python4astronomers.github.io/fitting/image.html<br>\n",
    "* *etc.*"
   ]
  },
  {
   "cell_type": "markdown",
   "metadata": {},
   "source": [
    "## copy 注意事项"
   ]
  },
  {
   "cell_type": "markdown",
   "metadata": {
    "cell_style": "center"
   },
   "source": [
    "**\"shallow copy\"** vs **\"deep copy\"**"
   ]
  },
  {
   "cell_type": "markdown",
   "metadata": {},
   "source": [
    "* 对于 list 的情况"
   ]
  },
  {
   "cell_type": "markdown",
   "metadata": {},
   "source": [
    "演示插件 https://github.com/lgpage/nbtutor"
   ]
  },
  {
   "cell_type": "code",
   "execution_count": 24,
   "metadata": {},
   "outputs": [
    {
     "name": "nbtutor",
     "output_type": "stream",
     "text": []
    }
   ],
   "source": [
    "%%nbtutor -r -f -i\n",
    "from copy import deepcopy\n",
    "a = [1, 2, 3]\n",
    "b = a\n",
    "c = deepcopy(a)\n",
    "d = a[:] # 列表的切片是深拷贝\n",
    "b[0] = -1\n",
    "c[1] = -2\n",
    "d[2] = -3"
   ]
  },
  {
   "cell_type": "code",
   "execution_count": 32,
   "metadata": {},
   "outputs": [
    {
     "name": "stdout",
     "output_type": "stream",
     "text": [
      "23284866388232 23284866388232 23284855519880 23284856061064\n"
     ]
    }
   ],
   "source": [
    "print(id(a), id(b), id(c), id(d))"
   ]
  },
  {
   "cell_type": "markdown",
   "metadata": {},
   "source": [
    "[网页版演示](http://t.cn/RgK1OHf)\n",
    "\n",
    "<img style='float: left;' src='fig/nbtutor3.png' width='550'/>"
   ]
  },
  {
   "cell_type": "markdown",
   "metadata": {},
   "source": [
    "* 对于 dict 的情况"
   ]
  },
  {
   "cell_type": "code",
   "execution_count": 48,
   "metadata": {},
   "outputs": [
    {
     "name": "nbtutor",
     "output_type": "stream",
     "text": []
    }
   ],
   "source": [
    "%%nbtutor -r -f -i\n",
    "from copy import deepcopy\n",
    "a = {1:1, 2:2, 3:3}\n",
    "b = a\n",
    "c = a.copy()  # 深拷贝\n",
    "d = deepcopy(a)\n",
    "b[1] = -1\n",
    "c[2] = -2\n",
    "d[3] = -3"
   ]
  },
  {
   "cell_type": "code",
   "execution_count": 49,
   "metadata": {
    "scrolled": true
   },
   "outputs": [
    {
     "name": "stdout",
     "output_type": "stream",
     "text": [
      "22492371132064 22492371132064 22492397510376 22492397507280\n"
     ]
    }
   ],
   "source": [
    "print(id(a), id(b), id(c), id(d))"
   ]
  },
  {
   "cell_type": "markdown",
   "metadata": {},
   "source": [
    "[网页版演示](http://t.cn/RgKrHOx)\n",
    "\n",
    "<img style='float: left;' src='fig/nbtutor4.png' width='550'/>"
   ]
  },
  {
   "cell_type": "markdown",
   "metadata": {},
   "source": [
    "* 对于 set 的情况"
   ]
  },
  {
   "cell_type": "code",
   "execution_count": 46,
   "metadata": {},
   "outputs": [
    {
     "name": "nbtutor",
     "output_type": "stream",
     "text": []
    }
   ],
   "source": [
    "%%nbtutor -r -f -i\n",
    "from copy import deepcopy\n",
    "a = {1, 2, 3}\n",
    "b = a\n",
    "c = a.copy()  # 深拷贝\n",
    "d = deepcopy(a)\n",
    "b.add(4)\n",
    "c.add(5)\n",
    "d.add(6)"
   ]
  },
  {
   "cell_type": "code",
   "execution_count": 47,
   "metadata": {
    "scrolled": true
   },
   "outputs": [
    {
     "name": "stdout",
     "output_type": "stream",
     "text": [
      "22492476895528 22492476895528 22492476895304 22492374233384\n"
     ]
    }
   ],
   "source": [
    "print(id(a), id(b), id(c), id(d))"
   ]
  },
  {
   "cell_type": "markdown",
   "metadata": {},
   "source": [
    "[网页版演示](http://t.cn/RgKd3E7)\n",
    "\n",
    "<img style='float: left;' src='fig/nbtutor5.png' width='550'/>"
   ]
  },
  {
   "cell_type": "markdown",
   "metadata": {},
   "source": [
    "* 对于 numpy 的情况"
   ]
  },
  {
   "cell_type": "code",
   "execution_count": 26,
   "metadata": {},
   "outputs": [
    {
     "name": "nbtutor",
     "output_type": "stream",
     "text": []
    }
   ],
   "source": [
    "%%nbtutor -r -f -i\n",
    "import numpy as np\n",
    "a = np.arange(1, 4)\n",
    "b = a[:] # 浅拷贝!\n",
    "c = a.copy()  # 深拷贝, 同 deepcopy(a)\n",
    "d = a[[0, 2]]  # 花式切片是深拷贝\n",
    "b[0] = -1\n",
    "c[1] = -2\n",
    "d[1] = -3"
   ]
  },
  {
   "cell_type": "code",
   "execution_count": 27,
   "metadata": {
    "code_folding": []
   },
   "outputs": [
    {
     "name": "stdout",
     "output_type": "stream",
     "text": [
      "22928831926400 93879086511872\n",
      "22928831928960 93879086511872\n",
      "22928829201984 93879072448320\n",
      "22928829199344 93879078700736\n"
     ]
    }
   ],
   "source": [
    "# id 虽各不同, 但 .__array_interface__['data'][0] 可能相同\n",
    "for i in (a, b, c, d):\n",
    "    print(id(i), i.__array_interface__['data'][0])"
   ]
  },
  {
   "cell_type": "markdown",
   "metadata": {},
   "source": [
    "[网页版演示](http://t.cn/Rg9hST6) (**Site Error**: Ruby and Python+Anaconda backends are permanently unavailable)"
   ]
  },
  {
   "cell_type": "markdown",
   "metadata": {},
   "source": [
    "参见之前的 [np.matrix, np.asmatrix](#矩阵)"
   ]
  },
  {
   "cell_type": "markdown",
   "metadata": {},
   "source": [
    "## 其他格式文件读写"
   ]
  },
  {
   "cell_type": "markdown",
   "metadata": {},
   "source": [
    "### 用 pandas 读 csv"
   ]
  },
  {
   "cell_type": "code",
   "execution_count": 2,
   "metadata": {},
   "outputs": [
    {
     "data": {
      "text/html": [
       "<div>\n",
       "<style scoped>\n",
       "    .dataframe tbody tr th:only-of-type {\n",
       "        vertical-align: middle;\n",
       "    }\n",
       "\n",
       "    .dataframe tbody tr th {\n",
       "        vertical-align: top;\n",
       "    }\n",
       "\n",
       "    .dataframe thead th {\n",
       "        text-align: right;\n",
       "    }\n",
       "</style>\n",
       "<table border=\"1\" class=\"dataframe\">\n",
       "  <thead>\n",
       "    <tr style=\"text-align: right;\">\n",
       "      <th></th>\n",
       "      <th>col1</th>\n",
       "      <th>col2</th>\n",
       "      <th>col3</th>\n",
       "    </tr>\n",
       "  </thead>\n",
       "  <tbody>\n",
       "    <tr>\n",
       "      <th>0</th>\n",
       "      <td>row1</td>\n",
       "      <td>1</td>\n",
       "      <td>10.0</td>\n",
       "    </tr>\n",
       "    <tr>\n",
       "      <th>1</th>\n",
       "      <td>row2</td>\n",
       "      <td>2</td>\n",
       "      <td>0.2</td>\n",
       "    </tr>\n",
       "    <tr>\n",
       "      <th>2</th>\n",
       "      <td>row3</td>\n",
       "      <td>3</td>\n",
       "      <td>300.0</td>\n",
       "    </tr>\n",
       "  </tbody>\n",
       "</table>\n",
       "</div>"
      ],
      "text/plain": [
       "   col1  col2   col3\n",
       "0  row1     1   10.0\n",
       "1  row2     2    0.2\n",
       "2  row3     3  300.0"
      ]
     },
     "execution_count": 2,
     "metadata": {},
     "output_type": "execute_result"
    }
   ],
   "source": [
    "import pandas as pd\n",
    "data = pd.read_csv(\"data/data.csv\")\n",
    "data"
   ]
  },
  {
   "cell_type": "code",
   "execution_count": 3,
   "metadata": {},
   "outputs": [
    {
     "data": {
      "text/plain": [
       "Index(['col1', 'col2', 'col3'], dtype='object')"
      ]
     },
     "execution_count": 3,
     "metadata": {},
     "output_type": "execute_result"
    }
   ],
   "source": [
    "data.columns"
   ]
  },
  {
   "cell_type": "code",
   "execution_count": 4,
   "metadata": {
    "cell_style": "split"
   },
   "outputs": [
    {
     "data": {
      "text/plain": [
       "0    row1\n",
       "1    row2\n",
       "2    row3\n",
       "Name: col1, dtype: object"
      ]
     },
     "execution_count": 4,
     "metadata": {},
     "output_type": "execute_result"
    }
   ],
   "source": [
    "data.col1"
   ]
  },
  {
   "cell_type": "code",
   "execution_count": 5,
   "metadata": {
    "cell_style": "split"
   },
   "outputs": [
    {
     "data": {
      "text/plain": [
       "0    row1\n",
       "1    row2\n",
       "2    row3\n",
       "Name: col1, dtype: object"
      ]
     },
     "execution_count": 5,
     "metadata": {},
     "output_type": "execute_result"
    }
   ],
   "source": [
    "data['col1']"
   ]
  },
  {
   "cell_type": "markdown",
   "metadata": {},
   "source": [
    "只取一部分:"
   ]
  },
  {
   "cell_type": "code",
   "execution_count": 6,
   "metadata": {},
   "outputs": [
    {
     "data": {
      "text/html": [
       "<div>\n",
       "<style scoped>\n",
       "    .dataframe tbody tr th:only-of-type {\n",
       "        vertical-align: middle;\n",
       "    }\n",
       "\n",
       "    .dataframe tbody tr th {\n",
       "        vertical-align: top;\n",
       "    }\n",
       "\n",
       "    .dataframe thead th {\n",
       "        text-align: right;\n",
       "    }\n",
       "</style>\n",
       "<table border=\"1\" class=\"dataframe\">\n",
       "  <thead>\n",
       "    <tr style=\"text-align: right;\">\n",
       "      <th></th>\n",
       "      <th>col1</th>\n",
       "      <th>col3</th>\n",
       "    </tr>\n",
       "  </thead>\n",
       "  <tbody>\n",
       "    <tr>\n",
       "      <th>0</th>\n",
       "      <td>row1</td>\n",
       "      <td>10.0</td>\n",
       "    </tr>\n",
       "    <tr>\n",
       "      <th>1</th>\n",
       "      <td>row2</td>\n",
       "      <td>0.2</td>\n",
       "    </tr>\n",
       "  </tbody>\n",
       "</table>\n",
       "</div>"
      ],
      "text/plain": [
       "   col1  col3\n",
       "0  row1  10.0\n",
       "1  row2   0.2"
      ]
     },
     "execution_count": 6,
     "metadata": {},
     "output_type": "execute_result"
    }
   ],
   "source": [
    "data = pd.read_csv(\"data/data.csv\", nrows=2, usecols=(0,2))\n",
    "data"
   ]
  },
  {
   "cell_type": "markdown",
   "metadata": {},
   "source": [
    "对于超大文件, 参见: https://www.dataquest.io/blog/pandas-big-data/"
   ]
  },
  {
   "cell_type": "markdown",
   "metadata": {},
   "source": [
    "### Fortran 二进制文件读写"
   ]
  },
  {
   "cell_type": "markdown",
   "metadata": {},
   "source": [
    "#### Unformatted (sequential)"
   ]
  },
  {
   "cell_type": "markdown",
   "metadata": {},
   "source": [
    "使用 `scipy.io.FortranFile`<br>\n",
    "参考: https://docs.scipy.org/doc/scipy-0.15.1/reference/generated/scipy.io.FortranFile.read_record.html"
   ]
  },
  {
   "cell_type": "code",
   "execution_count": 9,
   "metadata": {
    "code_folding": []
   },
   "outputs": [
    {
     "name": "stdout",
     "output_type": "stream",
     "text": [
      "1.1 0\n",
      "[[0. 1. 2.]\n",
      " [3. 4. 5.]]\n",
      "arr[0, 1] = 1.0\n"
     ]
    }
   ],
   "source": [
    "# python (write)\n",
    "from scipy.io import FortranFile\n",
    "var1 = 1.1  # '<f8'\n",
    "var2 = 0  # '<i8'\n",
    "arr = np.arange(6.).reshape((2, 3))  # '(2, 3)<f8'\n",
    "print(var1, var2)\n",
    "print(arr)\n",
    "print(f'arr[0, 1] = {arr[0, 1]}')\n",
    "\n",
    "# 多行存入\n",
    "with FortranFile('data/data_fortran1-1.dat', 'w') as f:\n",
    "    f.write_record(var1)\n",
    "    f.write_record(var2)\n",
    "    f.write_record(arr)\n",
    "# 单行存入\n",
    "with FortranFile('data/data_fortran1-2.dat', 'w') as f:\n",
    "    f.write_record(var1, var2, arr)"
   ]
  },
  {
   "cell_type": "code",
   "execution_count": 19,
   "metadata": {
    "scrolled": false
   },
   "outputs": [
    {
     "name": "stdout",
     "output_type": "stream",
     "text": [
      "data_fortran1-1.dat\n",
      "1.1 0\n",
      "[[0. 1. 2.]\n",
      " [3. 4. 5.]]\n",
      "\n",
      "data_fortran1-2.dat\n",
      "keys = ('var1', 'var2', 'arr')\n",
      "1.1 0\n",
      "[[[0. 1. 2.]\n",
      "  [3. 4. 5.]]]\n"
     ]
    }
   ],
   "source": [
    "# python (read)\n",
    "from scipy.io import FortranFile\n",
    "# 多行存入的情况\n",
    "with FortranFile('data/data_fortran1-1.dat', 'r') as f:\n",
    "    var1 = float(f.read_record('<f8'))\n",
    "    var2 = int(f.read_record('<i8'))  # 注意精度(上面python存入的是默认'int64')\n",
    "    arr = f.read_record('(2, 3)<f8')\n",
    "print('data_fortran1-1.dat')\n",
    "print(var1, var2)\n",
    "print(arr)\n",
    "# 单行存入的情况\n",
    "with FortranFile('data/data_fortran1-2.dat', 'r') as f:\n",
    "#     data = f.read_record('<f8, <i8, (2, 3)<f8')  # 不指定名称\n",
    "    data = f.read_record([('var1', '<f8'), ('var2', '<i8'),\n",
    "                         ('arr', '(2, 3)<f8')])  # 指定名称: (name, dtype)\n",
    "print('\\ndata_fortran1-2.dat')\n",
    "print(f'keys = {data.dtype.names}')  # 如读取时未指定名称则为 ['f0', 'f1', ...]\n",
    "print(float(data['var1']), int(data['var2']))\n",
    "print(data['arr'])"
   ]
  },
  {
   "cell_type": "code",
   "execution_count": 20,
   "metadata": {
    "scrolled": true
   },
   "outputs": [
    {
     "name": "stdout",
     "output_type": "stream",
     "text": [
      " data_fortran1-1.dat\n",
      "   1.1  0.0\n",
      "   0.0  1.0  2.0\n",
      "   3.0  4.0  5.0\n",
      " arr(2, 1) =   1.0\n",
      "\n",
      " data_fortran1-2.dat\n",
      "   1.1  0.0\n",
      "   0.0  1.0  2.0\n",
      "   3.0  4.0  5.0\n",
      " arr(2, 1) =   1.0\n"
     ]
    }
   ],
   "source": [
    "%%bash\n",
    "cd examples/\n",
    "ifort -o test_read_seq test_read_seq.f90\n",
    "./test_read_seq"
   ]
  },
  {
   "cell_type": "markdown",
   "metadata": {},
   "source": [
    "见 Structured arrays: https://docs.scipy.org/doc/numpy/user/basics.rec.html"
   ]
  },
  {
   "cell_type": "markdown",
   "metadata": {},
   "source": [
    "#### Unformatted (stream)"
   ]
  },
  {
   "cell_type": "markdown",
   "metadata": {},
   "source": [
    "`struct` 参考 https://docs.python.org/3/library/struct.html"
   ]
  },
  {
   "cell_type": "code",
   "execution_count": 2,
   "metadata": {
    "code_folding": [],
    "scrolled": true
   },
   "outputs": [
    {
     "name": "stdout",
     "output_type": "stream",
     "text": [
      "1.1 0\n",
      "[[0. 1. 2.]\n",
      " [3. 4. 5.]]\n",
      "arr[0, 1] = 1.0\n"
     ]
    }
   ],
   "source": [
    "# python (write)\n",
    "import struct\n",
    "var1 = 1.1  # '<f8'\n",
    "var2 = 0  # '<i8'\n",
    "arr = np.arange(6.).reshape((2, 3))  # '(2, 3)<f8'\n",
    "print(var1, var2)\n",
    "print(arr)\n",
    "print(f'arr[0, 1] = {arr[0, 1]}')\n",
    "with open('data/data_fortran2.dat', 'wb') as f:\n",
    "    f.write(struct.pack('d', var1))\n",
    "    f.write(struct.pack('i', var2))  # 注意 `struct` 的 'i' 是 '<i4'\n",
    "    arr.tofile(f)"
   ]
  },
  {
   "cell_type": "code",
   "execution_count": 4,
   "metadata": {},
   "outputs": [
    {
     "name": "stdout",
     "output_type": "stream",
     "text": [
      "1.1 0\n",
      "[[0. 1. 2.]\n",
      " [3. 4. 5.]]\n"
     ]
    }
   ],
   "source": [
    "# python (read)\n",
    "# 使用 `np.fromfile`, 读入的是 `ndarray`\n",
    "with open('data/data_fortran2.dat', 'rb') as f:\n",
    "    var1 = float(np.fromfile(f, dtype='<f8', count=1))\n",
    "    var2 = int(np.fromfile(f, dtype='<i4', count=1))\n",
    "    arr = np.fromfile(f, dtype='<f8').reshape(2, 3)\n",
    "print(var1, var2)\n",
    "print(arr)"
   ]
  },
  {
   "cell_type": "code",
   "execution_count": 5,
   "metadata": {
    "scrolled": true
   },
   "outputs": [
    {
     "name": "stdout",
     "output_type": "stream",
     "text": [
      "  1.1 0.0\n",
      "  0.0 1.0 2.0\n",
      "  3.0 4.0 5.0\n",
      " arr(2, 1) =  1.0\n"
     ]
    }
   ],
   "source": [
    "%%bash\n",
    "cd examples/\n",
    "ifort -o test_read_stream test_read_stream.f90\n",
    "./test_read_stream"
   ]
  },
  {
   "cell_type": "markdown",
   "metadata": {},
   "source": [
    "### HDF5 文件读写, NCDF, CDF 文件读取"
   ]
  },
  {
   "cell_type": "markdown",
   "metadata": {},
   "source": [
    "#### 读写 HDF5 文件, 读 NCDF 文件"
   ]
  },
  {
   "cell_type": "markdown",
   "metadata": {},
   "source": [
    "HDF5 格式介绍 https://portal.hdfgroup.org/display/HDF5/Introduction+to+HDF5\n",
    "\n",
    "相关包: `h5py` 或 `pandas` + `pytables` (http://www.pytables.org/usersguide/datatypes.html)\n",
    "\n",
    "安装见 [安装和配置](installpy.ipynb#其他)"
   ]
  },
  {
   "cell_type": "markdown",
   "metadata": {},
   "source": [
    "* 查看\n",
    "\n",
    "```sh\n",
    "$ h5dump -H <filename>.hdf5\n",
    "$ ncdump -h <filename>.ncdf\n",
    "```"
   ]
  },
  {
   "cell_type": "markdown",
   "metadata": {},
   "source": [
    "* 用 `h5py` 读写:\n",
    "\n",
    "```python\n",
    "import h5py\n",
    "arr = np.arange(10000).reshape(50,-1)\n",
    "with h5py.File('test.hdf5', 'w') as f:\n",
    "    f['data'] = arr\n",
    "    # 或\n",
    "    # f.create_dataset('data', data=arr)\n",
    "    # 其中 compression='gzip', compression_opts=[0-9], 可分条目用不同压缩\n",
    "    f['lb'] = list(range(100))\n",
    "```\n",
    "&emsp;读纯 HDF5/NCDF 文件:\n",
    "```python\n",
    "f = h5py.File('test.hdf5', 'r')\n",
    "keys = list(f.keys())  # ['data', 'lb']\n",
    "items = list(f.items())\n",
    "a = f['data'].value\n",
    "```\n",
    "&emsp;读 pandas 存的文件:\n",
    "```python\n",
    "a = f['data']['block0_values'].value\n",
    "f.close()\n",
    "# f['<key>'] 得到的是 Dataset 或 Group 的引用\n",
    "# 用 f['<key>'].value 或切片 f['<key>'][:] 得到原来的格式\n",
    "# f['<key>'] 可替代为f.get('<key>')\n",
    "# 关闭之后 f['data'] 的引用失效, 因此存出数据要加上.value或[:]保存数据, 或使用 deepcopy\n",
    "```\n",
    "&emsp;打印读取的信息:\n",
    "```python\n",
    "from pprint import pprint\n",
    "pprint([(f'{k:>20}', f'{str(f[k].shape):>20}', f'{str(f[k].dtype):>20}') for k in f.keys()])\n",
    "pprint([(f'{k:>20}', f\"{str(f[k]['block0_values'].shape):>20}\", f\"{str(f[k]['block0_values'].dtype):>20}\") for k in f.keys()])\n",
    "```"
   ]
  },
  {
   "cell_type": "markdown",
   "metadata": {},
   "source": [
    "* 用pandas读写:\n",
    "    \n",
    "```python\n",
    "import pandas as pd\n",
    "```\n",
    "&emsp;写:\n",
    "```python\n",
    "arr2 = pd.DataFrame(arr)\n",
    "# complevel=[0-9], complib={'zlib', 'lzo', 'bzip2', 'blosc'}\n",
    "with pd.HDFStore('test2.hdf5', 'w') as f:\n",
    "    f['data'] = arr2\n",
    "    f['lb'] = pd.DataFrame(list(range(100)))\n",
    "```\n",
    "&emsp;读 pandas 写的文件:\n",
    "```python\n",
    "f = pd.HDFStore('test2.hdf5', 'r')\n",
    "keys = f.keys()  # ['/data', '/lb'], 存在子目录\n",
    "items = list(f.items())\n",
    "a = f.data.values  # a = f.<key> 得到的是 DataFrame 的引用, f.<key>.values 得到原来的格式\n",
    "f.close()\n",
    "```"
   ]
  },
  {
   "cell_type": "markdown",
   "metadata": {},
   "source": [
    "* 读纯 HDF5/NCDF 文件:<br>\n",
    "比如 h5py 写的文件, 目录结构和 pandas 写的不同, 要用`.root`<br>\n",
    "其他软件生成的文件可能不能读\n",
    "\n",
    "```python\n",
    "f = pd.HDFStore('test.hdf5', 'r')\n",
    "keys = list(f.root._v_children.keys())  # ['data', 'lb']\n",
    "items = list(f.root._v_children.items())  # ['data', 'lb'], 有些文件没有.items\n",
    "a = f.root.data.read()\n",
    "# f.root 得到 tables.group.RootGroup, f.root.<key> 得到tables.group.CArray\n",
    "# f.get_node('<key>') 得到 tables.group.CArray\n",
    "# f.root.<key> 可替代为 f['<key>'] (有些文件不行)\n",
    "f.close()\n",
    "```\n",
    "&emsp;打印 (以免数据有 None, 用 `np.shape`):\n",
    "```python\n",
    "pprint([(f'{k}'                      .rjust(20),\n",
    "         f'{np.shape(f.get_node(k))}'.rjust(20),\n",
    "         f'{np.dtype(f.get_node(k))}'.rjust(20))\n",
    "         for k in list(f.root._v_children.keys())])\n",
    "```\n",
    "&emsp;Bug: 无法读出 `H5T_STRING`"
   ]
  },
  {
   "cell_type": "markdown",
   "metadata": {},
   "source": [
    "#### 大小比较"
   ]
  },
  {
   "cell_type": "markdown",
   "metadata": {},
   "source": [
    "用于比较的文件名说明:\n",
    "\n",
    "Filename | Method\n",
    ":---|:---\n",
    "*xxx*_np.npy|**`np.save`**\n",
    "*xxx*_np.npz|**`np.savez_compressed`**\n",
    "*xxx*_compimg.fits|**FITS** CompImageHDU (compressed)\n",
    "*xxx*_prim.fits|**FITS** PrimaryHDU\n",
    "*xxx*_h5py_0.hdf5|**`h5py`** no compression\n",
    "*xxx*_h5py_gzip.hdf5|**`h5py`** compression='gzip', compression_opts=9\n",
    "*xxx*_h5py_lzf.hdf5|**`h5py`** compression='lzf'\n",
    "*xxx*_pd_0.hdf5|**`pandas`** no compression\n",
    "*xxx*_pd_blosc.hdf5|**`pandas`** complib='blosc', complevel=9\n",
    "*xxx*_pd_bzip2.hdf5|**`pandas`**  complib='bzip2', complevel=9\n",
    "*xxx*_pd_lzo.hdf5|**`pandas`**  complib='lzo', complevel=9\n",
    "*xxx*_pd_zlib.hdf5|**`pandas`**  complib='zlib', complevel=9"
   ]
  },
  {
   "cell_type": "markdown",
   "metadata": {},
   "source": [
    "* 对于相关性强的数组"
   ]
  },
  {
   "cell_type": "code",
   "execution_count": 3,
   "metadata": {},
   "outputs": [
    {
     "name": "stdout",
     "output_type": "stream",
     "text": [
      "array: 15.3 M\n",
      "\n",
      "7.7M\tdata/test_np.npy\n",
      "1.3M\tdata/test_np.npz\n",
      "\n",
      "16M\tdata/test_h5py_0.hdf5\n",
      "2.9M\tdata/test_h5py_gzip.hdf5\n",
      "7.7M\tdata/test_h5py_lzf.hdf5\n",
      "\n",
      "16M\tdata/test_pd_0.hdf5\n",
      "272K\tdata/test_pd_blosc.hdf5\n",
      "248K\tdata/test_pd_bzip2.hdf5\n",
      "256K\tdata/test_pd_lzo.hdf5\n",
      "172K\tdata/test_pd_zlib.hdf5\n"
     ]
    }
   ],
   "source": [
    "%run examples/test_hdf5.py\n",
    "print()\n",
    "!du -h data/test_*.np*\n",
    "print()\n",
    "!du -h data/test_h5py_*.hdf5\n",
    "print()\n",
    "!du -h data/test_pd_*.hdf5"
   ]
  },
  {
   "cell_type": "markdown",
   "metadata": {},
   "source": [
    "* 随机数数组"
   ]
  },
  {
   "cell_type": "code",
   "execution_count": 4,
   "metadata": {},
   "outputs": [
    {
     "name": "stdout",
     "output_type": "stream",
     "text": [
      "array: 15.3 M\n",
      "\n",
      "7.7M\tdata/test_np.npy\n",
      "7.2M\tdata/test_np.npz\n",
      "\n",
      "16M\tdata/test_h5py_0.hdf5\n",
      "8.0M\tdata/test_h5py_gzip.hdf5\n",
      "9.5M\tdata/test_h5py_lzf.hdf5\n",
      "\n",
      "16M\tdata/test_pd_0.hdf5\n",
      "7.7M\tdata/test_pd_blosc.hdf5\n",
      "7.2M\tdata/test_pd_bzip2.hdf5\n",
      "7.7M\tdata/test_pd_lzo.hdf5\n",
      "7.1M\tdata/test_pd_zlib.hdf5\n"
     ]
    }
   ],
   "source": [
    "%run examples/test_hdf5_2.py\n",
    "print()\n",
    "!du -h data/test_*.np*\n",
    "print()\n",
    "!du -h data/test_h5py_*.hdf5\n",
    "print()\n",
    "!du -h data/test_pd_*.hdf5"
   ]
  },
  {
   "cell_type": "markdown",
   "metadata": {},
   "source": [
    "* 从 FITS 文件读取再转存"
   ]
  },
  {
   "cell_type": "code",
   "execution_count": 6,
   "metadata": {
    "scrolled": false
   },
   "outputs": [
    {
     "name": "stdout",
     "output_type": "stream",
     "text": [
      "array: 64.0 M\n",
      "\n",
      "21M\tdata/hmi.B_720s.20150827_052400_TAI.field.fits\n",
      "\n",
      "65M\tdata/fits_np.npy\n",
      "27M\tdata/fits_np.npz\n",
      "\n",
      "21M\tdata/fits_compimg.fits\n",
      "65M\tdata/fits_prim.fits\n",
      "\n",
      "65M\tdata/fits_h5py_0.hdf5\n",
      "27M\tdata/fits_h5py_gzip.hdf5\n",
      "40M\tdata/fits_h5py_lzf.hdf5\n",
      "\n",
      "65M\tdata/fits_pd_0.hdf5\n",
      "23M\tdata/fits_pd_blosc.hdf5\n",
      "21M\tdata/fits_pd_bzip2.hdf5\n",
      "23M\tdata/fits_pd_lzo.hdf5\n",
      "20M\tdata/fits_pd_zlib.hdf5\n"
     ]
    }
   ],
   "source": [
    "fname = 'data/hmi.B_720s.20150827_052400_TAI.field.fits'\n",
    "%run examples/test_fits_hdf5.py {fname}\n",
    "print()\n",
    "!du -h {fname}\n",
    "print()\n",
    "!du -h data/fits_*.np*\n",
    "print()\n",
    "!du -h data/fits_*.fits\n",
    "print()\n",
    "!du -h data/fits_h5py_*.hdf5\n",
    "print()\n",
    "!du -h data/fits_pd_*.hdf5"
   ]
  },
  {
   "cell_type": "code",
   "execution_count": 7,
   "metadata": {},
   "outputs": [
    {
     "name": "stdout",
     "output_type": "stream",
     "text": [
      "array: 32.0 M\n",
      "\n",
      "5.4M\tdata/hmi.B_720s.20150827_052400_TAI.disambig.fits\n",
      "\n",
      "33M\tdata/fits_np.npy\n",
      "5.2M\tdata/fits_np.npz\n",
      "\n",
      "5.4M\tdata/fits_compimg.fits\n",
      "33M\tdata/fits_prim.fits\n",
      "\n",
      "33M\tdata/fits_h5py_0.hdf5\n",
      "5.3M\tdata/fits_h5py_gzip.hdf5\n",
      "9.7M\tdata/fits_h5py_lzf.hdf5\n",
      "\n",
      "33M\tdata/fits_pd_0.hdf5\n",
      "9.5M\tdata/fits_pd_blosc.hdf5\n",
      "4.1M\tdata/fits_pd_bzip2.hdf5\n",
      "7.6M\tdata/fits_pd_lzo.hdf5\n",
      "4.8M\tdata/fits_pd_zlib.hdf5\n"
     ]
    }
   ],
   "source": [
    "fname = 'data/hmi.B_720s.20150827_052400_TAI.disambig.fits'\n",
    "%run examples/test_fits_hdf5.py {fname}\n",
    "print()\n",
    "!du -h {fname}\n",
    "print()\n",
    "!du -h data/fits_*.np*\n",
    "print()\n",
    "!du -h data/fits_*.fits\n",
    "print()\n",
    "!du -h data/fits_h5py_*.hdf5\n",
    "print()\n",
    "!du -h data/fits_pd_*.hdf5"
   ]
  },
  {
   "cell_type": "markdown",
   "metadata": {},
   "source": [
    "#### 读取 CDF 文件"
   ]
  },
  {
   "cell_type": "markdown",
   "metadata": {},
   "source": [
    "相关包 `cdflib`, 安装见 [安装和配置#其他](installpy.ipynb#其他)\n",
    "```python\n",
    "import cdflib\n",
    "f = cdflib.CDF(\"<filename>.cdf\")\n",
    "f.cdf_info()  # 总体信息\n",
    "f.varinq('<key>')  # 变量信息\n",
    "f.varget('<key>')  # 值\n",
    "f.close()\n",
    "```"
   ]
  },
  {
   "cell_type": "markdown",
   "metadata": {},
   "source": [
    "### NumPy to VTK"
   ]
  },
  {
   "cell_type": "markdown",
   "metadata": {},
   "source": [
    "参考 https://pyscience.wordpress.com/2014/09/06/numpy-to-vtk-converting-your-numpy-arrays-to-vtk-arrays-and-files/<br>\n",
    "以及 [安装和配置](installpy.ipynb#其他)\n",
    "<br><br>\n",
    "e.g.<br>\n",
    "运行 [examples/field2dvtk.py](examples/field2dvtk.py) ,<br>\n",
    "打开Paraview, 选择 state 文件 'field2d.pvsm', 再选择数据文件 'field2d.vtr'"
   ]
  },
  {
   "cell_type": "markdown",
   "metadata": {},
   "source": [
    "### Matlab mat 文件读写"
   ]
  },
  {
   "cell_type": "markdown",
   "metadata": {},
   "source": [
    "(未测试)\n",
    "```python\n",
    "import scipy.io\n",
    "scipy.io.loadmat(\"<filename>\", mdict=None, appendmat=True, **kwargs)\n",
    "# 如果 appendmat=True，则文件名不需要'.mat'后缀)\n",
    "scipy.io.savemat(\"<filename>\", mdict, appendmat=True, format='5',\n",
    "                 long_field_names=False, do_compression=False, oned_as='row')\n",
    "```"
   ]
  },
  {
   "cell_type": "markdown",
   "metadata": {},
   "source": [
    "## 脚本相关"
   ]
  },
  {
   "cell_type": "markdown",
   "metadata": {},
   "source": [
    "### 脚本结构"
   ]
  },
  {
   "cell_type": "markdown",
   "metadata": {},
   "source": [
    "文件头:\n",
    "```python\n",
    "#!/usr/bin/env python\n",
    "# -*- coding: utf-8 -*-\n",
    "```\n",
    "\n",
    "脚本结构:\n",
    "```python\n",
    "#!/usr/bin/env python\n",
    "# -*- coding: utf-8 -*-\n",
    "\"\"\"\n",
    "假设这个文件的名称为 mymodule.py\n",
    "使用 `imort mymodule` 导入\n",
    "这些文字会出现在 `help(mymodule)` 或 `pydoc mymodule` 中\n",
    "\"\"\"\n",
    "c = 1\n",
    "def func1(x, y, *args, **kwargs):\n",
    "    \"\"\"\n",
    "    这个注释必须缩进\n",
    "    args: a tuple - (arg1, arg2, ...)\n",
    "    kwargs: a dict - {key1 : val1, key2 : val2}\n",
    "    \"\"\"\n",
    "    global c\n",
    "    return x + y + c\n",
    "def func2(x):\n",
    "    a = func1(x, x)\n",
    "    return a\n",
    "def _func3(x):  # `from xxx import *` 将不会导入这个函数\n",
    "    pass\n",
    "    return  # return 不写时返回 None\n",
    "def main():\n",
    "    # your code here\n",
    "if __name__ == \"__main__\":\n",
    "    main()\n",
    "```\n",
    "`import` 这个文档时, `__name__` 为模块名, 因此 `main()` 不执行"
   ]
  },
  {
   "cell_type": "markdown",
   "metadata": {},
   "source": [
    "`help()` 也可以查看模块内的函数文档:"
   ]
  },
  {
   "cell_type": "code",
   "execution_count": null,
   "metadata": {},
   "outputs": [],
   "source": [
    "import usr_sunpy\n",
    "help(usr_sunpy.plot_map)"
   ]
  },
  {
   "cell_type": "markdown",
   "metadata": {},
   "source": [
    "### try ... except ... 语法"
   ]
  },
  {
   "cell_type": "markdown",
   "metadata": {},
   "source": [
    "```python\n",
    "try:\n",
    "    ...\n",
    "except ValueError as e:\n",
    "    print('ValueError:', e)\n",
    "except ZeroDivisionError as e:\n",
    "    print('ZeroDivisionError:', e)\n",
    "else:\n",
    "    print('no error!')\n",
    "finally:\n",
    "    print('finally...')\n",
    "```\n",
    "见 [Paraview 的例子](#Paraview-脚本)"
   ]
  },
  {
   "cell_type": "markdown",
   "metadata": {},
   "source": [
    "### Paraview 脚本"
   ]
  },
  {
   "cell_type": "markdown",
   "metadata": {},
   "source": [
    "官方文档 https://www.paraview.org/ParaView/Doc/Nightly/www/py-doc/index.html\n",
    "<br><br>\n",
    "* 记录语句:\n",
    " 1. Tools -> Start Trace\n",
    " 2. 进行各种操作\n",
    " 3. Tools -> Stop Trace 之后得到一个包含刚才操作命令的脚本, 参考其中的语句就可以写自己的脚本了.\n",
    "<br><br>\n",
    "* 需要导入的模块:\n",
    "\n",
    "```sh\n",
    "from paraview.simple import *\n",
    "```\n",
    "<br>\n",
    "* 使用 pvpython (默认渲染) pvbatch (默认不渲染) 来执行脚本:\n",
    "\n",
    "```sh\n",
    "pvbatch myscript.py\n",
    "```\n",
    "\n",
    "也可以使用文件头 `#!/usr/bin/env pvbatch`, 加执行权限后直接执行:\n",
    "```sh\n",
    "./myscript.py\n",
    "```\n",
    "注意: 打包的 paraview 所使用的 python 是 paraview 自带的 python2.7\n",
    "\n",
    "<img style='float: left;' src='fig/Screenshot_20180618-151438.png' width='700' />"
   ]
  },
  {
   "cell_type": "markdown",
   "metadata": {},
   "source": [
    "* 常用语句:\n",
    "\n",
    "```python\n",
    "view = GetActiveView()\n",
    "scene = GetAnimationScene()\n",
    "```\n",
    "`view.ViewTime` 修改时 `scene.AnimationTime` 不变\n",
    "`scene.AnimationTime` 修改时 `view.ViewTime` 也同时被改变\n",
    "\n",
    "注意: filter 必须是显示状态 (`Show(<filter>)`) 才能修改时间"
   ]
  },
  {
   "cell_type": "code",
   "execution_count": 28,
   "metadata": {
    "code_folding": []
   },
   "outputs": [],
   "source": [
    "# e.g.\n",
    "!code -n examples/stat1.py"
   ]
  },
  {
   "cell_type": "markdown",
   "metadata": {},
   "source": [
    "* 字体选择参考路径:<br>\n",
    "  - /usr/share/fonts/truetype/dejavu/DejaVuSans.ttf\n",
    "  - /home/<user>/miniconda3/lib/python3.6/site-packages/matplotlib/mpl-data/fonts/ttf/DejaVuSans.ttf\n"
   ]
  },
  {
   "cell_type": "markdown",
   "metadata": {},
   "source": [
    "* python 调用问题 (paraview 5.5.0+ 没有这个问题):\n",
    "\n",
    "paraview 某个版本之后就默认使用 python 2.7.11+.<br>\n",
    "运行之前先修改环境变量 ( `PYTHONPATH` 和 `PYTHONSTARTUP`), <br>\n",
    "运行结束结束后恢复这两个变量即可.<br><br>\n",
    "这个过程可以使用脚本 (而不用alias):\n",
    "```sh\n",
    "#!/bin/bash\n",
    "unset PYTHONSTARTUP  # 如果有的话\n",
    "export PYTHONPATH=/<your_path>/ParaView/lib/python2.7/site-packages\n",
    "/<your_path>/ParaView/bin/paraview $@\n",
    "```\n",
    "用这个脚本替代原有 `paraview`, `pvpython` 和 `pvbatch` 命令."
   ]
  },
  {
   "cell_type": "markdown",
   "metadata": {},
   "source": [
    "### Python 2 -> 3 的转换"
   ]
  },
  {
   "cell_type": "markdown",
   "metadata": {},
   "source": [
    "比较推荐的安全的检查方式:\n",
    "\n",
    "* 备份的原文件且自动生成转换过的文件\n",
    "```\n",
    "$ 2to3 -w filename\n",
    "```\n",
    "\n",
    "* 手动比较, 在需要的地方对照修改 filename.bak<br>\n",
    "主要查看 print, range, map 等函数.<br>\n",
    "添加<br>\n",
    "&emsp;`from __future__ import division, print_function`<br>\n",
    "在其他 import 前.\n",
    "```\n",
    "$ sudo apt-get install meld\n",
    "$ meld filename filename.bak\n",
    "```\n",
    "* 确认无误后, 将手动修改的文件复制回去\n",
    "```\n",
    "$ mv -v filename.bak filename\n",
    "```"
   ]
  },
  {
   "cell_type": "markdown",
   "metadata": {},
   "source": [
    "python 内查看版本的方法, 可用于 `if` 语句等 (更推荐用 `try...except...` 语法):"
   ]
  },
  {
   "cell_type": "code",
   "execution_count": null,
   "metadata": {
    "scrolled": false
   },
   "outputs": [],
   "source": [
    "import sys\n",
    "print(sys.version_info >= (3, 0))\n",
    "print(sys.version_info.major >= 3)"
   ]
  },
  {
   "cell_type": "markdown",
   "metadata": {},
   "source": [
    "### 执行 shell 命令"
   ]
  },
  {
   "cell_type": "markdown",
   "metadata": {},
   "source": [
    "https://docs.python.org/3/library/subprocess.html"
   ]
  },
  {
   "cell_type": "code",
   "execution_count": 106,
   "metadata": {},
   "outputs": [
    {
     "name": "stdout",
     "output_type": "stream",
     "text": [
      "-rw-rw-r-- 1 lydia lydia 142508 Jun 24 16:21 installpy.ipynb\n",
      "\n",
      "-rw-rw-r-- 1 lydia lydia 142508 Jun 24 16:21 installpy.ipynb\n",
      "\n"
     ]
    }
   ],
   "source": [
    "import subprocess\n",
    "\n",
    "fname = 'installpy.ipynb'\n",
    "\n",
    "# 默认是以列表形式传递参数\n",
    "subprocess.run([\"ls\", \"-l\", fname]) # doesn't capture output\n",
    "\n",
    "# 输出结果需要 `decode('ascii')` 转码\n",
    "print(subprocess.run([\"ls\", \"-l\", fname], stdout=subprocess.PIPE)\n",
    "                    .stdout.decode('ascii'))\n",
    "print(subprocess.check_output([\"ls\", \"-l\", fname]).decode('ascii'))"
   ]
  },
  {
   "cell_type": "markdown",
   "metadata": {},
   "source": [
    "利用 bash 的特长来做一些字符串操作:"
   ]
  },
  {
   "cell_type": "code",
   "execution_count": 114,
   "metadata": {},
   "outputs": [
    {
     "name": "stdout",
     "output_type": "stream",
     "text": [
      "installpy\n"
     ]
    }
   ],
   "source": [
    "# 使用整行命令需要 `shell=True`, 虽然并不是推荐的做法, 但偶尔使用无妨 (见官方文档)\n",
    "# `r`用来取消转义\n",
    "# `echo`使用`-n`来去掉输出的 '\\n'\n",
    "fname_head = subprocess.check_output(r\"echo -n %s | sed 's/\\.ipynb//'\"\n",
    "                                     % fname, shell=True).decode('ascii')\n",
    "# 或使用 strip 去掉 '\\n'\n",
    "fname_head = subprocess.check_output(r\"echo %s | sed 's/\\.ipynb//'\"\n",
    "             % fname, shell=True).strip().decode('ascii')  \n",
    "print(fname_head)"
   ]
  },
  {
   "cell_type": "markdown",
   "metadata": {},
   "source": [
    "字符串编码见 [廖雪峰的网站](https://www.liaoxuefeng.com/wiki/0014316089557264a6b348958f449949df42a6d3a2e542c000/001431664106267f12e9bef7ee14cf6a8776a479bdec9b9000)"
   ]
  },
  {
   "cell_type": "markdown",
   "metadata": {},
   "source": [
    "* 得到命令执行的路径"
   ]
  },
  {
   "cell_type": "code",
   "execution_count": 30,
   "metadata": {},
   "outputs": [
    {
     "data": {
      "text/plain": [
       "'/home/lydia/codes/zly/python/python-intro'"
      ]
     },
     "execution_count": 30,
     "metadata": {},
     "output_type": "execute_result"
    }
   ],
   "source": [
    "import os\n",
    "os.getcwd()"
   ]
  },
  {
   "cell_type": "markdown",
   "metadata": {},
   "source": [
    "* 得到脚本文件所在的路径(仅脚本中使用)\n",
    "\n",
    "```python\n",
    "os.path.split(os.path.abspath(__file__))[0]\n",
    "```\n",
    "或\n",
    "```python\n",
    "os.path.dirname(os.path.abspath(__file__))\n",
    "```"
   ]
  },
  {
   "cell_type": "markdown",
   "metadata": {},
   "source": [
    "其中 `os.path.split` 和 `os.path.dirname` 的用法:"
   ]
  },
  {
   "cell_type": "code",
   "execution_count": 2,
   "metadata": {},
   "outputs": [
    {
     "data": {
      "text/plain": [
       "('your/path', 'filename')"
      ]
     },
     "execution_count": 2,
     "metadata": {},
     "output_type": "execute_result"
    }
   ],
   "source": [
    "os.path.split('your/path/filename')"
   ]
  },
  {
   "cell_type": "code",
   "execution_count": 3,
   "metadata": {},
   "outputs": [
    {
     "data": {
      "text/plain": [
       "'your/path'"
      ]
     },
     "execution_count": 3,
     "metadata": {},
     "output_type": "execute_result"
    }
   ],
   "source": [
    "os.path.dirname('your/path/filename')"
   ]
  },
  {
   "cell_type": "markdown",
   "metadata": {},
   "source": [
    "`os.path.dirname` 类似于 bash 的 `dirname`"
   ]
  },
  {
   "cell_type": "code",
   "execution_count": 5,
   "metadata": {},
   "outputs": [
    {
     "name": "stdout",
     "output_type": "stream",
     "text": [
      "your/path\r\n"
     ]
    }
   ],
   "source": [
    "!dirname 'your/path/filename'"
   ]
  },
  {
   "cell_type": "markdown",
   "metadata": {},
   "source": [
    "### 脚本选项"
   ]
  },
  {
   "cell_type": "markdown",
   "metadata": {},
   "source": [
    "推荐 `argparse`, 在过去的其他方法的基础上有所增强 https://docs.python.org/3/library/argparse.html\n",
    "\n",
    "脚本内:\n",
    "```python\n",
    "import argparse\n",
    "parser = argparse.ArgumentParser(description='Process some integers.')\n",
    "parser.add_argument('integers', metavar='N', type=int, nargs='+',\n",
    "                    help='an integer for the accumulator')\n",
    "parser.add_argument('--sum', dest='accumulate', action='store_const',\n",
    "                    const=sum, default=max,\n",
    "                    help='sum the integers (default: find the max)')\n",
    "args = parser.parse_args()\n",
    "print(args.accumulate(args.integers))\n",
    "```\n",
    "Shell:\n",
    "```\n",
    "$ python prog.py -h\n",
    "usage: prog.py [-h] [--sum] N [N ...]\n",
    "Process some integers.\n",
    "positional arguments:\n",
    " N           an integer for the accumulator\n",
    "optional arguments:\n",
    " -h, --help  show this help message and exit\n",
    " --sum       sum the integers (default: find the max)\n",
    "```"
   ]
  },
  {
   "cell_type": "markdown",
   "metadata": {},
   "source": [
    "### 处理 warnings"
   ]
  },
  {
   "cell_type": "markdown",
   "metadata": {},
   "source": [
    "```python\n",
    "# Suppress warnings of NaNs:\n",
    "with np.errstate(invalid='ignore'):\n",
    "    ...\n",
    "    ...\n",
    "# Suppress other warnings, e.g.\n",
    "import warnings\n",
    "with warnings.catch_warnings():\n",
    "    warnings.simplefilter(\"ignore\")\n",
    "    ...\n",
    "    ...\n",
    "# Or\n",
    "warnings.simplefilter(\"ignore\", category=xxx)  # UserWarning, FutureWarning, etc.\n",
    "...\n",
    "...\n",
    "```"
   ]
  },
  {
   "cell_type": "markdown",
   "metadata": {},
   "source": [
    "## urllib, requests"
   ]
  },
  {
   "cell_type": "markdown",
   "metadata": {},
   "source": [
    "示例和文件来自 http://python4astronomers.github.com\n",
    "\n",
    "注意 python3 不再使用 `urllib2`\n",
    "\n",
    "```python\n",
    "# 方法1\n",
    "import urllib\n",
    "url = 'http://python4astronomers.github.com/_downloads/myidlfile.sav'\n",
    "urllib.request.urlretrieve(url, 'myidlfile.sav')\n",
    "# 方法2\n",
    "with open('myidlfile.sav', 'wb') as f:\n",
    "    f.write(urllib.request.urlopen(url).read())\n",
    "# 方法3\n",
    "import requests\n",
    "with open('myidlfile.sav', 'wb') as f:\n",
    "    f.write(requests.get(url).content)\n",
    "# 分块下载\n",
    "import requests\n",
    "r = requests.get(<url>)\n",
    "with open(filename, 'wb') as f:\n",
    "    for chunk in r.iter_content(chunk_size=128):\n",
    "        f.write(chunk)\n",
    "```"
   ]
  }
 ],
 "metadata": {
  "hide_input": false,
  "kernelspec": {
   "display_name": "Python 3 (ipykernel)",
   "language": "python",
   "name": "python3"
  },
  "language_info": {
   "codemirror_mode": {
    "name": "ipython",
    "version": 3
   },
   "file_extension": ".py",
   "mimetype": "text/x-python",
   "name": "python",
   "nbconvert_exporter": "python",
   "pygments_lexer": "ipython3",
   "version": "3.10.5"
  },
  "toc": {
   "base_numbering": 1,
   "nav_menu": {
    "height": "532px",
    "width": "501px"
   },
   "number_sections": true,
   "sideBar": true,
   "skip_h1_title": true,
   "title_cell": "",
   "title_sidebar": "",
   "toc_cell": true,
   "toc_position": {
    "height": "643px",
    "left": "1038px",
    "top": "96.1167px",
    "width": "283px"
   },
   "toc_section_display": true,
   "toc_window_display": true
  },
  "varInspector": {
   "cols": {
    "lenName": 16,
    "lenType": 16,
    "lenVar": 40
   },
   "kernels_config": {
    "python": {
     "delete_cmd_postfix": "",
     "delete_cmd_prefix": "del ",
     "library": "var_list.py",
     "varRefreshCmd": "print(var_dic_list())"
    },
    "r": {
     "delete_cmd_postfix": ") ",
     "delete_cmd_prefix": "rm(",
     "library": "var_list.r",
     "varRefreshCmd": "cat(var_dic_list()) "
    }
   },
   "types_to_exclude": [
    "module",
    "function",
    "builtin_function_or_method",
    "instance",
    "_Feature"
   ],
   "window_display": false
  }
 },
 "nbformat": 4,
 "nbformat_minor": 2
}
