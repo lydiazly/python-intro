{
 "cells": [
  {
   "cell_type": "markdown",
   "metadata": {},
   "source": [
    "# Python 安装和配置"
   ]
  },
  {
   "cell_type": "markdown",
   "metadata": {},
   "source": [
    "<small><font color=gray>[*Update 2022-07-12*] Some outputs are updated with python 3.10.</font></small>"
   ]
  },
  {
   "cell_type": "markdown",
   "metadata": {
    "tags": [],
    "toc": true
   },
   "source": [
    "<h1><span class=\"tocSkip\"></span></h1>\n",
    "<div class=\"toc\"><ul class=\"toc-item\"><li><span><a href=\"#安装-python\" data-toc-modified-id=\"安装-python-1\"><span class=\"toc-item-num\">1&nbsp;&nbsp;</span>安装 python</a></span><ul class=\"toc-item\"><li><span><a href=\"#安装-python-3\" data-toc-modified-id=\"安装-python-3-1.1\"><span class=\"toc-item-num\">1.1&nbsp;&nbsp;</span>安装 python 3</a></span></li><li><span><a href=\"#pip\" data-toc-modified-id=\"pip-1.2\"><span class=\"toc-item-num\">1.2&nbsp;&nbsp;</span>pip</a></span><ul class=\"toc-item\"><li><span><a href=\"#安装-pip\" data-toc-modified-id=\"安装-pip-1.2.1\"><span class=\"toc-item-num\">1.2.1&nbsp;&nbsp;</span>安装 pip</a></span></li><li><span><a href=\"#用-pip-安装-python-包\" data-toc-modified-id=\"用-pip-安装-python-包-1.2.2\"><span class=\"toc-item-num\">1.2.2&nbsp;&nbsp;</span>用 pip 安装 python 包</a></span></li><li><span><a href=\"#使-pip-安装-python-包到用户路径\" data-toc-modified-id=\"使-pip-安装-python-包到用户路径-1.2.3\"><span class=\"toc-item-num\">1.2.3&nbsp;&nbsp;</span>使 pip 安装 python 包到用户路径</a></span></li></ul></li><li><span><a href=\"#Anaconda\" data-toc-modified-id=\"Anaconda-1.3\"><span class=\"toc-item-num\">1.3&nbsp;&nbsp;</span>Anaconda</a></span><ul class=\"toc-item\"><li><span><a href=\"#安装-Anaconda-或-Miniconda-(推荐)\" data-toc-modified-id=\"安装-Anaconda-或-Miniconda-(推荐)-1.3.1\"><span class=\"toc-item-num\">1.3.1&nbsp;&nbsp;</span>安装 Anaconda 或 Miniconda (推荐)</a></span></li><li><span><a href=\"#environment\" data-toc-modified-id=\"environment-1.3.2\"><span class=\"toc-item-num\">1.3.2&nbsp;&nbsp;</span>environment</a></span></li><li><span><a href=\"#使用-conda-命令\" data-toc-modified-id=\"使用-conda-命令-1.3.3\"><span class=\"toc-item-num\">1.3.3&nbsp;&nbsp;</span>使用 conda 命令</a></span></li></ul></li><li><span><a href=\"#镜像源\" data-toc-modified-id=\"镜像源-1.4\"><span class=\"toc-item-num\">1.4&nbsp;&nbsp;</span>镜像源</a></span><ul class=\"toc-item\"><li><span><a href=\"#pip-镜像源\" data-toc-modified-id=\"pip-镜像源-1.4.1\"><span class=\"toc-item-num\">1.4.1&nbsp;&nbsp;</span>pip 镜像源</a></span></li><li><span><a href=\"#conda-镜像源\" data-toc-modified-id=\"conda-镜像源-1.4.2\"><span class=\"toc-item-num\">1.4.2&nbsp;&nbsp;</span>conda 镜像源</a></span></li></ul></li><li><span><a href=\"#Troubleshooting\" data-toc-modified-id=\"Troubleshooting-1.5\"><span class=\"toc-item-num\">1.5&nbsp;&nbsp;</span>Troubleshooting</a></span><ul class=\"toc-item\"><li><span><a href=\"#conda-安装时指定源且禁用其他源\" data-toc-modified-id=\"conda-安装时指定源且禁用其他源-1.5.1\"><span class=\"toc-item-num\">1.5.1&nbsp;&nbsp;</span>conda 安装时指定源且禁用其他源</a></span></li><li><span><a href=\"#Astropy-新版不再支持旧版-Python\" data-toc-modified-id=\"Astropy-新版不再支持旧版-Python-1.5.2\"><span class=\"toc-item-num\">1.5.2&nbsp;&nbsp;</span>Astropy 新版不再支持旧版 Python</a></span></li></ul></li></ul></li><li><span><a href=\"#安装常用包\" data-toc-modified-id=\"安装常用包-2\"><span class=\"toc-item-num\">2&nbsp;&nbsp;</span>安装常用包</a></span><ul class=\"toc-item\"><li><span><a href=\"#numpy,-scipy,-matplotlib\" data-toc-modified-id=\"numpy,-scipy,-matplotlib-2.1\"><span class=\"toc-item-num\">2.1&nbsp;&nbsp;</span>numpy, scipy, matplotlib</a></span></li><li><span><a href=\"#Astropy,-SunPy\" data-toc-modified-id=\"Astropy,-SunPy-2.2\"><span class=\"toc-item-num\">2.2&nbsp;&nbsp;</span>Astropy, SunPy</a></span></li><li><span><a href=\"#Jupyter\" data-toc-modified-id=\"Jupyter-2.3\"><span class=\"toc-item-num\">2.3&nbsp;&nbsp;</span>Jupyter</a></span></li><li><span><a href=\"#其他\" data-toc-modified-id=\"其他-2.4\"><span class=\"toc-item-num\">2.4&nbsp;&nbsp;</span>其他</a></span></li></ul></li></ul></div>"
   ]
  },
  {
   "cell_type": "markdown",
   "metadata": {
    "hide_input": false
   },
   "source": [
    "## 安装 python\n",
    "---"
   ]
  },
  {
   "cell_type": "markdown",
   "metadata": {},
   "source": [
    "### 安装 python 3"
   ]
  },
  {
   "cell_type": "markdown",
   "metadata": {
    "tags": []
   },
   "source": [
    "* 检查系统自带的版本:"
   ]
  },
  {
   "cell_type": "code",
   "execution_count": 1,
   "metadata": {
    "cell_style": "center",
    "collapsed": true,
    "jupyter": {
     "outputs_hidden": true
    },
    "tags": []
   },
   "outputs": [
    {
     "name": "stdout",
     "output_type": "stream",
     "text": [
      "3.10.5 | packaged by conda-forge | (main, Jun 14 2022, 07:04:59) [GCC 10.3.0]\n",
      "Python 3.10.5\n"
     ]
    }
   ],
   "source": [
    "import sys\n",
    "print(sys.version)\n",
    "!{sys.executable} --version"
   ]
  },
  {
   "cell_type": "code",
   "execution_count": 2,
   "metadata": {
    "tags": []
   },
   "outputs": [
    {
     "name": "stdout",
     "output_type": "stream",
     "text": [
      "Python 3.10.5\n",
      "Python 3.10.5\n"
     ]
    }
   ],
   "source": [
    "%%bash\n",
    "python --version\n",
    "python3 --version"
   ]
  },
  {
   "cell_type": "markdown",
   "metadata": {},
   "source": [
    "### pip"
   ]
  },
  {
   "cell_type": "markdown",
   "metadata": {},
   "source": [
    "#### 安装 pip"
   ]
  },
  {
   "cell_type": "markdown",
   "metadata": {},
   "source": [
    "检查 pip 是否安装以及版本"
   ]
  },
  {
   "cell_type": "code",
   "execution_count": 3,
   "metadata": {
    "cell_style": "center",
    "scrolled": true
   },
   "outputs": [
    {
     "name": "stdout",
     "output_type": "stream",
     "text": [
      "pip 22.1.2 from /home/lydia/miniconda3/lib/python3.10/site-packages/pip (python 3.10)\n"
     ]
    }
   ],
   "source": [
    "%%bash\n",
    "pip --version"
   ]
  },
  {
   "cell_type": "code",
   "execution_count": 4,
   "metadata": {
    "cell_style": "center"
   },
   "outputs": [
    {
     "name": "stdout",
     "output_type": "stream",
     "text": [
      "pip 22.1.2 from /home/lydia/miniconda3/lib/python3.10/site-packages/pip (python 3.10)\n"
     ]
    }
   ],
   "source": [
    "%%bash\n",
    "python -m pip --version"
   ]
  },
  {
   "cell_type": "markdown",
   "metadata": {
    "cell_style": "center"
   },
   "source": [
    "安装 (Ubuntu):\n",
    "\n",
    "```bash\n",
    "sudo apt-get install python3-pip\n",
    "```"
   ]
  },
  {
   "cell_type": "markdown",
   "metadata": {},
   "source": [
    "#### 用 pip 安装 python 包"
   ]
  },
  {
   "cell_type": "markdown",
   "metadata": {},
   "source": [
    "```bash\n",
    "pip install <package>\n",
    "pip install --upgrade <package>\n",
    "pip uninstall <package>\n",
    "pip list\n",
    "pip list --outdated\n",
    "pip show <package>\n",
    "```"
   ]
  },
  {
   "cell_type": "markdown",
   "metadata": {},
   "source": [
    "安装到根目录 (不推荐!)\n",
    "\n",
    "```bash\n",
    "sudo -H pip install <package>\n",
    "```"
   ]
  },
  {
   "cell_type": "markdown",
   "metadata": {},
   "source": [
    "[选项]\n",
    "\n",
    "| | |\n",
    "|:---|:---|\n",
    "| -U, --upgrade  | 升级, 配合 install 使用 |\n",
    "| --force-reinstall  | 强制重新安装依赖 |\n",
    "| -I, --ignore-installed | 强制安装(无论是否已安装) |\n",
    "| --no-cache-dir | 不生成cache |\n",
    "| -i <font color=blue>*url*</font> | 使用指定源(更改配置见 [pip 镜像源](#pip-镜像源)) |\n",
    "| <font color=blue>*package*</font>==x.x.x | 指定版本, 错误版本号(或为空)将返回可用版本号 |\n",
    "| \"<font color=blue>*package*</font><x.x.x\" | 指定小于某版本的最新版本, 必须有引号 |\n"
   ]
  },
  {
   "cell_type": "markdown",
   "metadata": {},
   "source": [
    "检查包(尝试导入, 查看包版本):"
   ]
  },
  {
   "cell_type": "markdown",
   "metadata": {},
   "source": [
    "```bash\n",
    "python -c \"import <package>\"\n",
    "python -c \"import <package>; print(<package>.__version__)\"  # 版本号\n",
    "python -c \"import <package>; print(<package>.version)\"  # 安装位置\n",
    "```"
   ]
  },
  {
   "cell_type": "markdown",
   "metadata": {},
   "source": [
    "#### 使 pip 安装 python 包到用户路径"
   ]
  },
  {
   "cell_type": "code",
   "execution_count": 5,
   "metadata": {},
   "outputs": [
    {
     "name": "stdout",
     "output_type": "stream",
     "text": [
      "USER_SITE: '/home/lydia/.local/lib/python3.10/site-packages' (doesn't exist)\n",
      "ENABLE_USER_SITE: True\n"
     ]
    }
   ],
   "source": [
    "%%bash\n",
    "python -m site | grep 'USER_SITE'"
   ]
  },
  {
   "cell_type": "markdown",
   "metadata": {},
   "source": [
    "* 确认已创建用户包安装路径.<br>\n",
    "* 在 `~/.bashrc` 中设置 `PATH` 变量:\n",
    "\n",
    "```bash\n",
    "export PATH=$HOME/.local/bin:$PATH\n",
    "```\n",
    "\n",
    "* 使用 `install` 或 `list` 时加上选项 <font color=red>--user</font> (注意: `uninstall` 不用)\n",
    "\n",
    "> <font color=#b32425>*使用 Anaconda 路径下的 pip 时不需要这个选项*</font>\n",
    "\n",
    "```bash\n",
    "pip install --user <pkg_name>\n",
    "pip list --user\n",
    "pip list --outdated --user\n",
    "```"
   ]
  },
  {
   "cell_type": "markdown",
   "metadata": {},
   "source": [
    "### Anaconda"
   ]
  },
  {
   "cell_type": "markdown",
   "metadata": {},
   "source": [
    "#### 安装 Anaconda 或 Miniconda (推荐)"
   ]
  },
  {
   "cell_type": "markdown",
   "metadata": {},
   "source": [
    "* 安装 miniconda 64位 (默认安装到 <font color=blue>~/miniconda3/</font>)\n",
    "\n",
    "  下载 https://conda.io/miniconda.html\n",
    "\n",
    "```bash\n",
    "bash Miniconda3-latest-Linux-x86_64.sh\n",
    "```"
   ]
  },
  {
   "cell_type": "markdown",
   "metadata": {},
   "source": [
    "* 在 `~/.bashrc` 加入如下语句:\n",
    "\n",
    "```bash\n",
    "export PATH=$HOME/miniconda3/bin:$PATH\n",
    ". $HOME/miniconda3/etc/profile.d/conda.sh\n",
    "```\n",
    "\n",
    "&ensp;完成后执行:\n",
    "\n",
    "```bash\n",
    "source ~/.bashrc\n",
    "```"
   ]
  },
  {
   "cell_type": "markdown",
   "metadata": {},
   "source": [
    "* 安装好后先更新 conda 和 pip:\n",
    "\n",
    "```bash\n",
    "conda update conda pip\n",
    "```"
   ]
  },
  {
   "cell_type": "markdown",
   "metadata": {
    "code_folding": []
   },
   "source": [
    "* 帮助\n",
    "\n",
    "```bash\n",
    "conda [cmd] --help\n",
    "```"
   ]
  },
  {
   "cell_type": "markdown",
   "metadata": {},
   "source": [
    "miniconda 下载 https://conda.io/miniconda.html<br>\n",
    "安装参考 https://conda.io/docs/user-guide/install/index.html"
   ]
  },
  {
   "cell_type": "markdown",
   "metadata": {},
   "source": [
    "#### environment"
   ]
  },
  {
   "cell_type": "markdown",
   "metadata": {},
   "source": [
    "默认环境为 base<br>\n",
    "`-n, --name <env_name>` 指定环境\n",
    "\n",
    "```bash\n",
    "conda create --name <env_name> [<packages>] python=3.6\n",
    "conda create --name <env_name> --clone base\n",
    "\n",
    "# e.g.\n",
    "conda create --name intel intelpython3_core python=3\n",
    "```\n",
    "\n",
    "```bash\n",
    "# 删除环境\n",
    "conda-env remove --name <env_name>\n",
    "*\n",
    "# 列出信息\n",
    "conda info -e/--envs\n",
    "conda-env list\n",
    "\n",
    "# 进入环境\n",
    "source activate <env_name>\n",
    "conda activate <env_name>\n",
    "\n",
    "# 离开环境\n",
    "source deactivate\n",
    "conda deactivate\n",
    "\n",
    "# 在某环境中执行操作\n",
    "conda <commands> --name <env_name>\n",
    "```"
   ]
  },
  {
   "cell_type": "markdown",
   "metadata": {},
   "source": [
    "#### 使用 conda 命令"
   ]
  },
  {
   "cell_type": "markdown",
   "metadata": {},
   "source": [
    "```bash\n",
    "conda info\n",
    "conda list [<packages>]\n",
    "conda search <package>\n",
    "conda search <package> --info\n",
    "conda install <packages>\n",
    "conda update/upgrade <packages>\n",
    "conda remove/uninstall <packages>\n",
    "conda clean --all\n",
    "```\n",
    "见 `conda --help` 或 `conda cmd --help`, `conda search` 语法见 https://github.com/conda/conda/blob/master/conda/models/match_spec.py"
   ]
  },
  {
   "cell_type": "markdown",
   "metadata": {},
   "source": [
    "配置:\n",
    "```bash\n",
    "# 安装确认时显示源的 url, 默认已开启\n",
    "conda config --set show_channel_urls True\n",
    "\n",
    "# 禁止每次更新自动检查 conda 的更新, 默认True\n",
    "conda config --set auto_update_conda False\n",
    "\n",
    "# 禁止源优先而使用版本优先, 默认True\n",
    "conda config --set channel_priority False\n",
    "\n",
    "# 增加设置, 例如增加源(可使用 url 或别名)\n",
    "conda config --add channels <channel>\n",
    "\n",
    "# 删除某项设置的所有值, 例如删除所有自定义源\n",
    "conda config --remove-key channels\n",
    "\n",
    "# 删除某项设置的某个值, 例如删除某个源\n",
    "conda config --remove channels <channel>\n",
    "```\n",
    "\n",
    "用户配置文件 `~/.condarc` (见 [conda 镜像源](#conda-镜像源))<br>\n",
    "参考链接 https://conda.io/docs/user-guide/configuration/use-condarc.html\n",
    "\n",
    "也可以在不同的环境用不同的配置文件: `~/miniconda3/envs/<env_name>/.condarc`"
   ]
  },
  {
   "cell_type": "markdown",
   "metadata": {},
   "source": [
    "### 镜像源"
   ]
  },
  {
   "cell_type": "markdown",
   "metadata": {},
   "source": [
    "#### pip 镜像源"
   ]
  },
  {
   "cell_type": "markdown",
   "metadata": {},
   "source": [
    "用户配置文件:"
   ]
  },
  {
   "cell_type": "code",
   "execution_count": 6,
   "metadata": {},
   "outputs": [
    {
     "name": "stdout",
     "output_type": "stream",
     "text": [
      "[global]\n",
      "index-url = https://pypi.douban.com/simple\n",
      "trusted-host = pypi.doubanio.com"
     ]
    }
   ],
   "source": [
    "%%bash\n",
    "cat ~/.pip/pip.conf"
   ]
  },
  {
   "cell_type": "markdown",
   "metadata": {},
   "source": [
    "#### conda 镜像源"
   ]
  },
  {
   "cell_type": "markdown",
   "metadata": {},
   "source": [
    "```bash\n",
    "conda config --add/--prepend channels <new_channel>\n",
    "conda config --append channels <new_channel>\n",
    "```\n",
    "\n",
    "清华源:<br>\n",
    "https://mirrors.tuna.tsinghua.edu.cn/anaconda/pkgs/main/<br>\n",
    "https://mirrors.tuna.tsinghua.edu.cn/anaconda/pkgs/free/<br>\n",
    "https://mirrors.tuna.tsinghua.edu.cn/anaconda/cloud/conda-forge/<br>\n",
    "\n",
    "channels 的默认的优先级为: 前排优先<br>\n",
    "镜像源中 `pkgs/main` 通常比 `pkgs/free` 新, 因此将其放在最前.<br>\n",
    "或使用 `channel_priority: false`, 见上一节 [conda 设置](#使用-conda-命令).\n",
    "\n",
    "e.g.\n",
    "\n",
    "```bash\n",
    "conda config --add channels https://mirrors.tuna.tsinghua.edu.cn/anaconda/cloud/conda-forge/\n",
    "```\n",
    "\n",
    "此时 `~/.condarc` 的内容:\n",
    "\n",
    "> channels:<br>\n",
    "&emsp;- https://mirrors.tuna.tsinghua.edu.cn/anaconda/cloud/conda-forge/<br>\n",
    "&emsp;- defaults"
   ]
  },
  {
   "cell_type": "markdown",
   "metadata": {},
   "source": [
    "### Troubleshooting"
   ]
  },
  {
   "cell_type": "markdown",
   "metadata": {},
   "source": [
    "#### conda 安装时指定源且禁用其他源"
   ]
  },
  {
   "cell_type": "markdown",
   "metadata": {},
   "source": [
    "```bash\n",
    "conda install <packages> -c <channel> --override-channels\n",
    "```"
   ]
  },
  {
   "cell_type": "markdown",
   "metadata": {},
   "source": [
    "#### Astropy 新版不再支持旧版 Python"
   ]
  },
  {
   "cell_type": "markdown",
   "metadata": {},
   "source": [
    "```bash\n",
    "pip install \"astropy<3.0\" # for python < 3.5\n",
    "```"
   ]
  },
  {
   "cell_type": "markdown",
   "metadata": {},
   "source": [
    "## 安装常用包\n",
    "---"
   ]
  },
  {
   "cell_type": "markdown",
   "metadata": {},
   "source": [
    "### numpy, scipy, matplotlib"
   ]
  },
  {
   "cell_type": "markdown",
   "metadata": {},
   "source": [
    "```bash\n",
    "conda install numpy\n",
    "conda install scipy\n",
    "conda install matplotlib\n",
    "```\n",
    "&ensp;Or\n",
    "```bash\n",
    "pip install numpy\n",
    "pip install scipy\n",
    "pip install matplotlib\n",
    "```"
   ]
  },
  {
   "cell_type": "markdown",
   "metadata": {},
   "source": [
    "配置启动文件(Ubuntu), 在 `~/.bashrc` 中添加:\n",
    "```bash\n",
    "export PYTHONSTARTUP=$HOME/.pythonrc\n",
    "```"
   ]
  },
  {
   "cell_type": "code",
   "execution_count": 7,
   "metadata": {},
   "outputs": [
    {
     "name": "stdout",
     "output_type": "stream",
     "text": [
      "# Python startup file\n",
      "# ~/.pythonrc\n",
      "import matplotlib.pyplot as plt\n",
      "from matplotlib import cm\n",
      "import numpy as np\n",
      "import os\n",
      "\n",
      "print(\">>> import matplotlib.pyplot as plt\")\n",
      "print(\">>> from matplotlib import cm\")\n",
      "print(\">>> import numpy as np\")\n",
      "print(\">>> import os\")\n",
      "\n",
      "try:\n",
      "    from pprint import pprint\n",
      "except ImportError:\n",
      "    pass\n",
      "else:\n",
      "    print(\">>> from pprint import pprint\")\n",
      "\n",
      "# Tab completion & history\n",
      "try:\n",
      "    import atexit, readline, rlcompleter\n",
      "except ImportError:\n",
      "    pass\n",
      "else:\n",
      "    readline.parse_and_bind('tab: complete') # Tab completion\n",
      "    readline.parse_and_bind('''control-l:\"    \"''') # Indent, since TAB is occupied\n",
      "    histfile = os.path.join(os.environ['HOME'], '.pyhistory') # History file\n",
      "    try:\n",
      "        readline.read_history_file(histfile)\n",
      "    except IOError:\n",
      "        pass\n",
      "    atexit.register(readline.write_history_file, histfile)\n",
      "    del histfile, readline, rlcompleter\n",
      "    print(\"--- Tab completion: [ON] ---\")\n",
      "    print(\"--- History: [ON] ---\")\n",
      "    print(\"--- [Tab] -> [Ctrl+L] ---\")\n"
     ]
    }
   ],
   "source": [
    "cat ~/.pythonrc"
   ]
  },
  {
   "cell_type": "markdown",
   "metadata": {},
   "source": [
    "### Astropy, SunPy"
   ]
  },
  {
   "cell_type": "markdown",
   "metadata": {
    "cell_style": "center"
   },
   "source": [
    "```bash\n",
    "conda install astropy\n",
    "conda install sunpy -c conda-forge\n",
    "```\n",
    "&ensp;Or\n",
    "```bash\n",
    "pip install astropy\n",
    "pip install sunpy[all] pytest\n",
    "```"
   ]
  },
  {
   "cell_type": "markdown",
   "metadata": {},
   "source": [
    "测试:"
   ]
  },
  {
   "cell_type": "markdown",
   "metadata": {},
   "source": [
    "```python\n",
    ">>> import astropy\n",
    ">>> astropy.test()\n",
    "```"
   ]
  },
  {
   "cell_type": "markdown",
   "metadata": {},
   "source": [
    "```python\n",
    ">>> import sunpy\n",
    ">>> sunpy.self_test(online=False)\n",
    "```"
   ]
  },
  {
   "cell_type": "markdown",
   "metadata": {},
   "source": [
    "如果出错: '$USER'权限问题, 见下面修改 `~/.sunpy/sunpyrc` 说明."
   ]
  },
  {
   "cell_type": "markdown",
   "metadata": {},
   "source": [
    "查看包信息:"
   ]
  },
  {
   "cell_type": "code",
   "execution_count": 8,
   "metadata": {
    "code_folding": []
   },
   "outputs": [
    {
     "name": "stdout",
     "output_type": "stream",
     "text": [
      "Loading channels: ...working... done\n",
      "# Name                       Version           Build  Channel             \n",
      "sunpy                          4.0.0 py310hde88566_0  conda-forge         \n",
      "sunpy                          4.0.0  py38h71d37f0_0  conda-forge         \n",
      "sunpy                          4.0.0  py39hd257fcd_0  conda-forge         \n",
      "sunpy                          4.0.1 py310hde88566_0  conda-forge         \n",
      "sunpy                          4.0.1  py38h71d37f0_0  conda-forge         \n",
      "sunpy                          4.0.1  py39hd257fcd_0  conda-forge         \n",
      "sunpy                          4.0.2 py310hde88566_0  conda-forge         \n",
      "sunpy                          4.0.2  py38h71d37f0_0  conda-forge         \n",
      "sunpy                          4.0.2  py39hd257fcd_0  conda-forge         \n",
      "sunpy                          4.0.3 py310hde88566_0  conda-forge         \n",
      "sunpy                          4.0.3  py38h71d37f0_0  conda-forge         \n",
      "sunpy                          4.0.3  py39hd257fcd_0  conda-forge         \n"
     ]
    }
   ],
   "source": [
    "%%bash\n",
    "conda search \"conda-forge::sunpy>=4.0\""
   ]
  },
  {
   "cell_type": "code",
   "execution_count": 9,
   "metadata": {},
   "outputs": [
    {
     "name": "stdout",
     "output_type": "stream",
     "text": [
      "Loading channels: ...working... done\n",
      "sunpy 4.0.3 py310hde88566_0\n",
      "---------------------------\n",
      "file name   : sunpy-4.0.3-py310hde88566_0.tar.bz2\n",
      "name        : sunpy\n",
      "version     : 4.0.3\n",
      "build       : py310hde88566_0\n",
      "build number: 0\n",
      "size        : 5.7 MB\n",
      "license     : BSD-2-Clause\n",
      "subdir      : linux-64\n",
      "url         : https://conda.anaconda.org/conda-forge/linux-64/sunpy-4.0.3-py310hde88566_0.tar.bz2\n",
      "md5         : 5831b8fde0edd2aa0ff9f42b237b7ba2\n",
      "timestamp   : 2022-07-08 16:21:32 UTC\n",
      "dependencies: \n",
      "  - asdf >=2.8.0\n",
      "  - asdf-astropy >=0.1.1\n",
      "  - astropy >=4.1.0\n",
      "  - beautifulsoup4 >=4.8.0\n",
      "  - cdflib >=0.3.19,!=0.4.0\n",
      "  - drms >=0.6.1\n",
      "  - glymur >=0.8.18,!=0.9.0,!=0.9.5\n",
      "  - h5netcdf >=0.8.1\n",
      "  - h5py >=3.1.0\n",
      "  - libgcc-ng >=12\n",
      "  - matplotlib-base >=3.2.0\n",
      "  - mpl_animators >=1.0.0\n",
      "  - numpy >=1.21.6,<2.0a0\n",
      "  - pandas >=1.0.0\n",
      "  - parfive >=1.2.0\n",
      "  - python >=3.10,<3.11.0a0\n",
      "  - python-dateutil >=2.8.0\n",
      "  - python_abi 3.10.* *_cp310\n",
      "  - reproject\n",
      "  - scikit-image >=0.16.0\n",
      "  - scipy >=1.3.0\n",
      "  - setuptools\n",
      "  - sqlalchemy >=1.3.4\n",
      "  - tqdm >=4.32.1\n",
      "  - zeep >=3.4.0\n",
      "\n",
      "\n"
     ]
    }
   ],
   "source": [
    "%%bash\n",
    "conda search \"sunpy 4.0.3 py310hde88566_0\" --info"
   ]
  },
  {
   "cell_type": "markdown",
   "metadata": {},
   "source": [
    "用户文件位置: `~/.sunpy/sunpyrc`"
   ]
  },
  {
   "cell_type": "code",
   "execution_count": 10,
   "metadata": {},
   "outputs": [
    {
     "name": "stdout",
     "output_type": "stream",
     "text": [
      "[general]\n",
      "time_format = %Y-%m-%d %H:%M:%S\n",
      "working_dir = /home/lydia/sunpy-downloads\n",
      "\n",
      "[downloads]\n",
      "download_dir = /home/lydia/sunpy-downloads/data\n",
      "sample_dir = /home/lydia/sunpy-downloads/data/sample_data\n",
      "\n",
      "[database]\n",
      "url = sqlite:////home/lydia/sunpy-downloads/sunpydb.sqlite"
     ]
    }
   ],
   "source": [
    "cat ~/.sunpy/sunpyrc"
   ]
  },
  {
   "cell_type": "code",
   "execution_count": 11,
   "metadata": {},
   "outputs": [
    {
     "name": "stdout",
     "output_type": "stream",
     "text": [
      "==============================\n",
      "sunpy Installation Information\n",
      "==============================\n",
      "\n",
      "General\n",
      "#######\n",
      "OS: Ubuntu (18.04, Linux 4.19.128-microsoft-standard)\n",
      "Arch: 64bit, (x86_64)\n",
      "sunpy: 4.0.3\n",
      "Installation path: /home/lydia/miniconda3/lib/python3.10/site-packages/sunpy-4.0.3.dist-info\n",
      "\n",
      "Required Dependencies\n",
      "#####################\n",
      "astropy: 5.1\n",
      "numpy: 1.23.1\n",
      "packaging: 21.3\n",
      "parfive: 1.5.1\n",
      "\n",
      "Optional Dependencies\n",
      "#####################\n",
      "asdf: 2.12.0\n",
      "asdf-astropy: 0.2.1\n",
      "beautifulsoup4: 4.11.1\n",
      "cdflib: 0.4.4\n",
      "dask: 2022.7.0\n",
      "drms: 0.6.2\n",
      "glymur: 0.10.1\n",
      "h5netcdf: 0.0.0\n",
      "h5py: 3.7.0\n",
      "matplotlib: 3.5.2\n",
      "mpl-animators: 1.0.1\n",
      "pandas: 1.4.1\n",
      "python-dateutil: 2.8.2\n",
      "reproject: 0.8\n",
      "scikit-image: 0.19.3\n",
      "scipy: 1.8.1\n",
      "sqlalchemy: 1.4.39\n",
      "tqdm: 4.64.0\n",
      "zeep: 4.1.0\n"
     ]
    }
   ],
   "source": [
    "import sunpy\n",
    "sunpy.util.system_info()"
   ]
  },
  {
   "cell_type": "markdown",
   "metadata": {},
   "source": [
    "设置下载位置:<br>\n",
    "(参考 http://docs.sunpy.org/en/stable/guide/customization.html?highlight=sunpy.config.set)\n",
    "\n",
    "e.g.\n",
    "> [downloads]<br>\n",
    "&emsp;download_dir = ...\n",
    "\n",
    "```python\n",
    ">>> import sunpy\n",
    ">>> sunpy.config.set('downloads', 'download_dir',\n",
    "                 '/home/<user>/<your_path>/sunpy-downloads/data')\n",
    "```\n",
    "\n",
    "退出后再进入 python 如果发现没有修改成功, 则需要手动修改 ~/.sunpy/sunpyrc 文件.<br>\n",
    "不能用 '$USER' 代替具体的用户名 '<user\\>'"
   ]
  },
  {
   "cell_type": "markdown",
   "metadata": {},
   "source": [
    "### Jupyter"
   ]
  },
  {
   "cell_type": "markdown",
   "metadata": {
    "cell_style": "center"
   },
   "source": [
    "```bash\n",
    "conda install jupyter -c conda-forge\n",
    "```\n",
    "&ensp;Or\n",
    "```bash\n",
    "pip install jupyter\n",
    "```"
   ]
  },
  {
   "cell_type": "code",
   "execution_count": 12,
   "metadata": {},
   "outputs": [
    {
     "name": "stdout",
     "output_type": "stream",
     "text": [
      "config:\n",
      "    /home/lydia/.jupyter\n",
      "    /home/lydia/.local/etc/jupyter\n",
      "    /home/lydia/miniconda3/etc/jupyter\n",
      "    /usr/local/etc/jupyter\n",
      "    /etc/jupyter\n",
      "data:\n",
      "    /home/lydia/.local/share/jupyter\n",
      "    /home/lydia/miniconda3/share/jupyter\n",
      "    /usr/local/share/jupyter\n",
      "    /usr/share/jupyter\n",
      "runtime:\n",
      "    /home/lydia/.local/share/jupyter/runtime\n"
     ]
    }
   ],
   "source": [
    "%%bash\n",
    "jupyter --path"
   ]
  },
  {
   "cell_type": "markdown",
   "metadata": {},
   "source": [
    "* 设置双击打开 \\*.ipynb 文件\n",
    "\n",
    "\n",
    "```bash\n",
    "pip install nbopen\n",
    "```\n",
    "\n",
    "再执行:\n",
    "\n",
    "Linux/BSD: <br>\n",
    "```bash\n",
    "python3 -m nbopen.install_xdg<br>\n",
    " ```   \n",
    "\n",
    "Windows: <br>\n",
    "```bash\n",
    "python3 -m nbopen.install_win<br>\n",
    "```\n",
    "\n",
    "Mac: <br>\n",
    "&ensp;Clone the repository (https://github.com/takluyver/nbopen.git)<br>\n",
    "&ensp;and run `./osx-install.sh`<br><br>\n",
    "之后即可在文件浏览器中选择文件的打开方式为 `Jupyter Notebook`.\n",
    "\n",
    "> 注意可能会更改 bash 脚本的默认打开方式."
   ]
  },
  {
   "cell_type": "markdown",
   "metadata": {},
   "source": [
    "* Jupyter 插件集合<br>(https://github.com/ipython-contrib/jupyter_contrib_nbextensions)\n",
    "\n",
    "\n",
    "```bash\n",
    "conda install jupyter_contrib_nbextensions -c conda-forge\n",
    "```\n",
    "&ensp;Or\n",
    "```bash\n",
    "pip install jupyter_contrib_nbextensions\n",
    "```\n",
    "> This also automatically installs the Javascript and CSS files:<br>\n",
    "`jupyter contrib nbextension install --sys-prefix`\n",
    "\n",
    "安装好后将同时启用 `Nbextensions` 选项卡, 手动选择需要的插件, \n",
    "或者在命令行启用和禁用:\n",
    "\n",
    "```bash\n",
    "jupyter nbextension list # 查看\n",
    "jupyter nbextension enable <path> # <path> 为上述 list 中的 <extension>/main\n",
    "jupyter nbextension disable <path>\n",
    "```"
   ]
  },
  {
   "cell_type": "markdown",
   "metadata": {},
   "source": [
    "注意用如果 jupyter 安装在 conda 路径, 手动安装插件 (`jupyter nbextension install`) 时需要指定 <font color=red>--sys-prefix</font>"
   ]
  },
  {
   "cell_type": "markdown",
   "metadata": {},
   "source": [
    "* notebook 主题 (https://github.com/dunovank/jupyter-themes)\n",
    "\n",
    "\n",
    "```bash\n",
    "pip install jupyterthemes\n",
    "```"
   ]
  },
  {
   "cell_type": "markdown",
   "metadata": {},
   "source": [
    "* 演示代码过程的插件 (https://github.com/lgpage/nbtutor)\n",
    "\n",
    "\n",
    "```bash\n",
    "conda install nbtutor -c conda-forge\n",
    "```\n",
    "&ensp;Or\n",
    "```bash\n",
    "pip install nbtutor\n",
    "jupyter nbextension install --overwrite --py nbtutor\n",
    "jupyter nbextension enable --py nbtutor\n",
    "```\n",
    "\n",
    "载入:\n",
    "\n",
    "```python\n",
    "# ipython/jupyter\n",
    "%load_ext nbtutor\n",
    "```\n",
    "使用:<br>\n",
    "CodeCell 中首行加入下面语句, 然后执行 Cell (numpy 等需要在 Cell 内导入)\n",
    "```python\n",
    "# ipython/jupyter\n",
    "%%nbtutor -r -f\n",
    "# 或\n",
    "%%nbtutor -r -f -i  # 缩减显示\n",
    "```"
   ]
  },
  {
   "cell_type": "markdown",
   "metadata": {},
   "source": [
    "### 其他"
   ]
  },
  {
   "cell_type": "markdown",
   "metadata": {},
   "source": [
    "* PeakUtils (http://peakutils.readthedocs.io/en/latest/)\n",
    "\n",
    "\n",
    "```bash\n",
    "git clone https://bitbucket.org/lucashnegri/peakutils.git\n",
    "cd peakutils\n",
    "python setup.py install\n",
    "```\n",
    "\n",
    "```python\n",
    ">>> import peakutils\n",
    "```"
   ]
  },
  {
   "cell_type": "markdown",
   "metadata": {},
   "source": [
    "* LMfit-py (https://github.com/lmfit/lmfit-py)\n",
    "\n",
    "\n",
    "```bash\n",
    "conda install lmfit -c conda-forge\n",
    "# 或\n",
    "pip install lmfit\n",
    "```\n",
    "\n",
    "```python\n",
    ">>> import lmfit\n",
    "```"
   ]
  },
  {
   "cell_type": "markdown",
   "metadata": {},
   "source": [
    "* HDF5包 (http://docs.h5py.org/en/latest/index.html)<br>\n",
    "\n",
    "\n",
    "**pandas**\n",
    "```bash\n",
    "conda install pytables pandas\n",
    "```\n",
    "&ensp;Or\n",
    "```bash\n",
    "pip install tables pandas\n",
    "```\n",
    "<br><br>\n",
    "**h5py** (http://docs.h5py.org/en/latest/index.html)\n",
    "```bash\n",
    "conda install h5py  # 推荐. 将同时安装 hdf5, 并得到 h5dump 等命令\n",
    "```\n",
    "&ensp;Or\n",
    "```bash\n",
    "pip install h5py  # 需要 sudo apt-get install libhdf5-dev\n",
    "```"
   ]
  },
  {
   "cell_type": "markdown",
   "metadata": {},
   "source": [
    "* CDF包<br>\n",
    "\n",
    "安装 spacepy (https://pythonhosted.org/SpacePy)\n",
    "\n",
    "或\n",
    "\n",
    "```bash\n",
    "pip install cdflib # https://github.com/MAVENSDC/cdflib\n",
    "```"
   ]
  },
  {
   "cell_type": "markdown",
   "metadata": {},
   "source": [
    "* EVTK (https://bitbucket.org/pauloh/pyevtk)\n",
    "\n",
    "\n",
    "```bash\n",
    "sudo apt-get install mercurial  # 得到 hg 命令\n",
    "\n",
    "hg clone https://bitbucket.org/pauloh/pyevtk\n",
    "cd pyevtk\n",
    "python setup.py build --debug install\n",
    "```\n",
    "\n",
    "```bash\n",
    "hg pull && hg update default # 更新\n",
    "```\n",
    "\n",
    "```python\n",
    ">>> from evtk.hl import gridToVTK\n",
    "```"
   ]
  },
  {
   "cell_type": "markdown",
   "metadata": {},
   "source": [
    "* Mayavi (http://docs.enthought.com/mayavi/mayavi)\n",
    "\n",
    "&emsp;需要先安装 cython (conda 或 pip)\n",
    "\n",
    "```bash\n",
    "pip install mayavi  # 将同时安装 vtk. (pip 是目前 mayavi 最保险的安装方式)\n",
    "```\n",
    "```bash\n",
    "# shell\n",
    "mayavi2\n",
    "```"
   ]
  }
 ],
 "metadata": {
  "hide_input": false,
  "kernelspec": {
   "display_name": "Python 3 (ipykernel)",
   "language": "python",
   "name": "python3"
  },
  "language_info": {
   "codemirror_mode": {
    "name": "ipython",
    "version": 3
   },
   "file_extension": ".py",
   "mimetype": "text/x-python",
   "name": "python",
   "nbconvert_exporter": "python",
   "pygments_lexer": "ipython3",
   "version": "3.10.5"
  },
  "toc": {
   "base_numbering": 1,
   "nav_menu": {
    "height": "432px",
    "width": "490px"
   },
   "number_sections": true,
   "sideBar": true,
   "skip_h1_title": true,
   "title_cell": "",
   "title_sidebar": "Table of Contents",
   "toc_cell": true,
   "toc_position": {
    "height": "491px",
    "left": "1020px",
    "top": "121px",
    "width": "279px"
   },
   "toc_section_display": true,
   "toc_window_display": true
  },
  "toc-autonumbering": true,
  "toc-showcode": false,
  "toc-showmarkdowntxt": false,
  "varInspector": {
   "cols": {
    "lenName": 16,
    "lenType": 16,
    "lenVar": 40
   },
   "kernels_config": {
    "python": {
     "delete_cmd_postfix": "",
     "delete_cmd_prefix": "del ",
     "library": "var_list.py",
     "varRefreshCmd": "print(var_dic_list())"
    },
    "r": {
     "delete_cmd_postfix": ") ",
     "delete_cmd_prefix": "rm(",
     "library": "var_list.r",
     "varRefreshCmd": "cat(var_dic_list()) "
    }
   },
   "types_to_exclude": [
    "module",
    "function",
    "builtin_function_or_method",
    "instance",
    "_Feature"
   ],
   "window_display": false
  }
 },
 "nbformat": 4,
 "nbformat_minor": 4
}
