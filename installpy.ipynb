{
 "cells": [
  {
   "cell_type": "markdown",
   "metadata": {
    "hide_input": true
   },
   "source": [
    "<img src='fig/Python3_WF.jpg' title=\"www.digitalocean.com\">"
   ]
  },
  {
   "cell_type": "markdown",
   "metadata": {},
   "source": [
    "# 安装和配置"
   ]
  },
  {
   "cell_type": "markdown",
   "metadata": {
    "hide_input": false
   },
   "source": [
    "## 安装 python\n",
    "---"
   ]
  },
  {
   "cell_type": "markdown",
   "metadata": {},
   "source": [
    "### 安装 python 3"
   ]
  },
  {
   "cell_type": "markdown",
   "metadata": {},
   "source": [
    "* 检查系统自带的版本:"
   ]
  },
  {
   "cell_type": "code",
   "execution_count": 1,
   "metadata": {
    "cell_style": "center"
   },
   "outputs": [
    {
     "name": "stdout",
     "output_type": "stream",
     "text": [
      "3.6.5 |Anaconda, Inc.| (default, Apr 29 2018, 16:14:56) \n",
      "[GCC 7.2.0]\n",
      "Python 3.6.5 :: Anaconda, Inc.\r\n"
     ]
    }
   ],
   "source": [
    "import sys\n",
    "print(sys.version)\n",
    "!{sys.executable} --version"
   ]
  },
  {
   "cell_type": "code",
   "execution_count": 2,
   "metadata": {},
   "outputs": [
    {
     "name": "stderr",
     "output_type": "stream",
     "text": [
      "Python 2.7.12\n",
      "Python 3.6.5 :: Anaconda, Inc.\n"
     ]
    }
   ],
   "source": [
    "%%bash\n",
    "python2 --version\n",
    "python3 --version"
   ]
  },
  {
   "cell_type": "markdown",
   "metadata": {},
   "source": [
    "* 以 Ubuntu 16.04 LTS 为例, 确保系统中已安装:\n",
    "\n",
    "```sh\n",
    "sudo apt-get install python3 python3-dev\n",
    "sudo apt-get install python3-tk\n",
    "```"
   ]
  },
  {
   "cell_type": "markdown",
   "metadata": {},
   "source": [
    "### pip"
   ]
  },
  {
   "cell_type": "markdown",
   "metadata": {},
   "source": [
    "#### 安装 pip"
   ]
  },
  {
   "cell_type": "markdown",
   "metadata": {},
   "source": [
    "检查 pip 是否安装以及版本"
   ]
  },
  {
   "cell_type": "code",
   "execution_count": 3,
   "metadata": {
    "cell_style": "center",
    "scrolled": true
   },
   "outputs": [
    {
     "name": "stdout",
     "output_type": "stream",
     "text": [
      "pip 10.0.1 from /home/lydia/miniconda3/lib/python3.6/site-packages/pip (python 3.6)\n"
     ]
    }
   ],
   "source": [
    "%%bash\n",
    "pip --version"
   ]
  },
  {
   "cell_type": "code",
   "execution_count": 4,
   "metadata": {
    "cell_style": "center"
   },
   "outputs": [
    {
     "name": "stdout",
     "output_type": "stream",
     "text": [
      "pip 10.0.1 from /home/lydia/miniconda3/lib/python3.6/site-packages/pip (python 3.6)\n"
     ]
    }
   ],
   "source": [
    "%%bash\n",
    "python -m pip --version"
   ]
  },
  {
   "cell_type": "markdown",
   "metadata": {
    "cell_style": "center"
   },
   "source": [
    "安装:\n",
    "\n",
    "```sh\n",
    "sudo apt-get install python3-pip\n",
    "```"
   ]
  },
  {
   "cell_type": "markdown",
   "metadata": {},
   "source": [
    "#### 用 pip 安装 python 包"
   ]
  },
  {
   "cell_type": "markdown",
   "metadata": {},
   "source": [
    "```sh\n",
    "pip install <package>\n",
    "pip install --upgrade <package>\n",
    "pip uninstall <package>\n",
    "pip list\n",
    "pip list --outdated\n",
    "pip show <package>\n",
    "```"
   ]
  },
  {
   "cell_type": "markdown",
   "metadata": {},
   "source": [
    "安装到根目录(不推荐!)\n",
    "\n",
    "```sh\n",
    "sudo -H pip install <package>\n",
    "```"
   ]
  },
  {
   "cell_type": "markdown",
   "metadata": {},
   "source": [
    "[选项]\n",
    "\n",
    "| | |\n",
    "|:---|:---|\n",
    "| -U, --upgrade  | 升级, 配合 install 使用 |\n",
    "| --force-reinstall  | 强制重新安装依赖 |\n",
    "| -I, --ignore-installed | 强制安装(无论是否已安装) |\n",
    "| --no-cache-dir | 不生成cache |\n",
    "| -i <font color=blue>*url*</font> | 使用指定源(更改配置见 [pip 镜像源](#pip-镜像源)) |\n",
    "| <font color=blue>*package*</font>==x.x.x | 指定版本, 错误版本号(或为空)将返回可用版本号 |\n",
    "| \"<font color=blue>*package*</font><x.x.x\" | 指定小于某版本的最新版本, 必须有引号 |\n"
   ]
  },
  {
   "cell_type": "markdown",
   "metadata": {},
   "source": [
    "检查包(尝试导入, 查看包版本):"
   ]
  },
  {
   "cell_type": "markdown",
   "metadata": {},
   "source": [
    "```sh\n",
    "python -c \"import <package>\"\n",
    "python -c \"import <package>; print(<package>.__version__)\"  # 版本号\n",
    "python -c \"import <package>; print(<package>.version)\"  # 安装位置\n",
    "```"
   ]
  },
  {
   "cell_type": "markdown",
   "metadata": {},
   "source": [
    "#### 使 pip 安装 python 包到用户路径"
   ]
  },
  {
   "cell_type": "code",
   "execution_count": 3,
   "metadata": {},
   "outputs": [
    {
     "name": "stdout",
     "output_type": "stream",
     "text": [
      "USER_SITE: '/home/lydia/.local/lib/python3.6/site-packages' (doesn't exist)\n",
      "ENABLE_USER_SITE: True\n"
     ]
    }
   ],
   "source": [
    "%%bash\n",
    "python -m site | grep 'USER_SITE'"
   ]
  },
  {
   "cell_type": "markdown",
   "metadata": {},
   "source": [
    "* 确认已创建用户包安装路径.<br>\n",
    "* 在 `~/.bashrc` 中设置 `PATH` 变量:\n",
    "\n",
    "```sh\n",
    "export PATH=$HOME/.local/bin:$PATH\n",
    "```\n",
    "\n",
    "* 使用 `install` 或 `list` 时加上选项 <font color=red>--user</font> (注意: `uninstall` 不用)\n",
    "\n",
    "> <font color=#b32425>*使用 Anaconda 路径下的 pip 时不需要这个选项*</font>\n",
    "\n",
    "```sh\n",
    "pip install --user <pkg_name>\n",
    "pip list --user\n",
    "pip list --outdated --user\n",
    "```"
   ]
  },
  {
   "cell_type": "markdown",
   "metadata": {},
   "source": [
    "### Anaconda"
   ]
  },
  {
   "cell_type": "markdown",
   "metadata": {},
   "source": [
    "#### 安装 Anaconda或 Miniconda(推荐)"
   ]
  },
  {
   "cell_type": "markdown",
   "metadata": {},
   "source": [
    "* 安装 miniconda 64位 (默认安装到 <font color=blue>~/miniconda3/</font>)\n",
    "\n",
    "  下载 https://conda.io/miniconda.html"
   ]
  },
  {
   "cell_type": "code",
   "execution_count": null,
   "metadata": {
    "deletable": false,
    "editable": false,
    "run_control": {
     "frozen": true
    }
   },
   "outputs": [],
   "source": [
    "%%bash\n",
    "bash Miniconda3-latest-Linux-x86_64.sh"
   ]
  },
  {
   "cell_type": "markdown",
   "metadata": {},
   "source": [
    "* 在 `~/.bashrc` 加入如下语句:\n",
    "\n",
    "```bash\n",
    "export PATH=$HOME/miniconda3/bin:$PATH\n",
    ". $HOME/miniconda3/etc/profile.d/conda.sh\n",
    "```\n",
    "\n",
    "&ensp;完成后执行:\n",
    "\n",
    "```sh\n",
    "source ~/.bashrc\n",
    "```"
   ]
  },
  {
   "cell_type": "markdown",
   "metadata": {},
   "source": [
    "* 安装好后先更新 conda 和 pip:"
   ]
  },
  {
   "cell_type": "markdown",
   "metadata": {},
   "source": [
    "```sh\n",
    "conda update conda pip\n",
    "```"
   ]
  },
  {
   "cell_type": "markdown",
   "metadata": {},
   "source": [
    "* 帮助"
   ]
  },
  {
   "cell_type": "markdown",
   "metadata": {
    "code_folding": []
   },
   "source": [
    "```sh\n",
    "conda [cmd] --help\n",
    "```"
   ]
  },
  {
   "cell_type": "markdown",
   "metadata": {},
   "source": [
    "miniconda 下载 https://conda.io/miniconda.html<br>\n",
    "安装参考 https://conda.io/docs/user-guide/install/index.html"
   ]
  },
  {
   "cell_type": "markdown",
   "metadata": {},
   "source": [
    "#### environment"
   ]
  },
  {
   "cell_type": "markdown",
   "metadata": {},
   "source": [
    "默认环境为 base<br>\n",
    "`-n, --name <env_name>` 指定环境"
   ]
  },
  {
   "cell_type": "markdown",
   "metadata": {},
   "source": [
    "```sh\n",
    "conda create --name <env_name> [<packages>] python=3.6\n",
    "conda create --name <env_name> --clone base\n",
    "\n",
    "# e.g.\n",
    "conda create --name intel intelpython3_core python=3\n",
    "```"
   ]
  },
  {
   "cell_type": "markdown",
   "metadata": {},
   "source": [
    "```sh\n",
    "# 删除环境\n",
    "conda-env remove --name <env_name>\n",
    "*\n",
    "# 列出信息\n",
    "conda info -e/--envs\n",
    "conda-env list\n",
    "\n",
    "# 进入环境\n",
    "source activate <env_name>\n",
    "conda activate <env_name>\n",
    "\n",
    "# 离开环境\n",
    "source deactivate\n",
    "conda deactivate\n",
    "\n",
    "# 在某环境中执行操作\n",
    "conda <commands> --name <env_name>\n",
    "```"
   ]
  },
  {
   "cell_type": "markdown",
   "metadata": {},
   "source": [
    "#### 使用 conda 命令"
   ]
  },
  {
   "cell_type": "markdown",
   "metadata": {},
   "source": [
    "```sh\n",
    "conda info [<packages>]\n",
    "conda list [<packages>]\n",
    "conda install <packages>\n",
    "conda update/upgrade <packages>\n",
    "conda remove/uninstall <packages>\n",
    "conda clean ...\n",
    "```\n",
    "见 `conda --help` 或 `conda cmd --help`"
   ]
  },
  {
   "cell_type": "markdown",
   "metadata": {},
   "source": [
    "配置文件设置 (参考链接 https://conda.io/docs/user-guide/configuration/use-condarc.html):"
   ]
  },
  {
   "cell_type": "markdown",
   "metadata": {},
   "source": [
    "```sh\n",
    "# 安装确认时显示源的 url, 默认已开启\n",
    "conda config --set show_channel_urls True\n",
    "\n",
    "# 禁止每次更新自动检查 conda 的更新, 默认True\n",
    "conda config --set auto_update_conda False\n",
    "\n",
    "# 禁止源优先而使用版本优先, 默认True\n",
    "conda config --set channel_priority False\n",
    "\n",
    "# 增加设置, 例如增加源(可使用 url 或别名)\n",
    "conda config --add channels <channel>\n",
    "\n",
    "# 删除某项设置的所有值, 例如删除所有自定义源\n",
    "conda config --remove-key channels\n",
    "\n",
    "# 删除某项设置的某个值, 例如删除某个源\n",
    "conda config --remove channels <channel>\n",
    "```\n",
    "<br>\n",
    "用户配置文件 `~/.condarc` (见 [conda 镜像源](#conda-镜像源))\n",
    "\n",
    "也可以在不同的环境用不同的配置文件: `~/miniconda3/envs/<env_name>/.condarc`"
   ]
  },
  {
   "cell_type": "markdown",
   "metadata": {},
   "source": [
    "### 镜像源"
   ]
  },
  {
   "cell_type": "markdown",
   "metadata": {},
   "source": [
    "#### pip 镜像源"
   ]
  },
  {
   "cell_type": "markdown",
   "metadata": {},
   "source": [
    "用户配置文件:"
   ]
  },
  {
   "cell_type": "code",
   "execution_count": 2,
   "metadata": {},
   "outputs": [
    {
     "name": "stdout",
     "output_type": "stream",
     "text": [
      "[global]\r\n",
      "index-url = https://pypi.douban.com/simple\r\n",
      "trusted-host = pypi.doubanio.com\r\n"
     ]
    }
   ],
   "source": [
    "cat ~/.pip/pip.conf"
   ]
  },
  {
   "cell_type": "markdown",
   "metadata": {},
   "source": [
    "#### conda 镜像源"
   ]
  },
  {
   "cell_type": "markdown",
   "metadata": {},
   "source": [
    "```sh\n",
    "conda config --add/--prepend channels <new_channel>\n",
    "conda config --append channels <new_channel>\n",
    "```"
   ]
  },
  {
   "cell_type": "markdown",
   "metadata": {},
   "source": [
    "清华源:<br>\n",
    "https://mirrors.tuna.tsinghua.edu.cn/anaconda/pkgs/main/<br>\n",
    "https://mirrors.tuna.tsinghua.edu.cn/anaconda/pkgs/free/<br>\n",
    "https://mirrors.tuna.tsinghua.edu.cn/anaconda/cloud/conda-forge/<br>\n",
    "\n",
    "channels 的默认的优先级为: 前排优先<br>\n",
    "镜像源中 `pkgs/main` 通常比 `pkgs/free` 新, 因此将其放在最前.<br>\n",
    "或使用 `channel_priority: false`, 见上一节 [conda 设置](#使用-conda-命令).\n",
    "\n",
    "e.g.\n",
    "\n",
    "```sh\n",
    "conda config --add channels https://mirrors.tuna.tsinghua.edu.cn/anaconda/cloud/conda-forge/\n",
    "```"
   ]
  },
  {
   "cell_type": "markdown",
   "metadata": {},
   "source": [
    "此时 `~/.condarc` 的内容:\n",
    "\n",
    "> channels:<br>\n",
    "&emsp;- https://mirrors.tuna.tsinghua.edu.cn/anaconda/cloud/conda-forge/<br>\n",
    "&emsp;- defaults"
   ]
  },
  {
   "cell_type": "markdown",
   "metadata": {},
   "source": [
    "### Troubleshooting"
   ]
  },
  {
   "cell_type": "markdown",
   "metadata": {},
   "source": [
    "#### Ubuntu 14.04 LTS 安装 python3 以及 pip"
   ]
  },
  {
   "cell_type": "markdown",
   "metadata": {},
   "source": [
    "```sh\n",
    "# 添加 ppa\n",
    "sudo add-apt-repository ppa:deadsnakes/ppa\n",
    "sudo apt-get update\n",
    "\n",
    "# 安装 python3.5:\n",
    "sudo apt-get install python3.5 python3.5-dev python3.5-tk\n",
    "\n",
    "# 安装 python3.6:\n",
    "sudo apt-get install python3.6 python3.6-dev python3.6-tk\n",
    "\n",
    "# python3.6 无法安装 pip 的解决方法:\n",
    "#下载 https://bootstrap.pypa.io/get-pip.py\n",
    "sudo mv -v /usr/lib/python3/dist-packages/pkg_resources.py /usr/lib/python3/dist-packages/pkg_resources.py.bak\n",
    "sudo -H python3.6 get-pip.py\n",
    "```"
   ]
  },
  {
   "cell_type": "markdown",
   "metadata": {},
   "source": [
    "#### conda 安装时指定源且禁用其他源"
   ]
  },
  {
   "cell_type": "markdown",
   "metadata": {},
   "source": [
    "```sh\n",
    "conda install <packages> -c <channel> --override-channels\n",
    "```"
   ]
  },
  {
   "cell_type": "markdown",
   "metadata": {},
   "source": [
    "#### astropy 新版不再支持旧版 python"
   ]
  },
  {
   "cell_type": "markdown",
   "metadata": {},
   "source": [
    "```sh\n",
    "pip install \"astropy<3.0\" # for python < 3.5\n",
    "```"
   ]
  },
  {
   "cell_type": "markdown",
   "metadata": {},
   "source": [
    "## 安装常用包\n",
    "---"
   ]
  },
  {
   "cell_type": "markdown",
   "metadata": {},
   "source": [
    "### numpy, scipy, matplotlib"
   ]
  },
  {
   "cell_type": "markdown",
   "metadata": {
    "cell_style": "split",
    "code_folding": []
   },
   "source": [
    "```sh\n",
    "conda install numpy\n",
    "conda install scipy\n",
    "conda install matplotlib\n",
    "```"
   ]
  },
  {
   "cell_type": "markdown",
   "metadata": {
    "cell_style": "split"
   },
   "source": [
    "```sh\n",
    "pip install numpy\n",
    "pip install scipy\n",
    "pip install matplotlib\n",
    "```"
   ]
  },
  {
   "cell_type": "markdown",
   "metadata": {},
   "source": [
    "配置启动文件(Ubuntu), 在 `~/.bashrc` 中添加:\n",
    "```bash\n",
    "export PYTHONSTARTUP=$HOME/.pythonrc\n",
    "```"
   ]
  },
  {
   "cell_type": "code",
   "execution_count": 10,
   "metadata": {},
   "outputs": [
    {
     "name": "stdout",
     "output_type": "stream",
     "text": [
      "# Python startup file\r\n",
      "# ~/.pythonrc\r\n",
      "import matplotlib.pyplot as plt\r\n",
      "from matplotlib import cm\r\n",
      "import numpy as np\r\n",
      "import os\r\n",
      "\r\n",
      "print(\">>> import matplotlib.pyplot as plt\")\r\n",
      "print(\">>> from matplotlib import cm\")\r\n",
      "print(\">>> import numpy as np\")\r\n",
      "print(\">>> import os\")\r\n",
      "\r\n",
      "try:\r\n",
      "    from pprint import pprint\r\n",
      "except ImportError:\r\n",
      "    pass\r\n",
      "else:\r\n",
      "    print(\">>> from pprint import pprint\")\r\n",
      "\r\n",
      "# Tab completion & history\r\n",
      "try:\r\n",
      "    import atexit, readline, rlcompleter\r\n",
      "except ImportError:\r\n",
      "    pass\r\n",
      "else:\r\n",
      "    readline.parse_and_bind('tab: complete') # Tab completion\r\n",
      "    readline.parse_and_bind('''control-l:\"    \"''') # Indent, since TAB is occupied\r\n",
      "    histfile = os.path.join(os.environ['HOME'], '.pyhistory') # History file\r\n",
      "    try:\r\n",
      "        readline.read_history_file(histfile)\r\n",
      "    except IOError:\r\n",
      "        pass\r\n",
      "    atexit.register(readline.write_history_file, histfile)\r\n",
      "    del histfile, readline, rlcompleter\r\n",
      "    print(\"--- Tab completion: [ON] ---\")\r\n",
      "    print(\"--- History: [ON] ---\")\r\n",
      "    print(\"--- [Tab] -> [Ctrl+L] ---\")\r\n"
     ]
    }
   ],
   "source": [
    "cat ~/.pythonrc"
   ]
  },
  {
   "cell_type": "markdown",
   "metadata": {},
   "source": [
    "### astropy, sunpy"
   ]
  },
  {
   "cell_type": "markdown",
   "metadata": {
    "cell_style": "split"
   },
   "source": [
    "```sh\n",
    "conda install astropy\n",
    "conda install sunpy -c conda-forge\n",
    "```"
   ]
  },
  {
   "cell_type": "markdown",
   "metadata": {
    "cell_style": "split"
   },
   "source": [
    "```sh\n",
    "pip install astropy\n",
    "pip install sunpy[all] pytest\n",
    "```"
   ]
  },
  {
   "cell_type": "markdown",
   "metadata": {},
   "source": [
    "测试:"
   ]
  },
  {
   "cell_type": "code",
   "execution_count": null,
   "metadata": {
    "deletable": false,
    "editable": false,
    "run_control": {
     "frozen": true
    }
   },
   "outputs": [],
   "source": [
    "import astropy\n",
    "astropy.test()"
   ]
  },
  {
   "cell_type": "code",
   "execution_count": null,
   "metadata": {
    "deletable": false,
    "editable": false,
    "run_control": {
     "frozen": true
    }
   },
   "outputs": [],
   "source": [
    "import sunpy\n",
    "sunpy.self_test(online=False)"
   ]
  },
  {
   "cell_type": "markdown",
   "metadata": {},
   "source": [
    "如果出错: '$USER'权限问题, 见下面修改 `~/.sunpy/sunpyrc` 说明."
   ]
  },
  {
   "cell_type": "markdown",
   "metadata": {},
   "source": [
    "查看包信息:"
   ]
  },
  {
   "cell_type": "code",
   "execution_count": 13,
   "metadata": {
    "code_folding": []
   },
   "outputs": [
    {
     "name": "stdout",
     "output_type": "stream",
     "text": [
      "Loading channels: ...working... done\n",
      "# Name                  Version           Build  Channel             \n",
      "sunpy                     0.9.0          py27_0  conda-forge         \n",
      "sunpy                     0.9.0          py35_0  conda-forge         \n",
      "sunpy                     0.9.0          py36_0  conda-forge         \n"
     ]
    }
   ],
   "source": [
    "%%bash\n",
    "conda search \"sunpy 0.9.0\""
   ]
  },
  {
   "cell_type": "code",
   "execution_count": 14,
   "metadata": {},
   "outputs": [
    {
     "name": "stdout",
     "output_type": "stream",
     "text": [
      "\n",
      "sunpy 0.9.0 py36_0\n",
      "------------------\n",
      "file name   : sunpy-0.9.0-py36_0.tar.bz2\n",
      "name        : sunpy\n",
      "version     : 0.9.0\n",
      "build string: py36_0\n",
      "build number: 0\n",
      "channel     : https://conda.anaconda.org/conda-forge/linux-64\n",
      "size        : 5.7 MB\n",
      "arch        : x86_64\n",
      "constrains  : ()\n",
      "license     : BSD 2-Clause\n",
      "md5         : 3008791f706eadca029533ae3dd0a336\n",
      "platform    : linux\n",
      "subdir      : linux-64\n",
      "url         : https://conda.anaconda.org/conda-forge/linux-64/sunpy-0.9.0-py36_0.tar.bz2\n",
      "dependencies:\n",
      "    astropy >=2.0.3\n",
      "    beautifulsoup4\n",
      "    drms\n",
      "    glymur\n",
      "    hypothesis\n",
      "    matplotlib >=1.3\n",
      "    mock\n",
      "    numpy >=1.11\n",
      "    pandas >=0.12.1\n",
      "    pytest\n",
      "    pytest-astropy\n",
      "    pytest-mock\n",
      "    python 3.6*\n",
      "    requests\n",
      "    scikit-image\n",
      "    scipy\n",
      "    sqlalchemy\n",
      "    suds-jurko\n"
     ]
    }
   ],
   "source": [
    "%%bash\n",
    "conda info \"sunpy 0.9.0 py36_0\""
   ]
  },
  {
   "cell_type": "markdown",
   "metadata": {},
   "source": [
    "用户文件位置: `~/.sunpy/sunpyrc`"
   ]
  },
  {
   "cell_type": "code",
   "execution_count": 15,
   "metadata": {},
   "outputs": [
    {
     "name": "stdout",
     "output_type": "stream",
     "text": [
      "[general]\r\n",
      "working_dir = /home/$USER/software/sunpy-downloads\r\n",
      "\r\n",
      "[downloads]\r\n",
      "download_dir = data\r\n",
      "sample_dir = data/sample_data\r\n",
      "\r\n",
      "[database]\r\n",
      "url = sqlite:////home/$USER/software/sunpy-downloads/sunpydb.sqlite\r\n"
     ]
    }
   ],
   "source": [
    "cat ~/.sunpy/sunpyrc"
   ]
  },
  {
   "cell_type": "code",
   "execution_count": 1,
   "metadata": {},
   "outputs": [
    {
     "name": "stdout",
     "output_type": "stream",
     "text": [
      "FILES USED:\n",
      "  /home/lydia/miniconda3/lib/python3.6/site-packages/sunpy/data/sunpyrc\n",
      "  /home/lydia/.sunpy/sunpyrc\n",
      "\n",
      "CONFIGURATION:\n",
      "  [general]\n",
      "  time_format = %Y-%m-%d %H:%M:%S\n",
      "  working_dir = /home/lydia/software/sunpy-downloads\n",
      "\n",
      "  [downloads]\n",
      "  download_dir = /home/lydia/software/sunpy-downloads/data\n",
      "  sample_dir = /home/lydia/software/sunpy-downloads/data/sample_data\n",
      "\n",
      "  [database]\n",
      "  url = sqlite:////home/lydia/software/sunpy-downloads/sunpydb.sqlite\n",
      "\n"
     ]
    }
   ],
   "source": [
    "import sunpy\n",
    "sunpy.print_config()"
   ]
  },
  {
   "cell_type": "markdown",
   "metadata": {},
   "source": [
    "设置下载位置:<br>\n",
    "http://docs.sunpy.org/en/stable/guide/customization.html?highlight=sunpy.config.set<br>\n",
    "e.g.\n",
    "> [downloads]<br>\n",
    "&emsp;download_dir = ...\n",
    "\n",
    "```python\n",
    ">>> import sunpy\n",
    ">>> sunpy.config.set('downloads', 'download_dir',\n",
    "                 '/home/<user>/<your_path>/sunpy-downloads/data')\n",
    "```"
   ]
  },
  {
   "cell_type": "markdown",
   "metadata": {},
   "source": [
    "退出后再进入 python 如果发现没有修改成功, 则需要手动修改 ~/.sunpy/sunpyrc 文件.<br>\n",
    "不能用 '$USER' 代替具体的用户名 '<user\\>'"
   ]
  },
  {
   "cell_type": "markdown",
   "metadata": {},
   "source": [
    "### jupyter"
   ]
  },
  {
   "cell_type": "markdown",
   "metadata": {
    "cell_style": "split"
   },
   "source": [
    "```sh\n",
    "conda install jupyter\n",
    "```"
   ]
  },
  {
   "cell_type": "markdown",
   "metadata": {
    "cell_style": "split"
   },
   "source": [
    "```sh\n",
    "pip install jupyter\n",
    "```"
   ]
  },
  {
   "cell_type": "code",
   "execution_count": 15,
   "metadata": {},
   "outputs": [
    {
     "name": "stdout",
     "output_type": "stream",
     "text": [
      "config:\n",
      "    /home/lydia/.jupyter\n",
      "    /home/lydia/miniconda3/etc/jupyter\n",
      "    /usr/local/etc/jupyter\n",
      "    /etc/jupyter\n",
      "data:\n",
      "    /home/lydia/.local/share/jupyter\n",
      "    /home/lydia/miniconda3/share/jupyter\n",
      "    /usr/local/share/jupyter\n",
      "    /usr/share/jupyter\n",
      "runtime:\n",
      "    /run/user/1000/jupyter\n"
     ]
    }
   ],
   "source": [
    "%%bash\n",
    "jupyter --path"
   ]
  },
  {
   "cell_type": "markdown",
   "metadata": {},
   "source": [
    "* 设置双击打开 \\*.ipynb 文件"
   ]
  },
  {
   "cell_type": "markdown",
   "metadata": {},
   "source": [
    "```sh\n",
    "pip install nbopen\n",
    "```"
   ]
  },
  {
   "cell_type": "markdown",
   "metadata": {},
   "source": [
    "再执行:\n",
    "\n",
    "Linux/BSD: <br>\n",
    "```sh\n",
    "python3 -m nbopen.install_xdg<br>\n",
    " ```   \n",
    "\n",
    "Windows: <br>\n",
    "```sh\n",
    "python3 -m nbopen.install_win<br>\n",
    "```\n",
    "\n",
    "Mac: <br>\n",
    "&ensp;Clone the repository (https://github.com/takluyver/nbopen.git)<br>\n",
    "&ensp;and run `./osx-install.sh`<br><br>\n",
    "之后即可在文件浏览器中选择文件的打开方式为 `Jupyter Notebook`.\n",
    "\n",
    "> 注意可能会更改 bash 脚本的默认打开方式."
   ]
  },
  {
   "cell_type": "markdown",
   "metadata": {},
   "source": [
    "* Jupyter 插件集合<br>(https://github.com/ipython-contrib/jupyter_contrib_nbextensions)"
   ]
  },
  {
   "cell_type": "markdown",
   "metadata": {},
   "source": [
    "```sh\n",
    "conda install jupyter_contrib_nbextensions -c conda-forge\n",
    "```\n",
    "&ensp;Or\n",
    "```sh\n",
    "pip install jupyter_contrib_nbextensions\n",
    "```\n",
    "> This also automatically installs the Javascript and CSS files:<br>\n",
    "`jupyter contrib nbextension install --sys-prefix`"
   ]
  },
  {
   "cell_type": "markdown",
   "metadata": {},
   "source": [
    "安装好后将同时启用 `Nbextensions` 选项卡, 手动选择需要的插件, \n",
    "或者在命令行启用和禁用:"
   ]
  },
  {
   "cell_type": "markdown",
   "metadata": {},
   "source": [
    "```sh\n",
    "jupyter nbextension list # 查看\n",
    "jupyter nbextension enable <path> # <path> 为上述 list 中的 <extension>/main\n",
    "jupyter nbextension disable <path>\n",
    "```"
   ]
  },
  {
   "cell_type": "markdown",
   "metadata": {},
   "source": [
    "* notebook主题 (https://github.com/dunovank/jupyter-themes)"
   ]
  },
  {
   "cell_type": "markdown",
   "metadata": {},
   "source": [
    "```sh\n",
    "pip install jupyterthemes\n",
    "```"
   ]
  },
  {
   "cell_type": "markdown",
   "metadata": {},
   "source": [
    "* 演示代码过程的插件 (https://github.com/lgpage/nbtutor)"
   ]
  },
  {
   "cell_type": "markdown",
   "metadata": {},
   "source": [
    "```sh\n",
    "conda install nbtutor -c conda-forge\n",
    "```\n",
    "&ensp;Or\n",
    "```sh\n",
    "pip install nbtutor\n",
    "jupyter nbextension install --overwrite --py nbtutor\n",
    "jupyter nbextension enable --py nbtutor\n",
    "```"
   ]
  },
  {
   "cell_type": "markdown",
   "metadata": {},
   "source": [
    "载入:\n",
    "\n",
    "```python\n",
    "# ipython/jupyter\n",
    "%load_ext nbtutor\n",
    "```\n",
    "使用:<br>\n",
    "CodeCell 中首行加入下面语句, 然后执行 Cell (numpy 等需要在 Cell 内导入)\n",
    "```python\n",
    "# ipython/jupyter\n",
    "%%nbtutor -r -f\n",
    "# 或\n",
    "%%nbtutor -r -f -i  # 缩减显示\n",
    "```"
   ]
  },
  {
   "cell_type": "markdown",
   "metadata": {},
   "source": [
    "### 其他"
   ]
  },
  {
   "cell_type": "markdown",
   "metadata": {},
   "source": [
    "* PeakUtils (http://peakutils.readthedocs.io/en/latest/)"
   ]
  },
  {
   "cell_type": "markdown",
   "metadata": {},
   "source": [
    "```sh\n",
    "git clone https://bitbucket.org/lucashnegri/peakutils.git\n",
    "cd peakutils\n",
    "python setup.py install\n",
    "```\n",
    "\n",
    "```python\n",
    ">>> import peakutils\n",
    "```"
   ]
  },
  {
   "cell_type": "markdown",
   "metadata": {},
   "source": [
    "* LMfit-py (https://github.com/lmfit/lmfit-py)"
   ]
  },
  {
   "cell_type": "markdown",
   "metadata": {},
   "source": [
    "```sh\n",
    "conda install lmfit -c conda-forge\n",
    "# 或\n",
    "pip install lmfit\n",
    "```\n",
    "\n",
    "```python\n",
    ">>> import lmfit\n",
    "```"
   ]
  },
  {
   "cell_type": "markdown",
   "metadata": {},
   "source": [
    "* HDF5包 (http://docs.h5py.org/en/latest/index.html)<br>"
   ]
  },
  {
   "cell_type": "markdown",
   "metadata": {},
   "source": [
    "**pandas**\n",
    "```sh\n",
    "conda install pytables pandas\n",
    "```\n",
    "&ensp;Or\n",
    "```sh\n",
    "pip install tables pandas\n",
    "```\n",
    "<br><br>\n",
    "**h5py** (http://docs.h5py.org/en/latest/index.html)\n",
    "```sh\n",
    "conda install h5py  # 推荐. 将同时安装 hdf5, 并得到 h5dump 等命令\n",
    "```\n",
    "&ensp;Or\n",
    "```sh\n",
    "pip install h5py  # 需要 sudo apt-get install libhdf5-dev\n",
    "```"
   ]
  },
  {
   "cell_type": "markdown",
   "metadata": {},
   "source": [
    "* CDF包<br>\n",
    "\n",
    "安装 spacepy (https://pythonhosted.org/SpacePy)\n",
    "\n",
    "或"
   ]
  },
  {
   "cell_type": "markdown",
   "metadata": {},
   "source": [
    "```sh\n",
    "pip install cdflib # https://github.com/MAVENSDC/cdflib\n",
    "```"
   ]
  },
  {
   "cell_type": "markdown",
   "metadata": {},
   "source": [
    "* EVTK (https://bitbucket.org/pauloh/pyevtk)"
   ]
  },
  {
   "cell_type": "markdown",
   "metadata": {},
   "source": [
    "```sh\n",
    "sudo apt-get install mercurial  # 得到 hg 命令\n",
    "\n",
    "hg clone https://bitbucket.org/pauloh/pyevtk\n",
    "cd pyevtk\n",
    "python setup.py build --debug install\n",
    "```\n",
    "\n",
    "```sh\n",
    "hg pull && hg update default # 更新\n",
    "```"
   ]
  },
  {
   "cell_type": "markdown",
   "metadata": {},
   "source": [
    "```python\n",
    ">>> from evtk.hl import gridToVTK\n",
    "```"
   ]
  },
  {
   "cell_type": "markdown",
   "metadata": {},
   "source": [
    "* Mayavi (http://docs.enthought.com/mayavi/mayavi)"
   ]
  },
  {
   "cell_type": "markdown",
   "metadata": {},
   "source": [
    "```sh\n",
    "pip install mayavi  # 将同时安装 vtk. (pip 是目前 mayavi 最保险的安装方式)\n",
    "```\n",
    "```sh\n",
    "# shell\n",
    "mayavi2\n",
    "```"
   ]
  }
 ],
 "metadata": {
  "hide_input": false,
  "kernelspec": {
   "display_name": "Python 3",
   "language": "python",
   "name": "python3"
  },
  "language_info": {
   "codemirror_mode": {
    "name": "ipython",
    "version": 3
   },
   "file_extension": ".py",
   "mimetype": "text/x-python",
   "name": "python",
   "nbconvert_exporter": "python",
   "pygments_lexer": "ipython3",
   "version": "3.6.5"
  },
  "toc": {
   "base_numbering": 1,
   "nav_menu": {
    "height": "432px",
    "width": "490px"
   },
   "number_sections": true,
   "sideBar": true,
   "skip_h1_title": true,
   "title_cell": "",
   "title_sidebar": "",
   "toc_cell": false,
   "toc_position": {
    "height": "491px",
    "left": "1020px",
    "top": "121px",
    "width": "279px"
   },
   "toc_section_display": true,
   "toc_window_display": true
  },
  "varInspector": {
   "cols": {
    "lenName": 16,
    "lenType": 16,
    "lenVar": 40
   },
   "kernels_config": {
    "python": {
     "delete_cmd_postfix": "",
     "delete_cmd_prefix": "del ",
     "library": "var_list.py",
     "varRefreshCmd": "print(var_dic_list())"
    },
    "r": {
     "delete_cmd_postfix": ") ",
     "delete_cmd_prefix": "rm(",
     "library": "var_list.r",
     "varRefreshCmd": "cat(var_dic_list()) "
    }
   },
   "types_to_exclude": [
    "module",
    "function",
    "builtin_function_or_method",
    "instance",
    "_Feature"
   ],
   "window_display": false
  }
 },
 "nbformat": 4,
 "nbformat_minor": 2
}
