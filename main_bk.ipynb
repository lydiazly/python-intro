{
 "cells": [
  {
   "cell_type": "markdown",
   "metadata": {},
   "source": [
    "# Python 简易教程 (for Solar Group)"
   ]
  },
  {
   "cell_type": "markdown",
   "metadata": {
    "toc": true
   },
   "source": [
    "<h1><span class=\"tocSkip\"></span></h1>\n",
    "<div class=\"toc\"><ul class=\"toc-item\"><li><span><a href=\"#简介\" data-toc-modified-id=\"简介-1\"><span class=\"toc-item-num\">1&nbsp;&nbsp;</span>简介</a></span></li><li><span><a href=\"#基本语法\" data-toc-modified-id=\"基本语法-2\"><span class=\"toc-item-num\">2&nbsp;&nbsp;</span>基本语法</a></span><ul class=\"toc-item\"><li><span><a href=\"#语法特点\" data-toc-modified-id=\"语法特点-2.1\"><span class=\"toc-item-num\">2.1&nbsp;&nbsp;</span>语法特点</a></span></li><li><span><a href=\"#print函数\" data-toc-modified-id=\"print函数-2.2\"><span class=\"toc-item-num\">2.2&nbsp;&nbsp;</span>print函数</a></span></li><li><span><a href=\"#基本运算\" data-toc-modified-id=\"基本运算-2.3\"><span class=\"toc-item-num\">2.3&nbsp;&nbsp;</span>基本运算</a></span></li><li><span><a href=\"#字符串\" data-toc-modified-id=\"字符串-2.4\"><span class=\"toc-item-num\">2.4&nbsp;&nbsp;</span>字符串</a></span></li><li><span><a href=\"#list,-tuple,-dict,-set\" data-toc-modified-id=\"list,-tuple,-dict,-set-2.5\"><span class=\"toc-item-num\">2.5&nbsp;&nbsp;</span>list, tuple, dict, set</a></span></li><li><span><a href=\"#if-语句\" data-toc-modified-id=\"if-语句-2.6\"><span class=\"toc-item-num\">2.6&nbsp;&nbsp;</span>if 语句</a></span></li><li><span><a href=\"#相关工具\" data-toc-modified-id=\"相关工具-2.7\"><span class=\"toc-item-num\">2.7&nbsp;&nbsp;</span>相关工具</a></span><ul class=\"toc-item\"><li><span><a href=\"#pip\" data-toc-modified-id=\"pip-2.7.1\"><span class=\"toc-item-num\">2.7.1&nbsp;&nbsp;</span>pip</a></span></li><li><span><a href=\"#Anaconda\" data-toc-modified-id=\"Anaconda-2.7.2\"><span class=\"toc-item-num\">2.7.2&nbsp;&nbsp;</span>Anaconda</a></span></li><li><span><a href=\"#IPython-&amp;-Jupyter\" data-toc-modified-id=\"IPython-&amp;-Jupyter-2.7.3\"><span class=\"toc-item-num\">2.7.3&nbsp;&nbsp;</span>IPython &amp; Jupyter</a></span></li></ul></li></ul></li><li><span><a href=\"#常用包介绍\" data-toc-modified-id=\"常用包介绍-3\"><span class=\"toc-item-num\">3&nbsp;&nbsp;</span>常用包介绍</a></span><ul class=\"toc-item\"><li><span><a href=\"#Python-自带包和模块\" data-toc-modified-id=\"Python-自带包和模块-3.1\"><span class=\"toc-item-num\">3.1&nbsp;&nbsp;</span>Python 自带包和模块</a></span></li><li><span><a href=\"#NumPy,-SciPy\" data-toc-modified-id=\"NumPy,-SciPy-3.2\"><span class=\"toc-item-num\">3.2&nbsp;&nbsp;</span>NumPy, SciPy</a></span><ul class=\"toc-item\"><li><span><a href=\"#概览\" data-toc-modified-id=\"概览-3.2.1\"><span class=\"toc-item-num\">3.2.1&nbsp;&nbsp;</span>概览</a></span></li><li><span><a href=\"#生成-numpy.ndarray-数组\" data-toc-modified-id=\"生成-numpy.ndarray-数组-3.2.2\"><span class=\"toc-item-num\">3.2.2&nbsp;&nbsp;</span>生成 numpy.ndarray 数组</a></span></li></ul></li><li><span><a href=\"#Matplotlib\" data-toc-modified-id=\"Matplotlib-3.3\"><span class=\"toc-item-num\">3.3&nbsp;&nbsp;</span>Matplotlib</a></span></li><li><span><a href=\"#天文相关包\" data-toc-modified-id=\"天文相关包-3.4\"><span class=\"toc-item-num\">3.4&nbsp;&nbsp;</span>天文相关包</a></span><ul class=\"toc-item\"><li><span><a href=\"#Astropy\" data-toc-modified-id=\"Astropy-3.4.1\"><span class=\"toc-item-num\">3.4.1&nbsp;&nbsp;</span>Astropy</a></span></li><li><span><a href=\"#SunPy\" data-toc-modified-id=\"SunPy-3.4.2\"><span class=\"toc-item-num\">3.4.2&nbsp;&nbsp;</span>SunPy</a></span></li></ul></li></ul></li><li><span><a href=\"#常见数据文件读写\" data-toc-modified-id=\"常见数据文件读写-4\"><span class=\"toc-item-num\">4&nbsp;&nbsp;</span>常见数据文件读写</a></span><ul class=\"toc-item\"><li><span><a href=\"#一般情况\" data-toc-modified-id=\"一般情况-4.1\"><span class=\"toc-item-num\">4.1&nbsp;&nbsp;</span>一般情况</a></span></li><li><span><a href=\"#txt,-csv-文件读写\" data-toc-modified-id=\"txt,-csv-文件读写-4.2\"><span class=\"toc-item-num\">4.2&nbsp;&nbsp;</span>txt, csv 文件读写</a></span></li><li><span><a href=\"#numpy-save-文件读写\" data-toc-modified-id=\"numpy-save-文件读写-4.3\"><span class=\"toc-item-num\">4.3&nbsp;&nbsp;</span>numpy save 文件读写</a></span></li><li><span><a href=\"#IDL-sav-文件读取\" data-toc-modified-id=\"IDL-sav-文件读取-4.4\"><span class=\"toc-item-num\">4.4&nbsp;&nbsp;</span>IDL sav 文件读取</a></span></li><li><span><a href=\"#FITS-文件读取\" data-toc-modified-id=\"FITS-文件读取-4.5\"><span class=\"toc-item-num\">4.5&nbsp;&nbsp;</span>FITS 文件读取</a></span></li></ul></li><li><span><a href=\"#其他包和软件\" data-toc-modified-id=\"其他包和软件-5\"><span class=\"toc-item-num\">5&nbsp;&nbsp;</span>其他包和软件</a></span></li></ul></div>"
   ]
  },
  {
   "cell_type": "markdown",
   "metadata": {},
   "source": [
    "课件文件, 打开:\n",
    "**http://{{!printip}}:8625** &emsp;(user/pswd: 625)"
   ]
  },
  {
   "cell_type": "markdown",
   "metadata": {
    "hide_input": false
   },
   "source": [
    "## 简介\n",
    "---"
   ]
  },
  {
   "cell_type": "markdown",
   "metadata": {},
   "source": [
    "优势: 开源, 用户广, 用途广, 社区完善, 新手友好\n",
    "\n",
    "https://www.jetbrains.com/research/python-developers-survey-2017/\n",
    "<br><br>\n",
    "2017年的 python 使用调查报告 https://www.jetbrains.com/research/python-developers-survey-2017/\n",
    "<img src='fig/Python Developers Survey 2017 - Results-018.png' >\n",
    "<img src='fig/Python Developers Survey 2017 - Results-019.png' >\n",
    "<img src='fig/Python Developers Survey 2017 - Results-020.png' >"
   ]
  },
  {
   "cell_type": "markdown",
   "metadata": {},
   "source": [
    "* 参考网站\n",
    "    - 官方网站: https://www.python.org/\n",
    "    - stackoverflow https://stackoverflow.com/questions/tagged/python\n",
    "    - 官方文档 https://docs.python.org\n",
    "    - 廖雪峰的网站 (包含 python2.7 和 python3 的教程) https://www.liaoxuefeng.com\n",
    "    - wikibooks https://en.wikibooks.org/wiki/Python_Programming\n",
    "    - 演示代码执行过程的工具 http://pythontutor.com/\n",
    "    - 天文相关教程(较新) https://python4astronomers.github.io"
   ]
  },
  {
   "cell_type": "markdown",
   "metadata": {},
   "source": [
    "* 获取 python 包/模块/函数的帮助:\n",
    "```python\n",
    "# python\n",
    ">>> help(name)\n",
    "```\n",
    "```sh\n",
    "# shell\n",
    "$ pydoc <name>\n",
    "$ pydoc -w <name>  # 生成一个 html 帮助文件\n",
    "```\n",
    "```python\n",
    "# ipython/jupyter\n",
    "name?  # 弹出帮助文档, `Esc` 退出文档\n",
    "```"
   ]
  },
  {
   "cell_type": "markdown",
   "metadata": {},
   "source": [
    "## 基本语法\n",
    "---"
   ]
  },
  {
   "cell_type": "markdown",
   "metadata": {},
   "source": [
    "### 语法特点"
   ]
  },
  {
   "cell_type": "markdown",
   "metadata": {},
   "source": [
    "* 对象编程的概念<br>\n",
    "  类 -> 创建一个实例 -> 使用该实例所属的类下面的方法\n",
    "```python\n",
    "l = [3, 2, 1]  # l 是 list 的一个实例\n",
    "l.reverse()  # reverse 是一个方法(函数), reverse() 是一个实例\n",
    "l.__dir__()  # 查看 l 的所有方法(函数)\n",
    "```\n",
    "<br>\n",
    "* 严格缩进(通常采用4个半角空格)\n",
    "```py\n",
    "if a > 0:\n",
    "      a += 1\n",
    "print(a)\n",
    "```\n",
    "<br>\n",
    "* 空格不敏感\n",
    "```python\n",
    "a + b * c ** 2 / d\n",
    "f (a, b)\n",
    "```\n",
    "<br>\n",
    "* 大小写敏感, 使用大小写组合的变量名风格(下划线仍是合法变量名字符,但有特殊含义, 见 [python进阶#脚本相关](advance.ipynb#脚本相关))\n",
    "```python\n",
    "from scipy.interpolate import BSpline\n",
    "```\n",
    "```python\n",
    "import pandas as pd\n",
    "dataFrame = pd.DataFrame(array)\n",
    "```\n",
    "见 [IDL sav 文件读取](#IDL-sav-文件读取)\n",
    "<br><br>\n",
    "* 括号内换行不用换行符\n",
    "<br><br>\n",
    "* 单行注释 `# ...`\n",
    "<br><br>\n",
    "* 多行注释<br>\n",
    "函数或模块的开头的多行注释(将存储在`__doc__`变量), 可以用 `help()` 打印\n",
    "```python\n",
    "\"\"\"\n",
    "这是一个\n",
    "多行注释\n",
    "\"\"\"\n",
    "```\n",
    "<br>\n",
    "* 同一行不同语句之间可用分号分隔\n",
    "```python\n",
    "x = 1; print(x)\n",
    "```\n",
    "<br>\n",
    "* 列表和数组的索引默认从<font color=red>0</font>开始\n",
    "<br><br>\n",
    "* 列表的最后一个元素可以加逗号\n",
    "```python\n",
    "[1, 2,]\n",
    "{'a' : 1, 'b' : 2,}\n",
    "```\n",
    "<br>\n",
    "* *etc.*"
   ]
  },
  {
   "cell_type": "markdown",
   "metadata": {},
   "source": [
    "### print函数"
   ]
  },
  {
   "cell_type": "code",
   "execution_count": 3,
   "metadata": {},
   "outputs": [],
   "source": [
    "a = 1.; b = 2."
   ]
  },
  {
   "cell_type": "code",
   "execution_count": 4,
   "metadata": {
    "cell_style": "split"
   },
   "outputs": [
    {
     "name": "stdout",
     "output_type": "stream",
     "text": [
      "a=1.000, b=2.0e+00\n"
     ]
    }
   ],
   "source": [
    "print('a=%.3f, b=%.1e' % (a, b))"
   ]
  },
  {
   "cell_type": "code",
   "execution_count": 5,
   "metadata": {
    "cell_style": "split"
   },
   "outputs": [
    {
     "name": "stdout",
     "output_type": "stream",
     "text": [
      "a=1.0, b=2.000\n"
     ]
    }
   ],
   "source": [
    "print(f'a={a}, b={b:.3f}')"
   ]
  },
  {
   "cell_type": "code",
   "execution_count": 6,
   "metadata": {
    "cell_style": "split"
   },
   "outputs": [
    {
     "name": "stdout",
     "output_type": "stream",
     "text": [
      "xxx yyy\n"
     ]
    }
   ],
   "source": [
    "%%python2\n",
    "print('xxx'),\n",
    "print('yyy')"
   ]
  },
  {
   "cell_type": "code",
   "execution_count": 7,
   "metadata": {
    "cell_style": "split"
   },
   "outputs": [
    {
     "name": "stdout",
     "output_type": "stream",
     "text": [
      "xxx yyy\n"
     ]
    }
   ],
   "source": [
    "%%python3\n",
    "print('xxx', end=' ')\n",
    "print('yyy')"
   ]
  },
  {
   "cell_type": "markdown",
   "metadata": {},
   "source": [
    "更多格式化参考 https://pyformat.info/"
   ]
  },
  {
   "cell_type": "markdown",
   "metadata": {},
   "source": [
    "### 基本运算"
   ]
  },
  {
   "cell_type": "markdown",
   "metadata": {},
   "source": [
    "运算符参考:<br>\n",
    "https://en.wikibooks.org/wiki/Python_Programming/Basic_Math<br>\n",
    "https://www.tutorialspoint.com/python/python_basic_operators.htm"
   ]
  },
  {
   "cell_type": "code",
   "execution_count": 8,
   "metadata": {},
   "outputs": [
    {
     "data": {
      "text/plain": [
       "2"
      ]
     },
     "execution_count": 8,
     "metadata": {},
     "output_type": "execute_result"
    }
   ],
   "source": [
    "a = 1\n",
    "a += 1  # 没有 a++ 这种语法\n",
    "a"
   ]
  },
  {
   "cell_type": "code",
   "execution_count": 9,
   "metadata": {},
   "outputs": [
    {
     "data": {
      "text/plain": [
       "9.0"
      ]
     },
     "execution_count": 9,
     "metadata": {},
     "output_type": "execute_result"
    }
   ],
   "source": [
    "3. ** 2  # 自动转换数据类型"
   ]
  },
  {
   "cell_type": "code",
   "execution_count": 10,
   "metadata": {},
   "outputs": [
    {
     "data": {
      "text/plain": [
       "True"
      ]
     },
     "execution_count": 10,
     "metadata": {},
     "output_type": "execute_result"
    }
   ],
   "source": [
    "1 < 2 != 3  # 判断, 可以连写"
   ]
  },
  {
   "cell_type": "code",
   "execution_count": 11,
   "metadata": {
    "scrolled": true
   },
   "outputs": [
    {
     "data": {
      "text/plain": [
       "True"
      ]
     },
     "execution_count": 11,
     "metadata": {},
     "output_type": "execute_result"
    }
   ],
   "source": [
    "a = None\n",
    "a is None  # 注意这时不用 `==`"
   ]
  },
  {
   "cell_type": "markdown",
   "metadata": {},
   "source": [
    "### 字符串"
   ]
  },
  {
   "cell_type": "markdown",
   "metadata": {},
   "source": [
    "用双引号和单引号皆可(取决于所引内容).<br>\n",
    "字符串具有和列表(list)类似的运算规则(见之后的 list 说明):"
   ]
  },
  {
   "cell_type": "code",
   "execution_count": 12,
   "metadata": {
    "cell_style": "split"
   },
   "outputs": [
    {
     "data": {
      "text/plain": [
       "'aaaaaaaaaa'"
      ]
     },
     "execution_count": 12,
     "metadata": {},
     "output_type": "execute_result"
    }
   ],
   "source": [
    "'a' * 10"
   ]
  },
  {
   "cell_type": "code",
   "execution_count": 13,
   "metadata": {
    "cell_style": "split"
   },
   "outputs": [
    {
     "data": {
      "text/plain": [
       "'ab'"
      ]
     },
     "execution_count": 13,
     "metadata": {},
     "output_type": "execute_result"
    }
   ],
   "source": [
    "'a' + 'b'"
   ]
  },
  {
   "cell_type": "code",
   "execution_count": 14,
   "metadata": {},
   "outputs": [
    {
     "data": {
      "text/plain": [
       "'a'"
      ]
     },
     "execution_count": 14,
     "metadata": {},
     "output_type": "execute_result"
    }
   ],
   "source": [
    "'abc'[0]"
   ]
  },
  {
   "cell_type": "code",
   "execution_count": 15,
   "metadata": {
    "cell_style": "split"
   },
   "outputs": [
    {
     "name": "stdout",
     "output_type": "stream",
     "text": [
      "\n",
      "\n"
     ]
    }
   ],
   "source": [
    "print('\\n')"
   ]
  },
  {
   "cell_type": "code",
   "execution_count": 16,
   "metadata": {
    "cell_style": "split"
   },
   "outputs": [
    {
     "name": "stdout",
     "output_type": "stream",
     "text": [
      "\\n\n"
     ]
    }
   ],
   "source": [
    "print(r'\\n')  # same as '\\\\n'"
   ]
  },
  {
   "cell_type": "markdown",
   "metadata": {},
   "source": [
    "### list, tuple, dict, set"
   ]
  },
  {
   "cell_type": "markdown",
   "metadata": {},
   "source": [
    "* 有序表 list, tuple"
   ]
  },
  {
   "cell_type": "code",
   "execution_count": 17,
   "metadata": {},
   "outputs": [],
   "source": [
    "l = [0, 1, 2, 3, 4, 5]  # list, 元素可变\n",
    "t = (0, 1, 2, 3, 4, 5)  # tuple, 元素不可变"
   ]
  },
  {
   "cell_type": "code",
   "execution_count": 18,
   "metadata": {
    "cell_style": "split"
   },
   "outputs": [
    {
     "data": {
      "text/plain": [
       "[0, 1, 2]"
      ]
     },
     "execution_count": 18,
     "metadata": {},
     "output_type": "execute_result"
    }
   ],
   "source": [
    "l[0:3]  # 一个切片(slice)"
   ]
  },
  {
   "cell_type": "code",
   "execution_count": 19,
   "metadata": {
    "cell_style": "split"
   },
   "outputs": [
    {
     "data": {
      "text/plain": [
       "(0, 1, 2)"
      ]
     },
     "execution_count": 19,
     "metadata": {},
     "output_type": "execute_result"
    }
   ],
   "source": [
    "t[0:3]"
   ]
  },
  {
   "cell_type": "code",
   "execution_count": 20,
   "metadata": {},
   "outputs": [
    {
     "data": {
      "text/plain": [
       "[1, 3]"
      ]
     },
     "execution_count": 20,
     "metadata": {},
     "output_type": "execute_result"
    }
   ],
   "source": [
    "l[1:5:2]  # 索引: [start, stop, step] (结果不包含 stop)"
   ]
  },
  {
   "cell_type": "code",
   "execution_count": 21,
   "metadata": {},
   "outputs": [
    {
     "data": {
      "text/plain": [
       "[5, 4, 3, 2]"
      ]
     },
     "execution_count": 21,
     "metadata": {},
     "output_type": "execute_result"
    }
   ],
   "source": [
    "l[5:1:-1]  # step < 0, 仍然不包含 stop (此例中 stop=1)"
   ]
  },
  {
   "cell_type": "markdown",
   "metadata": {},
   "source": [
    "list 常用运算"
   ]
  },
  {
   "cell_type": "code",
   "execution_count": 22,
   "metadata": {
    "cell_style": "center"
   },
   "outputs": [
    {
     "name": "stdout",
     "output_type": "stream",
     "text": [
      "[0, 1, 2, 3, 4, 5, 'x']\n",
      "[0, 1, 2, 'y', 3, 4, 5, 'x']\n",
      "1\n",
      "[0, 2, 'y', 3, 4, 5, 'x']\n"
     ]
    }
   ],
   "source": [
    "l = [0, 1, 2, 3, 4, 5]\n",
    "l.append('x')  # 添加在最后\n",
    "print(l)\n",
    "l.insert(3, 'y')  # 添加在 l[i] 之前\n",
    "print(l)\n",
    "print(l.pop(1))  # 删除某元素并返回该值\n",
    "print(l)"
   ]
  },
  {
   "cell_type": "code",
   "execution_count": 29,
   "metadata": {
    "cell_style": "center",
    "deletable": false,
    "editable": false,
    "run_control": {
     "frozen": true
    },
    "scrolled": true
   },
   "outputs": [
    {
     "name": "stdout",
     "output_type": "stream",
     "text": [
      "[1, 'y', 2, 3, 4, 5, 'x', 1, 'y', 2, 3, 4, 5, 'x']\n",
      "[1, 'y', 2, 3, 4, 5, 'x', 6, 7]\n"
     ]
    }
   ],
   "source": [
    "print(l * 2)  # 重复N遍\n",
    "print(l + [6, 7])  # 合并两个list"
   ]
  },
  {
   "cell_type": "markdown",
   "metadata": {},
   "source": [
    "list 可以排序(当元素为同一类型且可比较大小时), 返回到原列表"
   ]
  },
  {
   "cell_type": "code",
   "execution_count": 23,
   "metadata": {
    "cell_style": "split"
   },
   "outputs": [
    {
     "data": {
      "text/plain": [
       "['a', 'b']"
      ]
     },
     "execution_count": 23,
     "metadata": {},
     "output_type": "execute_result"
    }
   ],
   "source": [
    "l = ['b', 'a']\n",
    "l.sort()\n",
    "l"
   ]
  },
  {
   "cell_type": "code",
   "execution_count": 24,
   "metadata": {
    "cell_style": "split"
   },
   "outputs": [
    {
     "data": {
      "text/plain": [
       "[1, 2]"
      ]
     },
     "execution_count": 24,
     "metadata": {},
     "output_type": "execute_result"
    }
   ],
   "source": [
    "l = [2, 1]\n",
    "l.sort()\n",
    "l"
   ]
  },
  {
   "cell_type": "markdown",
   "metadata": {},
   "source": [
    "* 字典 dict"
   ]
  },
  {
   "cell_type": "code",
   "execution_count": 25,
   "metadata": {
    "cell_style": "split"
   },
   "outputs": [],
   "source": [
    "d = {'a' : 1, 'b' : 2}"
   ]
  },
  {
   "cell_type": "code",
   "execution_count": 26,
   "metadata": {
    "cell_style": "split"
   },
   "outputs": [],
   "source": [
    "d = dict(a=1, b=2) # 注意这时没有引号"
   ]
  },
  {
   "cell_type": "code",
   "execution_count": 27,
   "metadata": {},
   "outputs": [
    {
     "data": {
      "text/plain": [
       "1"
      ]
     },
     "execution_count": 27,
     "metadata": {},
     "output_type": "execute_result"
    }
   ],
   "source": [
    "d['a']"
   ]
  },
  {
   "cell_type": "markdown",
   "metadata": {},
   "source": [
    "* 集合 set"
   ]
  },
  {
   "cell_type": "code",
   "execution_count": 28,
   "metadata": {},
   "outputs": [
    {
     "data": {
      "text/plain": [
       "{1, 2, 3}"
      ]
     },
     "execution_count": 28,
     "metadata": {},
     "output_type": "execute_result"
    }
   ],
   "source": [
    "s = {3, 2, 1, 3}  # set, 将自动排序并去除重复, 常用于 for 循环\n",
    "s  # 不能用 s[i] 来索引"
   ]
  },
  {
   "cell_type": "markdown",
   "metadata": {},
   "source": [
    "set 不可索引, 但可用作 for 循环. 见 [python进阶#迭代器](advance.ipynb#循环,-迭代器,-生成器)"
   ]
  },
  {
   "cell_type": "code",
   "execution_count": 29,
   "metadata": {},
   "outputs": [
    {
     "name": "stdout",
     "output_type": "stream",
     "text": [
      "1\n",
      "2\n",
      "3\n"
     ]
    }
   ],
   "source": [
    "for i in s:\n",
    "    print(i)"
   ]
  },
  {
   "cell_type": "code",
   "execution_count": 30,
   "metadata": {},
   "outputs": [
    {
     "name": "stdout",
     "output_type": "stream",
     "text": [
      "[1, 2, 3]\n"
     ]
    }
   ],
   "source": [
    "l2 = [i for i in s]\n",
    "print(l2)"
   ]
  },
  {
   "cell_type": "markdown",
   "metadata": {},
   "source": [
    "### if 语句"
   ]
  },
  {
   "cell_type": "markdown",
   "metadata": {},
   "source": [
    "python 里没有 `case`, 只有 `if` (非零数值、非空字符串、非空 list 等皆为 True)\n",
    "```python\n",
    "if <条件判断1>:\n",
    "    <执行1>\n",
    "elif <条件判断2>:\n",
    "    <执行2>\n",
    "elif <条件判断3>:\n",
    "    <执行3>\n",
    "else:\n",
    "    <执行4>\n",
    "```"
   ]
  },
  {
   "cell_type": "markdown",
   "metadata": {},
   "source": [
    "### 相关工具"
   ]
  },
  {
   "cell_type": "markdown",
   "metadata": {},
   "source": [
    "#### pip"
   ]
  },
  {
   "cell_type": "markdown",
   "metadata": {
    "cell_style": "center"
   },
   "source": [
    "<img style='float: left;' src='fig/logo-large.72ad8bf1.svg' />\n",
    "\n",
    "> The **Python Package Index (PyPI)** is a repository of software for the Python programming language.<br/>\n",
    "PyPI helps you find and install software developed and shared by the Python community.<br/>\n",
    "https://pypi.org/"
   ]
  },
  {
   "cell_type": "markdown",
   "metadata": {},
   "source": [
    "```\n",
    "$ pip install <pkg_name>\n",
    "```\n",
    "&nbsp;&nbsp;&nbsp;&nbsp;(其他命令见 [安装和配置#用 pip 安装 python 包](installpy.ipynb#用-pip-安装-python-包))"
   ]
  },
  {
   "cell_type": "markdown",
   "metadata": {},
   "source": [
    "#### Anaconda"
   ]
  },
  {
   "cell_type": "markdown",
   "metadata": {
    "cell_style": "center"
   },
   "source": [
    "<img style='float: left;' src='fig/DataScienceLibraries-01.png' />\n",
    "<img src='fig/Conda-DistributionDiagram-01.png' />"
   ]
  },
  {
   "cell_type": "markdown",
   "metadata": {},
   "source": [
    "<img src='fig/Conda — Conda documentation.png' />\n",
    "\n",
    "**Anaconda**(https://www.anaconda.com/)<br>\n",
    "安装好的 conda 包含独立于系统的 python 版本, 一部分已编译好的包, pip 工具, 以及不同环境的子目录.<br/>\n",
    "可根据需要切换不同的 conda 环境以使用不同的 python 版本或不同的包的组合.\n",
    "\n",
    "```\n",
    "$ conda install <pkg_name>\n",
    "```\n",
    "其他命令见 [安装和配置#使用 conda 命令](installpy.ipynb#使用-conda-命令)<br>\n",
    "详细说明见 [python进阶#Anaconda](advance.ipynb#Anaconda)"
   ]
  },
  {
   "cell_type": "markdown",
   "metadata": {},
   "source": [
    "#### IPython & Jupyter"
   ]
  },
  {
   "cell_type": "markdown",
   "metadata": {
    "cell_style": "center"
   },
   "source": [
    "<img style='float: center;' src='fig/IPython.png' />"
   ]
  },
  {
   "cell_type": "code",
   "execution_count": 18,
   "metadata": {
    "code_folding": [
     0
    ],
    "deletable": false,
    "editable": false
   },
   "outputs": [],
   "source": [
    "# Have a look (ipython)\n",
    "!cd && gnome-terminal --window-with-profile='lydia_white'\n",
    "!sleep 0.5 && xdotool type --delay 200 \"ipython\" && xdotool key Return\n",
    "!sleep 3 && xdotool type --delay 200 \"!idl\" && xdotool key Return\n",
    "!sleep 3 && xdotool key Ctrl+d\n",
    "!sleep 1 && xdotool type --delay 200 \"!csh -c sswidl\" && xdotool key Return"
   ]
  },
  {
   "cell_type": "markdown",
   "metadata": {
    "cell_style": "split"
   },
   "source": [
    "<center>http://jupyter.org/</center>\n",
    "<img style='float: center;' src='fig/jupyterlogo.png' />"
   ]
  },
  {
   "cell_type": "markdown",
   "metadata": {
    "cell_style": "split"
   },
   "source": [
    "<center>https://nbviewer.jupyter.org/</center>\n",
    "<img style='float: center;' src='fig/nbviewer.png' />"
   ]
  },
  {
   "cell_type": "markdown",
   "metadata": {},
   "source": [
    "参考文档\n",
    "http://jupyter-notebook.readthedocs.io/en/stable/"
   ]
  },
  {
   "cell_type": "markdown",
   "metadata": {},
   "source": [
    "* 打开 `jupyter notebook`:\n",
    "\n",
    "```\n",
    "$ jupyter notebook [filename]\n",
    "```"
   ]
  },
  {
   "cell_type": "markdown",
   "metadata": {},
   "source": [
    "## 常用包介绍\n",
    "---"
   ]
  },
  {
   "cell_type": "markdown",
   "metadata": {},
   "source": [
    "### Python 自带包和模块"
   ]
  },
  {
   "cell_type": "markdown",
   "metadata": {},
   "source": [
    "```python\n",
    "from math import * # 包含 pi 等, 但更推荐 numpy\n",
    "from copy import deepcopy\n",
    "from pprint import pprint  # 打印 list, dict 等更好看\n",
    "import requests\n",
    "import os\n",
    "import sys\n",
    "```"
   ]
  },
  {
   "cell_type": "markdown",
   "metadata": {},
   "source": [
    "### NumPy, SciPy"
   ]
  },
  {
   "cell_type": "markdown",
   "metadata": {},
   "source": [
    "#### 概览"
   ]
  },
  {
   "cell_type": "markdown",
   "metadata": {},
   "source": [
    "<center>https://www.scipy.org</center>\n",
    "<img src='fig/SciPy.png' />"
   ]
  },
  {
   "cell_type": "markdown",
   "metadata": {},
   "source": [
    "<center>http://scikit-image.org</center>\n",
    "<img src='fig/scikitlogo.png' />\n",
    "<img src='fig/skimage01.png' />"
   ]
  },
  {
   "cell_type": "code",
   "execution_count": 7,
   "metadata": {
    "init_cell": true
   },
   "outputs": [],
   "source": [
    "import numpy as np"
   ]
  },
  {
   "cell_type": "markdown",
   "metadata": {},
   "source": [
    "导入包的不同方式将在各例子中看到."
   ]
  },
  {
   "cell_type": "markdown",
   "metadata": {},
   "source": [
    "参考:\n",
    "* NumPy User Guide https://docs.scipy.org/doc/numpy/user/\n",
    "* NumPy Reference https://docs.scipy.org/doc/numpy/reference/\n",
    "* ndarray https://docs.scipy.org/doc/numpy/reference/arrays.ndarray.html\n",
    "* Array manipulation routines<br>https://docs.scipy.org/doc/numpy/reference/routines.array-manipulation.html\n",
    "* SciPy Cookbook http://scipy-cookbook.readthedocs.io/\n",
    "* 与 IDL 的语法对照\n",
    "    - http://mathesaurus.sourceforge.net/idl-numpy.html\n",
    "    - http://blog.rtwilson.com/ten-little-idl-programs-in-python/\n",
    "    - http://www.astrobetter.com/blog/2009/05/04/idl-vs-python/"
   ]
  },
  {
   "cell_type": "markdown",
   "metadata": {},
   "source": [
    "#### 生成 numpy.ndarray 数组"
   ]
  },
  {
   "cell_type": "markdown",
   "metadata": {},
   "source": [
    "将 list 或 tuple 转换为 `numpy.ndarray`\n",
    "```python\n",
    "import numpy as np\n",
    "a = np.array([0, 1, 2, 3, 4])\n",
    "# 切片(slice), 索引可以是 int 或 list (python list 只支持 list作为索引)\n",
    "a[0]          # 0\n",
    "a[-1]         # 4\n",
    "a[0:3]        # array([0, 1, 2]) 注意!\n",
    "a[:3]         # array([0, 1, 2])\n",
    "a[2:4]        # array([2, 3])\n",
    "a[2:-1]       # array([2, 3]) 注意!\n",
    "a[2:]         # array([2, 3, 4])\n",
    "a[0:4:2]      # array([0, 2])\n",
    "a[4:2:-1]     # array([4, 3])\n",
    "a[[1, 4, 3]]  # array([1, 4, 3]) 花式切片, 索引是一个 list (不能是tuple)\n",
    "```"
   ]
  },
  {
   "cell_type": "markdown",
   "metadata": {},
   "source": [
    "多维:"
   ]
  },
  {
   "cell_type": "code",
   "execution_count": 31,
   "metadata": {
    "cell_style": "center"
   },
   "outputs": [
    {
     "data": {
      "text/plain": [
       "array([[0, 1, 2],\n",
       "       [3, 4, 5]])"
      ]
     },
     "execution_count": 31,
     "metadata": {},
     "output_type": "execute_result"
    }
   ],
   "source": [
    "a = np.array([[0, 1, 2], [3, 4, 5]]); a"
   ]
  },
  {
   "cell_type": "code",
   "execution_count": 28,
   "metadata": {
    "cell_style": "center"
   },
   "outputs": [
    {
     "data": {
      "text/plain": [
       "array([[0, 1, 2],\n",
       "       [3, 4, 5]])"
      ]
     },
     "execution_count": 28,
     "metadata": {},
     "output_type": "execute_result"
    }
   ],
   "source": [
    "a = np.array(((0, 1, 2), (3, 4, 5))); a\n",
    "# 这里的tuple已转成ndarray, 于是结果是可变的"
   ]
  },
  {
   "cell_type": "code",
   "execution_count": 32,
   "metadata": {
    "cell_style": "split"
   },
   "outputs": [
    {
     "data": {
      "text/plain": [
       "1"
      ]
     },
     "execution_count": 32,
     "metadata": {},
     "output_type": "execute_result"
    }
   ],
   "source": [
    "a[0, 1]"
   ]
  },
  {
   "cell_type": "code",
   "execution_count": 33,
   "metadata": {
    "cell_style": "split"
   },
   "outputs": [
    {
     "data": {
      "text/plain": [
       "1"
      ]
     },
     "execution_count": 33,
     "metadata": {},
     "output_type": "execute_result"
    }
   ],
   "source": [
    "a[0][1]"
   ]
  },
  {
   "cell_type": "markdown",
   "metadata": {},
   "source": [
    "从一维数组转变为多维:"
   ]
  },
  {
   "cell_type": "code",
   "execution_count": 34,
   "metadata": {},
   "outputs": [
    {
     "data": {
      "text/plain": [
       "array([[ 0,  1,  2,  3],\n",
       "       [ 4,  5,  6,  7],\n",
       "       [ 8,  9, 10, 11]])"
      ]
     },
     "execution_count": 34,
     "metadata": {},
     "output_type": "execute_result"
    }
   ],
   "source": [
    "a = np.arange(12).reshape((3, -1)); a\n",
    "# reshape 的参数为 < 0 表示该维度自动判断元素个数\n",
    "# reshape 的参数是一个 list 或 tuple, 括号可以展开(详见帮助文档)\n",
    "# 此例中 reshape((3, 2)), reshape(3, 2), reshape((3, -1)), reshape(3, -1) 等价"
   ]
  },
  {
   "cell_type": "code",
   "execution_count": 35,
   "metadata": {},
   "outputs": [
    {
     "data": {
      "text/plain": [
       "array([ 0,  1,  2,  3,  4,  5,  6,  7,  8,  9, 10, 11])"
      ]
     },
     "execution_count": 35,
     "metadata": {},
     "output_type": "execute_result"
    }
   ],
   "source": [
    "b = a.reshape(-1); b  # reshape 的参数只有一个维度且 < 0(自动)  => 展开成一维"
   ]
  },
  {
   "cell_type": "markdown",
   "metadata": {},
   "source": [
    "花式切片的多维例子:"
   ]
  },
  {
   "cell_type": "code",
   "execution_count": 36,
   "metadata": {},
   "outputs": [
    {
     "data": {
      "text/plain": [
       "array([0, 6])"
      ]
     },
     "execution_count": 36,
     "metadata": {},
     "output_type": "execute_result"
    }
   ],
   "source": [
    "a = np.arange(12).reshape(3, -1)\n",
    "a[[0, 1],[0, 2]]\n",
    "# a[col_inds, row_inds], 此例等价于 a[[[0, 1], [0, 2]]], a[([0, 1], [0, 2])]"
   ]
  },
  {
   "cell_type": "markdown",
   "metadata": {},
   "source": [
    "* **np.zeros**(shape, dtype=float),&ensp;**np.ones**(shape, dtype=float)"
   ]
  },
  {
   "cell_type": "code",
   "execution_count": 37,
   "metadata": {
    "cell_style": "split"
   },
   "outputs": [
    {
     "data": {
      "text/plain": [
       "array([[0., 0., 0.],\n",
       "       [0., 0., 0.]])"
      ]
     },
     "execution_count": 37,
     "metadata": {},
     "output_type": "execute_result"
    }
   ],
   "source": [
    "np.zeros((2, 3))  # 默认浮点型"
   ]
  },
  {
   "cell_type": "code",
   "execution_count": 38,
   "metadata": {
    "cell_style": "split"
   },
   "outputs": [
    {
     "data": {
      "text/plain": [
       "array([[1., 1., 1.],\n",
       "       [1., 1., 1.]])"
      ]
     },
     "execution_count": 38,
     "metadata": {},
     "output_type": "execute_result"
    }
   ],
   "source": [
    "np.ones((2, 3))  # 默认浮点型"
   ]
  },
  {
   "cell_type": "markdown",
   "metadata": {},
   "source": [
    "* **np.arange**([start,] stop[, step,], dtype=None)"
   ]
  },
  {
   "cell_type": "markdown",
   "metadata": {},
   "source": [
    "生成的数组元素数据类型和参数一致.<br><br>\n",
    "方便记忆: 最简形式 `np.arange`(*N*) 中的整数 *N* 即为 *元素个数*."
   ]
  },
  {
   "cell_type": "code",
   "execution_count": 39,
   "metadata": {
    "cell_style": "split"
   },
   "outputs": [
    {
     "data": {
      "text/plain": [
       "array([[0, 1],\n",
       "       [2, 3],\n",
       "       [4, 5]])"
      ]
     },
     "execution_count": 39,
     "metadata": {},
     "output_type": "execute_result"
    }
   ],
   "source": [
    "np.arange(6).reshape((3, 2))"
   ]
  },
  {
   "cell_type": "code",
   "execution_count": 40,
   "metadata": {
    "cell_style": "split"
   },
   "outputs": [
    {
     "data": {
      "text/plain": [
       "array([[0, 1],\n",
       "       [2, 3],\n",
       "       [4, 5]])"
      ]
     },
     "execution_count": 40,
     "metadata": {},
     "output_type": "execute_result"
    }
   ],
   "source": [
    "np.arange(6).reshape((3, -1))"
   ]
  },
  {
   "cell_type": "markdown",
   "metadata": {},
   "source": [
    "* **np.linspace**(start, stop, num=50, **endpoint=True**, retstep=False, dtype=None)<br>\n",
    "默认生成的元素是浮点型<br>\n",
    "注意 `np.linspace` 和 `np.arange` 的不同规则"
   ]
  },
  {
   "cell_type": "code",
   "execution_count": 41,
   "metadata": {
    "cell_style": "split"
   },
   "outputs": [
    {
     "data": {
      "text/plain": [
       "array([0., 1.])"
      ]
     },
     "execution_count": 41,
     "metadata": {},
     "output_type": "execute_result"
    }
   ],
   "source": [
    "np.linspace(0, 1, 2)"
   ]
  },
  {
   "cell_type": "code",
   "execution_count": 42,
   "metadata": {
    "cell_style": "split"
   },
   "outputs": [
    {
     "data": {
      "text/plain": [
       "array([0. , 0.5])"
      ]
     },
     "execution_count": 42,
     "metadata": {},
     "output_type": "execute_result"
    }
   ],
   "source": [
    "np.linspace(0, 1, 2, endpoint=False) "
   ]
  },
  {
   "cell_type": "markdown",
   "metadata": {},
   "source": [
    "更多数组创建方法见 numpy 官网<br>\n",
    "https://docs.scipy.org/doc/numpy/reference/routines.array-creation.html<br>\n",
    "https://docs.scipy.org/doc/numpy/user/basics.creation.html#arrays-creation"
   ]
  },
  {
   "cell_type": "markdown",
   "metadata": {},
   "source": [
    "* 转置"
   ]
  },
  {
   "cell_type": "code",
   "execution_count": 43,
   "metadata": {},
   "outputs": [
    {
     "data": {
      "text/plain": [
       "array([[ 0,  1,  2,  3],\n",
       "       [ 4,  5,  6,  7],\n",
       "       [ 8,  9, 10, 11]])"
      ]
     },
     "execution_count": 43,
     "metadata": {},
     "output_type": "execute_result"
    }
   ],
   "source": [
    "a = np.arange(12).reshape(3, -1); a"
   ]
  },
  {
   "cell_type": "code",
   "execution_count": 37,
   "metadata": {},
   "outputs": [
    {
     "data": {
      "text/plain": [
       "array([[ 0,  4,  8],\n",
       "       [ 1,  5,  9],\n",
       "       [ 2,  6, 10],\n",
       "       [ 3,  7, 11]])"
      ]
     },
     "execution_count": 37,
     "metadata": {},
     "output_type": "execute_result"
    }
   ],
   "source": [
    "a.T"
   ]
  },
  {
   "cell_type": "markdown",
   "metadata": {},
   "source": [
    "更多数组操作见 numpy 官网 https://docs.scipy.org/doc/numpy/reference/routines.array-manipulation.html\n",
    "矩阵操作见 [python进阶#矩阵](advance.ipynb#矩阵)"
   ]
  },
  {
   "cell_type": "markdown",
   "metadata": {},
   "source": [
    "### Matplotlib"
   ]
  },
  {
   "cell_type": "markdown",
   "metadata": {},
   "source": [
    "* 官方示例 https://matplotlib.org/tutorials/index.html\n",
    "<img src='fig/Matplotlib.png' />\n",
    "<img src='fig/annotation_demo2_00.png' />\n",
    "<img src='fig/contour_demo_05.png' />"
   ]
  },
  {
   "cell_type": "markdown",
   "metadata": {},
   "source": [
    "* 官方教程 https://matplotlib.org/tutorials/introductory/usage.html"
   ]
  },
  {
   "cell_type": "code",
   "execution_count": 8,
   "metadata": {
    "init_cell": true
   },
   "outputs": [],
   "source": [
    "import matplotlib.pyplot as plt"
   ]
  },
  {
   "cell_type": "markdown",
   "metadata": {},
   "source": [
    "创建一个图像(三种写法皆可):"
   ]
  },
  {
   "cell_type": "code",
   "execution_count": null,
   "metadata": {},
   "outputs": [],
   "source": [
    "fig, ax = plt.subplots()"
   ]
  },
  {
   "cell_type": "code",
   "execution_count": null,
   "metadata": {},
   "outputs": [],
   "source": [
    "fig = plt.figure(1, (12, 6), dpi=100)\n",
    "ax = fig.add_subplot(111)  # 数字(ijk)表示: 这是一共i行j列中的组图中的第k个图"
   ]
  },
  {
   "cell_type": "code",
   "execution_count": null,
   "metadata": {},
   "outputs": [],
   "source": [
    "fig = plt.gcf()\n",
    "ax = plt.gca()"
   ]
  },
  {
   "cell_type": "markdown",
   "metadata": {},
   "source": [
    "获取帮助:"
   ]
  },
  {
   "cell_type": "code",
   "execution_count": null,
   "metadata": {
    "cell_style": "center"
   },
   "outputs": [],
   "source": [
    "help(ax)"
   ]
  },
  {
   "cell_type": "code",
   "execution_count": null,
   "metadata": {
    "code_folding": [],
    "deletable": false,
    "editable": false,
    "run_control": {
     "frozen": true
    }
   },
   "outputs": [],
   "source": [
    "# 查看某对象包含的方法\n",
    "ax.# <Tab>, <Shift-Tab>\n",
    "plt.# <Tab>, <Shift-Tab>"
   ]
  },
  {
   "cell_type": "markdown",
   "metadata": {},
   "source": [
    "例:"
   ]
  },
  {
   "cell_type": "code",
   "execution_count": 8,
   "metadata": {},
   "outputs": [],
   "source": [
    "%matplotlib?"
   ]
  },
  {
   "cell_type": "code",
   "execution_count": null,
   "metadata": {},
   "outputs": [],
   "source": [
    "%matplotlib\n",
    "%run -e 'examples/test_plot.py'"
   ]
  },
  {
   "cell_type": "code",
   "execution_count": null,
   "metadata": {
    "cell_style": "center",
    "code_folding": [],
    "scrolled": true
   },
   "outputs": [],
   "source": [
    "%matplotlib\n",
    "%run -e 'examples/test_imshow.py'"
   ]
  },
  {
   "cell_type": "markdown",
   "metadata": {},
   "source": [
    "* 颜色 https://matplotlib.org/examples/color/colormaps_reference.html\n",
    "* legend https://matplotlib.org/users/legend_guide.html\n",
    "<br>\n",
    "<img src='fig/named_colors.png' />"
   ]
  },
  {
   "cell_type": "markdown",
   "metadata": {},
   "source": [
    "### 天文相关包"
   ]
  },
  {
   "cell_type": "markdown",
   "metadata": {},
   "source": [
    "#### Astropy"
   ]
  },
  {
   "cell_type": "markdown",
   "metadata": {},
   "source": [
    "<img src='fig/astropy_banner.svg' />"
   ]
  },
  {
   "cell_type": "markdown",
   "metadata": {},
   "source": [
    "官方文档 http://docs.astropy.org/en/stable/index.html\n",
    "\n",
    "坐标系统 http://docs.astropy.org/en/stable/coordinates/index.html\n",
    "\n",
    "```python\n",
    "from astropy import units as u\n",
    "from astropy.coordinates import SkyCoord\n",
    "```\n",
    "\n",
    "参考 https://python4astronomers.github.io/astropy/astropy.html"
   ]
  },
  {
   "cell_type": "markdown",
   "metadata": {
    "cell_style": "center"
   },
   "source": [
    "#### SunPy"
   ]
  },
  {
   "cell_type": "markdown",
   "metadata": {},
   "source": [
    "<img src='fig/Screenshot_20180625-005924.png' />\n",
    "<img src='fig/sphx_glr_lat_lon_lines_001.png' />\n",
    "<img src='fig/sphx_glr_submaps_and_cropping_001.png' />\n",
    "<br><br>\n",
    "HMI 示例见 [python进阶#SunPy 示例](advance.ipynb#SunPy-示例)<br>\n",
    "https://coding.net/u/lydiazly/p/scripts-sunpy/git?public=true\n",
    "<br><br>\n",
    "* 参考<br>\n",
    "    - Gallery http://docs.sunpy.org/en/stable/generated/gallery/index.html\n",
    "    - SunPy Guide http://docs.sunpy.org/en/stable/guide/index.html\n",
    "    - SunPy Map http://docs.sunpy.org/en/stable/code_ref/map.html#sunpy.map.mapbase.GenericMap\n",
    "    - Example Gallery http://docs.sunpy.org/en/stable/generated/gallery/index.html\n",
    "    - A brief tour of SunPy http://docs.sunpy.org/en/stable/guide/tour.html\n",
    "    - Finding and Downloading Data using Fido http://docs.sunpy.org/en/stable/guide/acquiring_data/fido.html"
   ]
  },
  {
   "cell_type": "markdown",
   "metadata": {},
   "source": [
    "简单的例子(来自官网):"
   ]
  },
  {
   "cell_type": "code",
   "execution_count": 3,
   "metadata": {
    "scrolled": false
   },
   "outputs": [
    {
     "name": "stderr",
     "output_type": "stream",
     "text": [
      "/home/lydia/miniconda3/lib/python3.6/site-packages/sunpy/map/sources/sdo.py:48: SunpyDeprecationWarning: Use Matplotlib to load the colormaps\n",
      "  self.plot_settings['cmap'] = cm.get_cmap(self._get_cmap_name())\n"
     ]
    },
    {
     "data": {
      "image/png": "[encoded data removed]",
      "text/plain": [
       "<Figure size 500x500 with 2 Axes>"
      ]
     },
     "metadata": {},
     "output_type": "display_data"
    }
   ],
   "source": [
    "%matplotlib inline\n",
    "\n",
    "import sunpy.map\n",
    "import matplotlib.pyplot as plt\n",
    "import sunpy.data.sample\n",
    "\n",
    "aia = sunpy.map.Map(sunpy.data.sample.AIA_171_IMAGE)\n",
    "\n",
    "fig = plt.figure(1, (5, 5), dpi=100)\n",
    "ax = plt.subplot(111, projection=aia)\n",
    "\n",
    "aia.plot()\n",
    "aia.draw_limb()\n",
    "aia.draw_grid()\n",
    "aia.draw_limb()\n",
    "plt.colorbar();\n",
    "\n",
    "# plt.show()"
   ]
  },
  {
   "cell_type": "markdown",
   "metadata": {},
   "source": [
    "获取一些常数:"
   ]
  },
  {
   "cell_type": "code",
   "execution_count": 44,
   "metadata": {},
   "outputs": [
    {
     "name": "stdout",
     "output_type": "stream",
     "text": [
      "  Name   = Astronomical Unit\n",
      "  Value  = 149597870700.0\n",
      "  Uncertainty  = 0.0\n",
      "  Unit  = m\n",
      "  Reference = IAU 2012 Resolution B2\n"
     ]
    }
   ],
   "source": [
    "from sunpy.sun import constants as con\n",
    "# one astronomical unit (the average distance between the Sun and Earth)\n",
    "print(con.au)"
   ]
  },
  {
   "cell_type": "code",
   "execution_count": 45,
   "metadata": {},
   "outputs": [
    {
     "name": "stdout",
     "output_type": "stream",
     "text": [
      "  Name   = Solar radius\n",
      "  Value  = 695508000.0\n",
      "  Uncertainty  = 26000.0\n",
      "  Unit  = m\n",
      "  Reference = Allen's Astrophysical Quantities 4th Ed.\n"
     ]
    }
   ],
   "source": [
    "# the solar radius\n",
    "print(con.radius)"
   ]
  },
  {
   "cell_type": "markdown",
   "metadata": {},
   "source": [
    "## 常见数据文件读写\n",
    "---"
   ]
  },
  {
   "cell_type": "markdown",
   "metadata": {},
   "source": [
    "### 一般情况"
   ]
  },
  {
   "cell_type": "markdown",
   "metadata": {},
   "source": [
    "```python\n",
    "f = open(filename, 'w')  # 'w', 'r', ...\n",
    "...\n",
    "...\n",
    "f.close()\n",
    "```\n",
    "更好的用法:\n",
    "```python\n",
    "with open(filename, 'w') as f:  # 'w', 'r', ...\n",
    "    ...\n",
    "    ...\n",
    "```"
   ]
  },
  {
   "cell_type": "markdown",
   "metadata": {},
   "source": [
    "### txt, csv 文件读写"
   ]
  },
  {
   "cell_type": "markdown",
   "metadata": {},
   "source": [
    "* 逐行读取整行的方式:<br>\n",
    "使用 `strip` 可以用来去掉读入的每行末尾的 '\\n'"
   ]
  },
  {
   "cell_type": "code",
   "execution_count": 46,
   "metadata": {
    "code_folding": []
   },
   "outputs": [
    {
     "data": {
      "text/plain": [
       "[['col1', 'col2', 'col3'],\n",
       " ['row1', '1', '1e1'],\n",
       " ['row2', '2', '2e-1'],\n",
       " ['row3', '3', '3e+2']]"
      ]
     },
     "execution_count": 46,
     "metadata": {},
     "output_type": "execute_result"
    }
   ],
   "source": [
    "lines = []\n",
    "with open('data/data.csv', 'r') as f:\n",
    "    for line in f:\n",
    "        lines.append(line.strip().split(','))\n",
    "lines"
   ]
  },
  {
   "cell_type": "markdown",
   "metadata": {},
   "source": [
    "* 使用 numpy, 读取后直接转成数组的方式(推荐):<br>\n",
    "`np.loadtxt`,&ensp;`np.genfromtxt` (写文件是 `np.savetxt`)<br>\n",
    "超大文件读取建议用 pandas 包.\n",
    "\n",
    "e.g.\n",
    "\n",
    "```python\n",
    ">>> import numpy as np\n",
    ">>> arr = np.loadtxt(fname, skiprows=1, delimiter=',') # 默认分割符为空格\n",
    ">>> col1, col2 = np.loadtxt(fname, skiprows=1, usecols=(1, 2), unpack=True)\n",
    "```\n",
    "`np.genfromtxt` 和 `np.loadtxt` 类似, 增加了处理 missing values 的功能.<br>\n",
    "(但参数 skiprows=1 需替换为 skip_header=1)"
   ]
  },
  {
   "cell_type": "markdown",
   "metadata": {},
   "source": [
    "例 (这里使用功能更多的 `np.genfromtxt` 代替 `np.loadtxt`):"
   ]
  },
  {
   "cell_type": "code",
   "execution_count": 47,
   "metadata": {},
   "outputs": [
    {
     "name": "stdout",
     "output_type": "stream",
     "text": [
      "[('row1', 1) ('row2', 2) ('row3', 3)]\n"
     ]
    }
   ],
   "source": [
    "arr = np.genfromtxt('data/data.csv',\n",
    "                    skip_header=1,\n",
    "                    names=('col1', 'col2', 'col3'),\n",
    "                    dtype=('U15', 'int', 'float'),\n",
    "                    delimiter=',')\n",
    "print(arr[['col1', 'col2']])  # 设定了 names 之后, 可以用名称索引"
   ]
  },
  {
   "cell_type": "code",
   "execution_count": 48,
   "metadata": {},
   "outputs": [
    {
     "name": "stdout",
     "output_type": "stream",
     "text": [
      "[('row1', 0, 10. ) ('', 2,  0.2) ('row3', 3,  nan)]\n"
     ]
    }
   ],
   "source": [
    "arr = np.genfromtxt('data/data2.csv',\n",
    "                    skip_header=1,\n",
    "                    names=('col1', 'col2', 'col3'),\n",
    "                    dtype=('U15', 'int', 'float'),\n",
    "                    missing_values=None,\n",
    "                    filling_values=('', 0, np.nan),  # 分开指定\n",
    "                    delimiter=',')\n",
    "print(arr)"
   ]
  },
  {
   "cell_type": "markdown",
   "metadata": {},
   "source": [
    "* 一般而言, 对于一个由分隔符分隔的字符串, 转成一个数组的方式:<br>\n",
    "`np.fromstring(string, dtype=float, count=-1, sep='')`"
   ]
  },
  {
   "cell_type": "code",
   "execution_count": 49,
   "metadata": {
    "cell_style": "center"
   },
   "outputs": [
    {
     "data": {
      "text/plain": [
       "array([0, 1, 2])"
      ]
     },
     "execution_count": 49,
     "metadata": {},
     "output_type": "execute_result"
    }
   ],
   "source": [
    "np.fromstring('0 1 2', dtype=int, sep=' ')"
   ]
  },
  {
   "cell_type": "code",
   "execution_count": 50,
   "metadata": {
    "cell_style": "center"
   },
   "outputs": [
    {
     "data": {
      "text/plain": [
       "array([0., 1., 2.])"
      ]
     },
     "execution_count": 50,
     "metadata": {},
     "output_type": "execute_result"
    }
   ],
   "source": [
    "np.fromstring('0., 1., 2.', sep=',')"
   ]
  },
  {
   "cell_type": "markdown",
   "metadata": {},
   "source": [
    "### numpy save 文件读写"
   ]
  },
  {
   "cell_type": "markdown",
   "metadata": {},
   "source": [
    "```python\n",
    "np.save('fname', arr)  # 'fname.npy'\n",
    "np.savez('fname', arr)  # 'fname.npz', 多个变量\n",
    "np.savez_compressed('fname', arr)  # 'fname.npz', 多个变量 & 压缩\n",
    "np.load('fname.npz')  # Load the files created by savez_compressed.\n",
    "```"
   ]
  },
  {
   "cell_type": "code",
   "execution_count": 51,
   "metadata": {},
   "outputs": [],
   "source": [
    "# 存入\n",
    "arr = np.ones(5)  # 默认 `float64`\n",
    "np.savez('data/np_array', a=arr, b=0)"
   ]
  },
  {
   "cell_type": "code",
   "execution_count": 52,
   "metadata": {},
   "outputs": [
    {
     "name": "stdout",
     "output_type": "stream",
     "text": [
      "data/np_array.npz\r\n"
     ]
    }
   ],
   "source": [
    "ls data/*.npz"
   ]
  },
  {
   "cell_type": "code",
   "execution_count": 53,
   "metadata": {},
   "outputs": [
    {
     "name": "stdout",
     "output_type": "stream",
     "text": [
      "(array([1., 1., 1., 1., 1.]), array(0), 0)\n"
     ]
    }
   ],
   "source": [
    "# 载入\n",
    "data = np.load('data/np_array.npz')\n",
    "print((data['a'], data['b'], int(data['b'])))  # 默认以`ndarray`读取"
   ]
  },
  {
   "cell_type": "markdown",
   "metadata": {},
   "source": [
    "### IDL sav 文件读取"
   ]
  },
  {
   "cell_type": "markdown",
   "metadata": {},
   "source": [
    "```python\n",
    "from scipy.io.idl import readsav\n",
    "data = readsav('dname.sav', verbose=True, python_dict=False)\n",
    "```\n",
    "默认读出的是`scipy.io.idl.AttrDict`类型, 即 key 的大小写不敏感.<br>\n",
    "想要得到大小写敏感的 python dict, 设置 `python_dict=True` 即可.\n",
    "<br><br>\n",
    "例:"
   ]
  },
  {
   "cell_type": "code",
   "execution_count": 54,
   "metadata": {},
   "outputs": [
    {
     "name": "stdout",
     "output_type": "stream",
     "text": [
      "<class 'scipy.io.idl.AttrDict'>\n",
      "dict_keys(['x', 'y', 'str'])\n",
      "(25,)\n",
      "<class 'dict'>\n",
      "(25,)\n"
     ]
    }
   ],
   "source": [
    "from scipy.io.idl import readsav\n",
    "data = readsav('data/myidlfile.sav')\n",
    "print(type(data))\n",
    "print(data.keys())  # 注意返回的是一个`dict_keys`对象, 如需索引需要手动转为list\n",
    "print(data['X'].shape)  # 大小写不敏感\n",
    "data = readsav('data/myidlfile.sav', python_dict=True)\n",
    "print(type(data))\n",
    "print(data['x'].shape)  # 大小写敏感"
   ]
  },
  {
   "cell_type": "markdown",
   "metadata": {},
   "source": [
    "### FITS 文件读取"
   ]
  },
  {
   "cell_type": "markdown",
   "metadata": {},
   "source": [
    "* Astropy\n",
    "\n",
    "参考:<br>\n",
    "http://docs.astropy.org/en/stable/io/fits<br>\n",
    "https://python4astronomers.github.io/astropy/fits.html\n",
    "\n",
    "> [Note]<br>\n",
    "If you are already familiar with PyFITS, astropy.io.fits is in fact the same code as the latest version of PyFITS, and you can adapt old scripts that use PyFITS to use Astropy by simply doing:\n",
    "```python\n",
    "from astropy.io import fits as pyfits\n",
    "```\n",
    "However, for new scripts, we recommend the following import:\n",
    "```python\n",
    "from astropy.io import fits\n",
    "```\n",
    "\n",
    "`fits.open`\n",
    "```python\n",
    ">>> from astropy.io import fits\n",
    ">>> hdulist = fits.open('<filename>.fit')\n",
    ">>> hdulist.info()  # hdulist 是一个由 HDU objects 组成的类似列表的对象\n",
    "Filename: <filename>.fit\n",
    "No.    Name         Type      Cards   Dimensions   Format\n",
    "0    PRIMARY     PrimaryHDU    ...       ...        ...\n",
    "1    ENERGIES    BinTableHDU   ...       ...        ...\n",
    ">>> hdu = hdulist[0]\n",
    ">>> hdu.data  # ndarray\n",
    ">>> hdu.header['<key>']  # 得到某个 header keyword\n",
    "# 修改数据后\n",
    ">>> hdu.writeto('<filename>.fits') # 保存 HDU object\n",
    ">>> hdulist.writeto('<filename>.fits')  # 或保存整个表\n",
    "```\n",
    "```python\n",
    "# 创建一个 fits Primary HDU object\n",
    ">>> hdu = fits.PrimaryHDU()\n",
    ">>> hdu.writeto('<filename>.fits')  # 保存 HDU object\n",
    ">>> hdu.writeto('<filename>.fits', clobber=True)  # 保存到已存在文件\n",
    "```\n",
    "`fits.getdata`, `fits.getheader`\n",
    "```python\n",
    ">>> data = fits.getdata('<filename>.fit')\n",
    ">>> header = fits.getheader('<filename>.fit')\n",
    "```\n",
    "<br>\n",
    "* SunPy\n",
    "\n",
    "```python\n",
    ">>> import sunpy.io\n",
    ">>> hdulist = sunpy.io.read_file('<filename>.fits')  # 自动判断文件类型\n",
    "# or use `hdulist = sunpy.io.fits.read('<filename>.fits')`\n",
    ">>> hdu = hdulist[1]\n",
    ">>> hdu.data  # ndarray\n",
    "```\n",
    "```python\n",
    ">>> import sunpy.map\n",
    ">>> smap = sunpy.map.Map('<filename>.fits')\n",
    "# 得到一个 sunpy `GenericMap` object\n",
    "```"
   ]
  },
  {
   "cell_type": "markdown",
   "metadata": {},
   "source": [
    "例:"
   ]
  },
  {
   "cell_type": "code",
   "execution_count": 55,
   "metadata": {},
   "outputs": [],
   "source": [
    "from astropy.io import fits\n",
    "fname = 'scripts-sunpy/plothmi/data/hmi.B_720s.20150827_052400_TAI.field.fits'\n",
    "hdulist = fits.open(fname)"
   ]
  },
  {
   "cell_type": "code",
   "execution_count": 56,
   "metadata": {},
   "outputs": [
    {
     "name": "stdout",
     "output_type": "stream",
     "text": [
      "Filename: scripts-sunpy/plothmi/data/hmi.B_720s.20150827_052400_TAI.field.fits\n",
      "No.    Name      Ver    Type      Cards   Dimensions   Format\n",
      "  0  PRIMARY       1 PrimaryHDU       6   ()      \n",
      "  1                1 CompImageHDU    155   (4096, 4096)   int32   \n"
     ]
    }
   ],
   "source": [
    "hdulist.info()"
   ]
  },
  {
   "cell_type": "code",
   "execution_count": 57,
   "metadata": {},
   "outputs": [
    {
     "data": {
      "text/plain": [
       "(4096, 4096)"
      ]
     },
     "execution_count": 57,
     "metadata": {},
     "output_type": "execute_result"
    }
   ],
   "source": [
    "hdulist.verify('silentfix+warn')\n",
    "hdu = hdulist[1]\n",
    "hdu.data.shape"
   ]
  },
  {
   "cell_type": "code",
   "execution_count": 58,
   "metadata": {},
   "outputs": [
    {
     "data": {
      "text/plain": [
       "(4096, 4096)"
      ]
     },
     "execution_count": 58,
     "metadata": {},
     "output_type": "execute_result"
    }
   ],
   "source": [
    "import sunpy.io\n",
    "hdulist = sunpy.io.read_file(fname)\n",
    "hdu = hdulist[1]\n",
    "hdu.data.shape"
   ]
  },
  {
   "cell_type": "markdown",
   "metadata": {},
   "source": [
    "## 其他包和软件\n",
    "---"
   ]
  },
  {
   "cell_type": "markdown",
   "metadata": {},
   "source": [
    "* Astroconda https://astroconda.readthedocs.io/en/latest/\n",
    "> AstroConda is a free Conda channel maintained by the Space Telescope Science Institute (STScI) in Baltimore, Maryland. This channel provides tools and utilities required to process and analyze data from the Hubble Space Telescope (HST), James Webb Space Telescope (JWST), and others.\n",
    "<br><br>\n",
    "* Canopy https://www.enthought.com/product/canopy/\n",
    "> Enthought Canopy provides a proven scientific and analytic Python package distribution plus key integrated tools for iterative data analysis, data visualization, and application development. Users have the ability to extend and innovate with scripting and open platform APIs, driving the creation and sharing of innovative workflows, tools, and applications.\n",
    "<img src='fig/Canopy-Packages-min-1.png' >\n",
    "<br><br>\n",
    "* PyCharm https://www.jetbrains.com/pycharm/\n",
    "<img src='fig/pycharm.jpg' >\n",
    "<br><br>\n",
    "* Jupyterlab http://jupyterlab.readthedocs.io/en/stable/\n",
    "<img src='fig/jupyterlab.png' >"
   ]
  }
 ],
 "metadata": {
  "hide_input": false,
  "kernelspec": {
   "display_name": "Python 3 (ipykernel)",
   "language": "python",
   "name": "python3"
  },
  "language_info": {
   "codemirror_mode": {
    "name": "ipython",
    "version": 3
   },
   "file_extension": ".py",
   "mimetype": "text/x-python",
   "name": "python",
   "nbconvert_exporter": "python",
   "pygments_lexer": "ipython3",
   "version": "3.10.5"
  },
  "toc": {
   "base_numbering": 1,
   "nav_menu": {
    "height": "532px",
    "width": "501px"
   },
   "number_sections": true,
   "sideBar": true,
   "skip_h1_title": true,
   "title_cell": "",
   "title_sidebar": "",
   "toc_cell": true,
   "toc_position": {
    "height": "643px",
    "left": "1038px",
    "top": "95px",
    "width": "245px"
   },
   "toc_section_display": true,
   "toc_window_display": false
  },
  "varInspector": {
   "cols": {
    "lenName": 16,
    "lenType": 16,
    "lenVar": 40
   },
   "kernels_config": {
    "python": {
     "delete_cmd_postfix": "",
     "delete_cmd_prefix": "del ",
     "library": "var_list.py",
     "varRefreshCmd": "print(var_dic_list())"
    },
    "r": {
     "delete_cmd_postfix": ") ",
     "delete_cmd_prefix": "rm(",
     "library": "var_list.r",
     "varRefreshCmd": "cat(var_dic_list()) "
    }
   },
   "types_to_exclude": [
    "module",
    "function",
    "builtin_function_or_method",
    "instance",
    "_Feature"
   ],
   "window_display": false
  }
 },
 "nbformat": 4,
 "nbformat_minor": 2
}
